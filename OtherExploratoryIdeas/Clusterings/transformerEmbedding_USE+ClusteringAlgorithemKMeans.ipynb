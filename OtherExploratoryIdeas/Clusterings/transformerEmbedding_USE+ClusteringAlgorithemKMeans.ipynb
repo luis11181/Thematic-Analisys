{
  "cells": [
    {
      "cell_type": "markdown",
      "metadata": {
        "id": "8uehpqeRqyA8"
      },
      "source": [
        "# Aprender a programar Basic set up"
      ]
    },
    {
      "cell_type": "markdown",
      "metadata": {
        "id": "QHpSO6IVCvMn"
      },
      "source": [
        "notebook exploring LDA to see the number of clusters generated fr the survey data. To examine the best number of clusters we use coherence score c_v and u_mass; other methods like  silhouette coefﬁcient are not appropiate for LDA direct output data.\n",
        "\n",
        "\n",
        "-Results : obtained scores were low in general and very inconsistent.\n",
        "\n",
        "-Remarks:\n",
        "* the model is very sensitive, and small changes in the nomalization or preprocessing make complete different clusters and coherenec scores"
      ]
    },
    {
      "cell_type": "markdown",
      "metadata": {
        "id": "1Qr3CW5_Cu_C"
      },
      "source": [
        "#### install libraries"
      ]
    },
    {
      "cell_type": "code",
      "execution_count": null,
      "metadata": {
        "colab": {
          "base_uri": "https://localhost:8080/"
        },
        "id": "Pdy-5lB3395A",
        "outputId": "44cc64c7-88e7-454e-8df4-91dfa0253878"
      },
      "outputs": [
        {
          "output_type": "stream",
          "name": "stdout",
          "text": [
            "Looking in indexes: https://pypi.org/simple, https://us-python.pkg.dev/colab-wheels/public/simple/\n",
            "Requirement already satisfied: spacy in /usr/local/lib/python3.8/dist-packages (3.4.4)\n",
            "Collecting spacy\n",
            "  Downloading spacy-3.5.0-cp38-cp38-manylinux_2_17_x86_64.manylinux2014_x86_64.whl (6.7 MB)\n",
            "\u001b[2K     \u001b[90m━━━━━━━━━━━━━━━━━━━━━━━━━━━━━━━━━━━━━━━━\u001b[0m \u001b[32m6.7/6.7 MB\u001b[0m \u001b[31m77.7 MB/s\u001b[0m eta \u001b[36m0:00:00\u001b[0m\n",
            "\u001b[?25hRequirement already satisfied: packaging>=20.0 in /usr/local/lib/python3.8/dist-packages (from spacy) (23.0)\n",
            "Requirement already satisfied: pydantic!=1.8,!=1.8.1,<1.11.0,>=1.7.4 in /usr/local/lib/python3.8/dist-packages (from spacy) (1.10.5)\n",
            "Requirement already satisfied: spacy-legacy<3.1.0,>=3.0.11 in /usr/local/lib/python3.8/dist-packages (from spacy) (3.0.12)\n",
            "Requirement already satisfied: murmurhash<1.1.0,>=0.28.0 in /usr/local/lib/python3.8/dist-packages (from spacy) (1.0.9)\n",
            "Requirement already satisfied: spacy-loggers<2.0.0,>=1.0.0 in /usr/local/lib/python3.8/dist-packages (from spacy) (1.0.4)\n",
            "Requirement already satisfied: typer<0.8.0,>=0.3.0 in /usr/local/lib/python3.8/dist-packages (from spacy) (0.7.0)\n",
            "Requirement already satisfied: requests<3.0.0,>=2.13.0 in /usr/local/lib/python3.8/dist-packages (from spacy) (2.25.1)\n",
            "Requirement already satisfied: setuptools in /usr/local/lib/python3.8/dist-packages (from spacy) (57.4.0)\n",
            "Requirement already satisfied: srsly<3.0.0,>=2.4.3 in /usr/local/lib/python3.8/dist-packages (from spacy) (2.4.5)\n",
            "Requirement already satisfied: thinc<8.2.0,>=8.1.0 in /usr/local/lib/python3.8/dist-packages (from spacy) (8.1.7)\n",
            "Requirement already satisfied: cymem<2.1.0,>=2.0.2 in /usr/local/lib/python3.8/dist-packages (from spacy) (2.0.7)\n",
            "Requirement already satisfied: tqdm<5.0.0,>=4.38.0 in /usr/local/lib/python3.8/dist-packages (from spacy) (4.64.1)\n",
            "Requirement already satisfied: catalogue<2.1.0,>=2.0.6 in /usr/local/lib/python3.8/dist-packages (from spacy) (2.0.8)\n",
            "Requirement already satisfied: pathy>=0.10.0 in /usr/local/lib/python3.8/dist-packages (from spacy) (0.10.1)\n",
            "Requirement already satisfied: jinja2 in /usr/local/lib/python3.8/dist-packages (from spacy) (3.1.2)\n",
            "Requirement already satisfied: wasabi<1.2.0,>=0.9.1 in /usr/local/lib/python3.8/dist-packages (from spacy) (0.10.1)\n",
            "Requirement already satisfied: smart-open<7.0.0,>=5.2.1 in /usr/local/lib/python3.8/dist-packages (from spacy) (6.3.0)\n",
            "Requirement already satisfied: preshed<3.1.0,>=3.0.2 in /usr/local/lib/python3.8/dist-packages (from spacy) (3.0.8)\n",
            "Requirement already satisfied: numpy>=1.15.0 in /usr/local/lib/python3.8/dist-packages (from spacy) (1.22.4)\n",
            "Requirement already satisfied: langcodes<4.0.0,>=3.2.0 in /usr/local/lib/python3.8/dist-packages (from spacy) (3.3.0)\n",
            "Requirement already satisfied: typing-extensions>=4.2.0 in /usr/local/lib/python3.8/dist-packages (from pydantic!=1.8,!=1.8.1,<1.11.0,>=1.7.4->spacy) (4.5.0)\n",
            "Requirement already satisfied: idna<3,>=2.5 in /usr/local/lib/python3.8/dist-packages (from requests<3.0.0,>=2.13.0->spacy) (2.10)\n",
            "Requirement already satisfied: urllib3<1.27,>=1.21.1 in /usr/local/lib/python3.8/dist-packages (from requests<3.0.0,>=2.13.0->spacy) (1.26.14)\n",
            "Requirement already satisfied: certifi>=2017.4.17 in /usr/local/lib/python3.8/dist-packages (from requests<3.0.0,>=2.13.0->spacy) (2022.12.7)\n",
            "Requirement already satisfied: chardet<5,>=3.0.2 in /usr/local/lib/python3.8/dist-packages (from requests<3.0.0,>=2.13.0->spacy) (4.0.0)\n",
            "Requirement already satisfied: blis<0.8.0,>=0.7.8 in /usr/local/lib/python3.8/dist-packages (from thinc<8.2.0,>=8.1.0->spacy) (0.7.9)\n",
            "Requirement already satisfied: confection<1.0.0,>=0.0.1 in /usr/local/lib/python3.8/dist-packages (from thinc<8.2.0,>=8.1.0->spacy) (0.0.4)\n",
            "Requirement already satisfied: click<9.0.0,>=7.1.1 in /usr/local/lib/python3.8/dist-packages (from typer<0.8.0,>=0.3.0->spacy) (8.1.3)\n",
            "Requirement already satisfied: MarkupSafe>=2.0 in /usr/local/lib/python3.8/dist-packages (from jinja2->spacy) (2.1.2)\n",
            "Installing collected packages: spacy\n",
            "  Attempting uninstall: spacy\n",
            "    Found existing installation: spacy 3.4.4\n",
            "    Uninstalling spacy-3.4.4:\n",
            "      Successfully uninstalled spacy-3.4.4\n",
            "\u001b[31mERROR: pip's dependency resolver does not currently take into account all the packages that are installed. This behaviour is the source of the following dependency conflicts.\n",
            "en-core-web-sm 3.4.1 requires spacy<3.5.0,>=3.4.0, but you have spacy 3.5.0 which is incompatible.\u001b[0m\u001b[31m\n",
            "\u001b[0mSuccessfully installed spacy-3.5.0\n",
            "/usr/local/lib/python3.8/dist-packages/torch/cuda/__init__.py:497: UserWarning: Can't initialize NVML\n",
            "  warnings.warn(\"Can't initialize NVML\")\n",
            "2023-02-28 20:07:03.549204: I tensorflow/core/platform/cpu_feature_guard.cc:193] This TensorFlow binary is optimized with oneAPI Deep Neural Network Library (oneDNN) to use the following CPU instructions in performance-critical operations:  AVX2 FMA\n",
            "To enable them in other operations, rebuild TensorFlow with the appropriate compiler flags.\n",
            "2023-02-28 20:07:04.791562: W tensorflow/compiler/xla/stream_executor/platform/default/dso_loader.cc:64] Could not load dynamic library 'libnvinfer.so.7'; dlerror: libnvinfer.so.7: cannot open shared object file: No such file or directory; LD_LIBRARY_PATH: /usr/local/nvidia/lib:/usr/local/nvidia/lib64\n",
            "2023-02-28 20:07:04.791673: W tensorflow/compiler/xla/stream_executor/platform/default/dso_loader.cc:64] Could not load dynamic library 'libnvinfer_plugin.so.7'; dlerror: libnvinfer_plugin.so.7: cannot open shared object file: No such file or directory; LD_LIBRARY_PATH: /usr/local/nvidia/lib:/usr/local/nvidia/lib64\n",
            "2023-02-28 20:07:04.791694: W tensorflow/compiler/tf2tensorrt/utils/py_utils.cc:38] TF-TRT Warning: Cannot dlopen some TensorRT libraries. If you would like to use Nvidia GPU with TensorRT, please make sure the missing libraries mentioned above are installed properly.\n",
            "2023-02-28 20:07:06.434976: E tensorflow/compiler/xla/stream_executor/cuda/cuda_driver.cc:267] failed call to cuInit: CUDA_ERROR_NO_DEVICE: no CUDA-capable device is detected\n",
            "\u001b[38;5;3m⚠ As of spaCy v3.0, shortcuts like 'es' are deprecated. Please use the\n",
            "full pipeline package name 'es_core_news_sm' instead.\u001b[0m\n",
            "Looking in indexes: https://pypi.org/simple, https://us-python.pkg.dev/colab-wheels/public/simple/\n",
            "Collecting es-core-news-sm==3.5.0\n",
            "  Downloading https://github.com/explosion/spacy-models/releases/download/es_core_news_sm-3.5.0/es_core_news_sm-3.5.0-py3-none-any.whl (12.9 MB)\n",
            "\u001b[2K     \u001b[90m━━━━━━━━━━━━━━━━━━━━━━━━━━━━━━━━━━━━━━━━\u001b[0m \u001b[32m12.9/12.9 MB\u001b[0m \u001b[31m74.7 MB/s\u001b[0m eta \u001b[36m0:00:00\u001b[0m\n",
            "\u001b[?25hRequirement already satisfied: spacy<3.6.0,>=3.5.0 in /usr/local/lib/python3.8/dist-packages (from es-core-news-sm==3.5.0) (3.5.0)\n",
            "Requirement already satisfied: langcodes<4.0.0,>=3.2.0 in /usr/local/lib/python3.8/dist-packages (from spacy<3.6.0,>=3.5.0->es-core-news-sm==3.5.0) (3.3.0)\n",
            "Requirement already satisfied: cymem<2.1.0,>=2.0.2 in /usr/local/lib/python3.8/dist-packages (from spacy<3.6.0,>=3.5.0->es-core-news-sm==3.5.0) (2.0.7)\n",
            "Requirement already satisfied: packaging>=20.0 in /usr/local/lib/python3.8/dist-packages (from spacy<3.6.0,>=3.5.0->es-core-news-sm==3.5.0) (23.0)\n",
            "Requirement already satisfied: numpy>=1.15.0 in /usr/local/lib/python3.8/dist-packages (from spacy<3.6.0,>=3.5.0->es-core-news-sm==3.5.0) (1.22.4)\n",
            "Requirement already satisfied: murmurhash<1.1.0,>=0.28.0 in /usr/local/lib/python3.8/dist-packages (from spacy<3.6.0,>=3.5.0->es-core-news-sm==3.5.0) (1.0.9)\n",
            "Requirement already satisfied: thinc<8.2.0,>=8.1.0 in /usr/local/lib/python3.8/dist-packages (from spacy<3.6.0,>=3.5.0->es-core-news-sm==3.5.0) (8.1.7)\n",
            "Requirement already satisfied: wasabi<1.2.0,>=0.9.1 in /usr/local/lib/python3.8/dist-packages (from spacy<3.6.0,>=3.5.0->es-core-news-sm==3.5.0) (0.10.1)\n",
            "Requirement already satisfied: preshed<3.1.0,>=3.0.2 in /usr/local/lib/python3.8/dist-packages (from spacy<3.6.0,>=3.5.0->es-core-news-sm==3.5.0) (3.0.8)\n",
            "Requirement already satisfied: pathy>=0.10.0 in /usr/local/lib/python3.8/dist-packages (from spacy<3.6.0,>=3.5.0->es-core-news-sm==3.5.0) (0.10.1)\n",
            "Requirement already satisfied: srsly<3.0.0,>=2.4.3 in /usr/local/lib/python3.8/dist-packages (from spacy<3.6.0,>=3.5.0->es-core-news-sm==3.5.0) (2.4.5)\n",
            "Requirement already satisfied: jinja2 in /usr/local/lib/python3.8/dist-packages (from spacy<3.6.0,>=3.5.0->es-core-news-sm==3.5.0) (3.1.2)\n",
            "Requirement already satisfied: requests<3.0.0,>=2.13.0 in /usr/local/lib/python3.8/dist-packages (from spacy<3.6.0,>=3.5.0->es-core-news-sm==3.5.0) (2.25.1)\n",
            "Requirement already satisfied: smart-open<7.0.0,>=5.2.1 in /usr/local/lib/python3.8/dist-packages (from spacy<3.6.0,>=3.5.0->es-core-news-sm==3.5.0) (6.3.0)\n",
            "Requirement already satisfied: catalogue<2.1.0,>=2.0.6 in /usr/local/lib/python3.8/dist-packages (from spacy<3.6.0,>=3.5.0->es-core-news-sm==3.5.0) (2.0.8)\n",
            "Requirement already satisfied: spacy-loggers<2.0.0,>=1.0.0 in /usr/local/lib/python3.8/dist-packages (from spacy<3.6.0,>=3.5.0->es-core-news-sm==3.5.0) (1.0.4)\n",
            "Requirement already satisfied: setuptools in /usr/local/lib/python3.8/dist-packages (from spacy<3.6.0,>=3.5.0->es-core-news-sm==3.5.0) (57.4.0)\n",
            "Requirement already satisfied: pydantic!=1.8,!=1.8.1,<1.11.0,>=1.7.4 in /usr/local/lib/python3.8/dist-packages (from spacy<3.6.0,>=3.5.0->es-core-news-sm==3.5.0) (1.10.5)\n",
            "Requirement already satisfied: spacy-legacy<3.1.0,>=3.0.11 in /usr/local/lib/python3.8/dist-packages (from spacy<3.6.0,>=3.5.0->es-core-news-sm==3.5.0) (3.0.12)\n",
            "Requirement already satisfied: typer<0.8.0,>=0.3.0 in /usr/local/lib/python3.8/dist-packages (from spacy<3.6.0,>=3.5.0->es-core-news-sm==3.5.0) (0.7.0)\n",
            "Requirement already satisfied: tqdm<5.0.0,>=4.38.0 in /usr/local/lib/python3.8/dist-packages (from spacy<3.6.0,>=3.5.0->es-core-news-sm==3.5.0) (4.64.1)\n",
            "Requirement already satisfied: typing-extensions>=4.2.0 in /usr/local/lib/python3.8/dist-packages (from pydantic!=1.8,!=1.8.1,<1.11.0,>=1.7.4->spacy<3.6.0,>=3.5.0->es-core-news-sm==3.5.0) (4.5.0)\n",
            "Requirement already satisfied: urllib3<1.27,>=1.21.1 in /usr/local/lib/python3.8/dist-packages (from requests<3.0.0,>=2.13.0->spacy<3.6.0,>=3.5.0->es-core-news-sm==3.5.0) (1.26.14)\n",
            "Requirement already satisfied: certifi>=2017.4.17 in /usr/local/lib/python3.8/dist-packages (from requests<3.0.0,>=2.13.0->spacy<3.6.0,>=3.5.0->es-core-news-sm==3.5.0) (2022.12.7)\n",
            "Requirement already satisfied: chardet<5,>=3.0.2 in /usr/local/lib/python3.8/dist-packages (from requests<3.0.0,>=2.13.0->spacy<3.6.0,>=3.5.0->es-core-news-sm==3.5.0) (4.0.0)\n",
            "Requirement already satisfied: idna<3,>=2.5 in /usr/local/lib/python3.8/dist-packages (from requests<3.0.0,>=2.13.0->spacy<3.6.0,>=3.5.0->es-core-news-sm==3.5.0) (2.10)\n",
            "Requirement already satisfied: confection<1.0.0,>=0.0.1 in /usr/local/lib/python3.8/dist-packages (from thinc<8.2.0,>=8.1.0->spacy<3.6.0,>=3.5.0->es-core-news-sm==3.5.0) (0.0.4)\n",
            "Requirement already satisfied: blis<0.8.0,>=0.7.8 in /usr/local/lib/python3.8/dist-packages (from thinc<8.2.0,>=8.1.0->spacy<3.6.0,>=3.5.0->es-core-news-sm==3.5.0) (0.7.9)\n",
            "Requirement already satisfied: click<9.0.0,>=7.1.1 in /usr/local/lib/python3.8/dist-packages (from typer<0.8.0,>=0.3.0->spacy<3.6.0,>=3.5.0->es-core-news-sm==3.5.0) (8.1.3)\n",
            "Requirement already satisfied: MarkupSafe>=2.0 in /usr/local/lib/python3.8/dist-packages (from jinja2->spacy<3.6.0,>=3.5.0->es-core-news-sm==3.5.0) (2.1.2)\n",
            "Installing collected packages: es-core-news-sm\n",
            "Successfully installed es-core-news-sm-3.5.0\n",
            "\u001b[38;5;2m✔ Download and installation successful\u001b[0m\n",
            "You can now load the package via spacy.load('es_core_news_sm')\n",
            "/usr/local/lib/python3.8/dist-packages/torch/cuda/__init__.py:497: UserWarning: Can't initialize NVML\n",
            "  warnings.warn(\"Can't initialize NVML\")\n",
            "2023-02-28 20:07:15.232750: I tensorflow/core/platform/cpu_feature_guard.cc:193] This TensorFlow binary is optimized with oneAPI Deep Neural Network Library (oneDNN) to use the following CPU instructions in performance-critical operations:  AVX2 FMA\n",
            "To enable them in other operations, rebuild TensorFlow with the appropriate compiler flags.\n",
            "2023-02-28 20:07:16.796971: W tensorflow/compiler/xla/stream_executor/platform/default/dso_loader.cc:64] Could not load dynamic library 'libnvinfer.so.7'; dlerror: libnvinfer.so.7: cannot open shared object file: No such file or directory; LD_LIBRARY_PATH: /usr/local/nvidia/lib:/usr/local/nvidia/lib64\n",
            "2023-02-28 20:07:16.797114: W tensorflow/compiler/xla/stream_executor/platform/default/dso_loader.cc:64] Could not load dynamic library 'libnvinfer_plugin.so.7'; dlerror: libnvinfer_plugin.so.7: cannot open shared object file: No such file or directory; LD_LIBRARY_PATH: /usr/local/nvidia/lib:/usr/local/nvidia/lib64\n",
            "2023-02-28 20:07:16.797141: W tensorflow/compiler/tf2tensorrt/utils/py_utils.cc:38] TF-TRT Warning: Cannot dlopen some TensorRT libraries. If you would like to use Nvidia GPU with TensorRT, please make sure the missing libraries mentioned above are installed properly.\n",
            "2023-02-28 20:07:18.886655: E tensorflow/compiler/xla/stream_executor/cuda/cuda_driver.cc:267] failed call to cuInit: CUDA_ERROR_NO_DEVICE: no CUDA-capable device is detected\n",
            "Looking in indexes: https://pypi.org/simple, https://us-python.pkg.dev/colab-wheels/public/simple/\n",
            "Collecting es-core-news-md==3.5.0\n",
            "  Downloading https://github.com/explosion/spacy-models/releases/download/es_core_news_md-3.5.0/es_core_news_md-3.5.0-py3-none-any.whl (42.3 MB)\n",
            "\u001b[2K     \u001b[90m━━━━━━━━━━━━━━━━━━━━━━━━━━━━━━━━━━━━━━━━\u001b[0m \u001b[32m42.3/42.3 MB\u001b[0m \u001b[31m17.5 MB/s\u001b[0m eta \u001b[36m0:00:00\u001b[0m\n",
            "\u001b[?25hRequirement already satisfied: spacy<3.6.0,>=3.5.0 in /usr/local/lib/python3.8/dist-packages (from es-core-news-md==3.5.0) (3.5.0)\n",
            "Requirement already satisfied: srsly<3.0.0,>=2.4.3 in /usr/local/lib/python3.8/dist-packages (from spacy<3.6.0,>=3.5.0->es-core-news-md==3.5.0) (2.4.5)\n",
            "Requirement already satisfied: typer<0.8.0,>=0.3.0 in /usr/local/lib/python3.8/dist-packages (from spacy<3.6.0,>=3.5.0->es-core-news-md==3.5.0) (0.7.0)\n",
            "Requirement already satisfied: packaging>=20.0 in /usr/local/lib/python3.8/dist-packages (from spacy<3.6.0,>=3.5.0->es-core-news-md==3.5.0) (23.0)\n",
            "Requirement already satisfied: jinja2 in /usr/local/lib/python3.8/dist-packages (from spacy<3.6.0,>=3.5.0->es-core-news-md==3.5.0) (3.1.2)\n",
            "Requirement already satisfied: wasabi<1.2.0,>=0.9.1 in /usr/local/lib/python3.8/dist-packages (from spacy<3.6.0,>=3.5.0->es-core-news-md==3.5.0) (0.10.1)\n",
            "Requirement already satisfied: spacy-legacy<3.1.0,>=3.0.11 in /usr/local/lib/python3.8/dist-packages (from spacy<3.6.0,>=3.5.0->es-core-news-md==3.5.0) (3.0.12)\n",
            "Requirement already satisfied: preshed<3.1.0,>=3.0.2 in /usr/local/lib/python3.8/dist-packages (from spacy<3.6.0,>=3.5.0->es-core-news-md==3.5.0) (3.0.8)\n",
            "Requirement already satisfied: numpy>=1.15.0 in /usr/local/lib/python3.8/dist-packages (from spacy<3.6.0,>=3.5.0->es-core-news-md==3.5.0) (1.22.4)\n",
            "Requirement already satisfied: smart-open<7.0.0,>=5.2.1 in /usr/local/lib/python3.8/dist-packages (from spacy<3.6.0,>=3.5.0->es-core-news-md==3.5.0) (6.3.0)\n",
            "Requirement already satisfied: spacy-loggers<2.0.0,>=1.0.0 in /usr/local/lib/python3.8/dist-packages (from spacy<3.6.0,>=3.5.0->es-core-news-md==3.5.0) (1.0.4)\n",
            "Requirement already satisfied: pydantic!=1.8,!=1.8.1,<1.11.0,>=1.7.4 in /usr/local/lib/python3.8/dist-packages (from spacy<3.6.0,>=3.5.0->es-core-news-md==3.5.0) (1.10.5)\n",
            "Requirement already satisfied: thinc<8.2.0,>=8.1.0 in /usr/local/lib/python3.8/dist-packages (from spacy<3.6.0,>=3.5.0->es-core-news-md==3.5.0) (8.1.7)\n",
            "Requirement already satisfied: setuptools in /usr/local/lib/python3.8/dist-packages (from spacy<3.6.0,>=3.5.0->es-core-news-md==3.5.0) (57.4.0)\n",
            "Requirement already satisfied: requests<3.0.0,>=2.13.0 in /usr/local/lib/python3.8/dist-packages (from spacy<3.6.0,>=3.5.0->es-core-news-md==3.5.0) (2.25.1)\n",
            "Requirement already satisfied: cymem<2.1.0,>=2.0.2 in /usr/local/lib/python3.8/dist-packages (from spacy<3.6.0,>=3.5.0->es-core-news-md==3.5.0) (2.0.7)\n",
            "Requirement already satisfied: murmurhash<1.1.0,>=0.28.0 in /usr/local/lib/python3.8/dist-packages (from spacy<3.6.0,>=3.5.0->es-core-news-md==3.5.0) (1.0.9)\n",
            "Requirement already satisfied: catalogue<2.1.0,>=2.0.6 in /usr/local/lib/python3.8/dist-packages (from spacy<3.6.0,>=3.5.0->es-core-news-md==3.5.0) (2.0.8)\n",
            "Requirement already satisfied: pathy>=0.10.0 in /usr/local/lib/python3.8/dist-packages (from spacy<3.6.0,>=3.5.0->es-core-news-md==3.5.0) (0.10.1)\n",
            "Requirement already satisfied: langcodes<4.0.0,>=3.2.0 in /usr/local/lib/python3.8/dist-packages (from spacy<3.6.0,>=3.5.0->es-core-news-md==3.5.0) (3.3.0)\n",
            "Requirement already satisfied: tqdm<5.0.0,>=4.38.0 in /usr/local/lib/python3.8/dist-packages (from spacy<3.6.0,>=3.5.0->es-core-news-md==3.5.0) (4.64.1)\n",
            "Requirement already satisfied: typing-extensions>=4.2.0 in /usr/local/lib/python3.8/dist-packages (from pydantic!=1.8,!=1.8.1,<1.11.0,>=1.7.4->spacy<3.6.0,>=3.5.0->es-core-news-md==3.5.0) (4.5.0)\n",
            "Requirement already satisfied: idna<3,>=2.5 in /usr/local/lib/python3.8/dist-packages (from requests<3.0.0,>=2.13.0->spacy<3.6.0,>=3.5.0->es-core-news-md==3.5.0) (2.10)\n",
            "Requirement already satisfied: certifi>=2017.4.17 in /usr/local/lib/python3.8/dist-packages (from requests<3.0.0,>=2.13.0->spacy<3.6.0,>=3.5.0->es-core-news-md==3.5.0) (2022.12.7)\n",
            "Requirement already satisfied: chardet<5,>=3.0.2 in /usr/local/lib/python3.8/dist-packages (from requests<3.0.0,>=2.13.0->spacy<3.6.0,>=3.5.0->es-core-news-md==3.5.0) (4.0.0)\n",
            "Requirement already satisfied: urllib3<1.27,>=1.21.1 in /usr/local/lib/python3.8/dist-packages (from requests<3.0.0,>=2.13.0->spacy<3.6.0,>=3.5.0->es-core-news-md==3.5.0) (1.26.14)\n",
            "Requirement already satisfied: confection<1.0.0,>=0.0.1 in /usr/local/lib/python3.8/dist-packages (from thinc<8.2.0,>=8.1.0->spacy<3.6.0,>=3.5.0->es-core-news-md==3.5.0) (0.0.4)\n",
            "Requirement already satisfied: blis<0.8.0,>=0.7.8 in /usr/local/lib/python3.8/dist-packages (from thinc<8.2.0,>=8.1.0->spacy<3.6.0,>=3.5.0->es-core-news-md==3.5.0) (0.7.9)\n",
            "Requirement already satisfied: click<9.0.0,>=7.1.1 in /usr/local/lib/python3.8/dist-packages (from typer<0.8.0,>=0.3.0->spacy<3.6.0,>=3.5.0->es-core-news-md==3.5.0) (8.1.3)\n",
            "Requirement already satisfied: MarkupSafe>=2.0 in /usr/local/lib/python3.8/dist-packages (from jinja2->spacy<3.6.0,>=3.5.0->es-core-news-md==3.5.0) (2.1.2)\n",
            "Installing collected packages: es-core-news-md\n",
            "Successfully installed es-core-news-md-3.5.0\n",
            "\u001b[38;5;2m✔ Download and installation successful\u001b[0m\n",
            "You can now load the package via spacy.load('es_core_news_md')\n"
          ]
        },
        {
          "output_type": "stream",
          "name": "stderr",
          "text": [
            "/usr/local/lib/python3.8/dist-packages/torch/cuda/__init__.py:497: UserWarning: Can't initialize NVML\n",
            "  warnings.warn(\"Can't initialize NVML\")\n"
          ]
        },
        {
          "output_type": "stream",
          "name": "stdout",
          "text": [
            "Looking in indexes: https://pypi.org/simple, https://us-python.pkg.dev/colab-wheels/public/simple/\n",
            "Collecting kneed\n",
            "  Downloading kneed-0.8.2-py3-none-any.whl (10 kB)\n",
            "Requirement already satisfied: scipy>=1.0.0 in /usr/local/lib/python3.8/dist-packages (from kneed) (1.7.3)\n",
            "Requirement already satisfied: numpy>=1.14.2 in /usr/local/lib/python3.8/dist-packages (from kneed) (1.22.4)\n",
            "Installing collected packages: kneed\n",
            "Successfully installed kneed-0.8.2\n",
            "Looking in indexes: https://pypi.org/simple, https://us-python.pkg.dev/colab-wheels/public/simple/\n",
            "Requirement already satisfied: ipython in /usr/local/lib/python3.8/dist-packages (7.9.0)\n",
            "Requirement already satisfied: backcall in /usr/local/lib/python3.8/dist-packages (from ipython) (0.2.0)\n",
            "Collecting jedi>=0.10\n",
            "  Downloading jedi-0.18.2-py2.py3-none-any.whl (1.6 MB)\n",
            "\u001b[2K     \u001b[90m━━━━━━━━━━━━━━━━━━━━━━━━━━━━━━━━━━━━━━━━\u001b[0m \u001b[32m1.6/1.6 MB\u001b[0m \u001b[31m50.9 MB/s\u001b[0m eta \u001b[36m0:00:00\u001b[0m\n",
            "\u001b[?25hRequirement already satisfied: pexpect in /usr/local/lib/python3.8/dist-packages (from ipython) (4.8.0)\n",
            "Requirement already satisfied: prompt-toolkit<2.1.0,>=2.0.0 in /usr/local/lib/python3.8/dist-packages (from ipython) (2.0.10)\n",
            "Requirement already satisfied: setuptools>=18.5 in /usr/local/lib/python3.8/dist-packages (from ipython) (57.4.0)\n",
            "Requirement already satisfied: pickleshare in /usr/local/lib/python3.8/dist-packages (from ipython) (0.7.5)\n",
            "Requirement already satisfied: decorator in /usr/local/lib/python3.8/dist-packages (from ipython) (4.4.2)\n",
            "Requirement already satisfied: pygments in /usr/local/lib/python3.8/dist-packages (from ipython) (2.6.1)\n",
            "Requirement already satisfied: traitlets>=4.2 in /usr/local/lib/python3.8/dist-packages (from ipython) (5.7.1)\n",
            "Requirement already satisfied: parso<0.9.0,>=0.8.0 in /usr/local/lib/python3.8/dist-packages (from jedi>=0.10->ipython) (0.8.3)\n",
            "Requirement already satisfied: six>=1.9.0 in /usr/local/lib/python3.8/dist-packages (from prompt-toolkit<2.1.0,>=2.0.0->ipython) (1.15.0)\n",
            "Requirement already satisfied: wcwidth in /usr/local/lib/python3.8/dist-packages (from prompt-toolkit<2.1.0,>=2.0.0->ipython) (0.2.6)\n",
            "Requirement already satisfied: ptyprocess>=0.5 in /usr/local/lib/python3.8/dist-packages (from pexpect->ipython) (0.7.0)\n",
            "Installing collected packages: jedi\n",
            "Successfully installed jedi-0.18.2\n"
          ]
        }
      ],
      "source": [
        "import re\n",
        "import numpy as np\n",
        "import pandas as pd\n",
        "from pprint import pprint\n",
        "\n",
        "# sklearn\n",
        "from sklearn.model_selection import train_test_split\n",
        "from sklearn.datasets import make_blobs\n",
        "from sklearn.cluster import KMeans\n",
        "from sklearn.metrics import silhouette_score\n",
        "from sklearn.preprocessing import StandardScaler\n",
        "from sklearn.metrics.pairwise import euclidean_distances\n",
        "from sklearn.metrics.pairwise import cosine_similarity\n",
        "from sklearn import preprocessing  # to normalize data for cosine similarity\n",
        "\n",
        "# Gensim\n",
        "import gensim\n",
        "import gensim.corpora as corpora\n",
        "from gensim.utils import simple_preprocess\n",
        "#from gensim.models import CoherenceModel\n",
        "\n",
        "# spacy for lemmatization\n",
        "!pip install -U spacy\n",
        "!python -m spacy download es\n",
        "!python -m spacy download es_core_news_md\n",
        "import spacy\n",
        "\n",
        "# Plotting tools\n",
        "#!pip install pyLDAvis\n",
        "#import pyLDAvis\n",
        "#import pyLDAvis.gensim_models as gensimvis\n",
        "import matplotlib.pyplot as plt\n",
        "%matplotlib inline\n",
        "\n",
        "\n",
        "#knee locator for clustering\n",
        "!pip install kneed\n",
        "!pip install ipython\n",
        "from kneed import KneeLocator\n",
        "\n",
        "# Enable logging for gensim - optional\n",
        "import logging\n",
        "logging.basicConfig(format='%(asctime)s : %(levelname)s : %(message)s', level=logging.ERROR)\n",
        "\n",
        "import warnings\n",
        "warnings.filterwarnings(\"ignore\",category=DeprecationWarning)"
      ]
    },
    {
      "cell_type": "code",
      "execution_count": null,
      "metadata": {
        "colab": {
          "base_uri": "https://localhost:8080/"
        },
        "id": "y5_1SM9Gy4fT",
        "outputId": "fb553268-3601-4184-e6d4-62de1cb63403"
      },
      "outputs": [
        {
          "output_type": "stream",
          "name": "stdout",
          "text": [
            "2.11.0\n"
          ]
        }
      ],
      "source": [
        "#!pip install tensorflow==2.9.*\n",
        "import tensorflow as tf\n",
        "print(tf.__version__)"
      ]
    },
    {
      "cell_type": "code",
      "execution_count": null,
      "metadata": {
        "colab": {
          "base_uri": "https://localhost:8080/"
        },
        "id": "U9lDTHgoxMQx",
        "outputId": "5a243268-0e9d-4057-c0c2-c5239484ee38"
      },
      "outputs": [
        {
          "output_type": "stream",
          "name": "stdout",
          "text": [
            "\u001b[?25l     \u001b[90m━━━━━━━━━━━━━━━━━━━━━━━━━━━━━━━━━━━━━━━━\u001b[0m \u001b[32m0.0/5.8 MB\u001b[0m \u001b[31m?\u001b[0m eta \u001b[36m-:--:--\u001b[0m\r\u001b[2K     \u001b[91m━━━━━━━━━━━━━━━\u001b[0m\u001b[91m╸\u001b[0m\u001b[90m━━━━━━━━━━━━━━━━━━━━━━━━\u001b[0m \u001b[32m2.3/5.8 MB\u001b[0m \u001b[31m67.4 MB/s\u001b[0m eta \u001b[36m0:00:01\u001b[0m\r\u001b[2K     \u001b[91m━━━━━━━━━━━━━━━━━━━━━━━━━━━━━━━━━━━━━━━\u001b[0m\u001b[91m╸\u001b[0m \u001b[32m5.8/5.8 MB\u001b[0m \u001b[31m85.8 MB/s\u001b[0m eta \u001b[36m0:00:01\u001b[0m\r\u001b[2K     \u001b[91m━━━━━━━━━━━━━━━━━━━━━━━━━━━━━━━━━━━━━━━\u001b[0m\u001b[91m╸\u001b[0m \u001b[32m5.8/5.8 MB\u001b[0m \u001b[31m85.8 MB/s\u001b[0m eta \u001b[36m0:00:01\u001b[0m\r\u001b[2K     \u001b[90m━━━━━━━━━━━━━━━━━━━━━━━━━━━━━━━━━━━━━━━━\u001b[0m \u001b[32m5.8/5.8 MB\u001b[0m \u001b[31m50.5 MB/s\u001b[0m eta \u001b[36m0:00:00\u001b[0m\n",
            "\u001b[?25h"
          ]
        }
      ],
      "source": [
        "#tf_version = str(tf.__version__)[:-2]\n",
        "#print(tf_version)\n",
        "!pip install --quiet tensorflow-text==2.11.*"
      ]
    },
    {
      "cell_type": "code",
      "execution_count": null,
      "metadata": {
        "id": "ndR5Mz2NrlHU"
      },
      "outputs": [],
      "source": [
        "import string\n",
        "import seaborn as sns\n",
        "nlp = spacy.load('es_core_news_md')"
      ]
    },
    {
      "cell_type": "code",
      "execution_count": null,
      "metadata": {
        "colab": {
          "base_uri": "https://localhost:8080/"
        },
        "id": "eQvNsYA4qHf6",
        "outputId": "04b42b6e-2c22-4380-e91a-9905789acaef"
      },
      "outputs": [
        {
          "output_type": "stream",
          "name": "stdout",
          "text": [
            "Mounted at /content/mydrive\n"
          ]
        }
      ],
      "source": [
        "#from google.colab import files\n",
        "#upload = files.upload()\n",
        "from google.colab import drive\n",
        "drive.mount('/content/mydrive')"
      ]
    },
    {
      "cell_type": "code",
      "execution_count": null,
      "metadata": {
        "colab": {
          "base_uri": "https://localhost:8080/",
          "height": 1000
        },
        "id": "SqFcgDDwqzbO",
        "outputId": "a4b5ae45-4287-4258-c9c7-ae78467fdf3c"
      },
      "outputs": [
        {
          "output_type": "execute_result",
          "data": {
            "text/plain": [
              "                                               comment  ambiente  \\\n",
              "0    A traves de la plataforma pude ir practicando ...         0   \n",
              "1    A traves de los ejercicios propuestos en la he...         0   \n",
              "2    A veces UNCode no dejaba correr por cosas triv...         0   \n",
              "3    A veces es poco practico y da errores por cosa...         0   \n",
              "4    A veces la pagina era muy lenta, y al principi...         0   \n",
              "..                                                 ...       ...   \n",
              "342  si porque gracias a el pude constatar que mis ...         0   \n",
              "343  si, ya que es bastante sencillo e intuitivo a ...         0   \n",
              "344  solo lo use para enviar los talleres ya que lo...         0   \n",
              "345  uno de los aspectos que considero que mas me c...         0   \n",
              "346  ya que proporcionaba todas las herramientas ne...         0   \n",
              "\n",
              "     bondadesPlataforma  CbondadesPlataformaCcasosPrueba  \\\n",
              "0                     1                                0   \n",
              "1                     1                                0   \n",
              "2                     0                                0   \n",
              "3                     0                                0   \n",
              "4                     0                                0   \n",
              "..                  ...                              ...   \n",
              "342                   0                                0   \n",
              "343                   1                                0   \n",
              "344                   0                                0   \n",
              "345                   1                                0   \n",
              "346                   1                                0   \n",
              "\n",
              "     CbondadesPlataformaCconocerErrores  \\\n",
              "0                                     0   \n",
              "1                                     0   \n",
              "2                                     0   \n",
              "3                                     0   \n",
              "4                                     0   \n",
              "..                                  ...   \n",
              "342                                   0   \n",
              "343                                   0   \n",
              "344                                   0   \n",
              "345                                   0   \n",
              "346                                   0   \n",
              "\n",
              "     CbondadesPlataformaCconsejosFormativos  \\\n",
              "0                                         0   \n",
              "1                                         0   \n",
              "2                                         0   \n",
              "3                                         0   \n",
              "4                                         0   \n",
              "..                                      ...   \n",
              "342                                       0   \n",
              "343                                       0   \n",
              "344                                       0   \n",
              "345                                       0   \n",
              "346                                       0   \n",
              "\n",
              "     CbondadesPlataformaCdisponibilidadLinea  \\\n",
              "0                                          0   \n",
              "1                                          0   \n",
              "2                                          0   \n",
              "3                                          0   \n",
              "4                                          0   \n",
              "..                                       ...   \n",
              "342                                        0   \n",
              "343                                        0   \n",
              "344                                        0   \n",
              "345                                        0   \n",
              "346                                        0   \n",
              "\n",
              "     CbondadesPlataformaCespacioTrabajo  CbondadesPlataformaCfacilidadUso  \\\n",
              "0                                     0                                 0   \n",
              "1                                     0                                 0   \n",
              "2                                     0                                 0   \n",
              "3                                     0                                 0   \n",
              "4                                     0                                 0   \n",
              "..                                  ...                               ...   \n",
              "342                                   0                                 0   \n",
              "343                                   0                                 1   \n",
              "344                                   0                                 0   \n",
              "345                                   0                                 0   \n",
              "346                                   0                                 0   \n",
              "\n",
              "     CbondadesPlataformaClenguajes  ...  \\\n",
              "0                                0  ...   \n",
              "1                                0  ...   \n",
              "2                                0  ...   \n",
              "3                                0  ...   \n",
              "4                                0  ...   \n",
              "..                             ...  ...   \n",
              "342                              0  ...   \n",
              "343                              0  ...   \n",
              "344                              0  ...   \n",
              "345                              0  ...   \n",
              "346                              1  ...   \n",
              "\n",
              "     ClogrosPedagogicosCresolucionProblemas  \\\n",
              "0                                         0   \n",
              "1                                         0   \n",
              "2                                         0   \n",
              "3                                         0   \n",
              "4                                         0   \n",
              "..                                      ...   \n",
              "342                                       1   \n",
              "343                                       0   \n",
              "344                                       0   \n",
              "345                                       0   \n",
              "346                                       0   \n",
              "\n",
              "     CMejorableAprenderProgramarCfallasGenerales  \\\n",
              "0                                              0   \n",
              "1                                              0   \n",
              "2                                              0   \n",
              "3                                              1   \n",
              "4                                              0   \n",
              "..                                           ...   \n",
              "342                                            0   \n",
              "343                                            0   \n",
              "344                                            0   \n",
              "345                                            0   \n",
              "346                                            0   \n",
              "\n",
              "     CMejorableAprenderProgramarCinflexibilidad  \\\n",
              "0                                             0   \n",
              "1                                             0   \n",
              "2                                             1   \n",
              "3                                             1   \n",
              "4                                             0   \n",
              "..                                          ...   \n",
              "342                                           0   \n",
              "343                                           0   \n",
              "344                                           0   \n",
              "345                                           0   \n",
              "346                                           0   \n",
              "\n",
              "     CMejorableAprenderProgramarCobjetivoEducativo  \\\n",
              "0                                                0   \n",
              "1                                                0   \n",
              "2                                                0   \n",
              "3                                                0   \n",
              "4                                                0   \n",
              "..                                             ...   \n",
              "342                                              0   \n",
              "343                                              0   \n",
              "344                                              0   \n",
              "345                                              0   \n",
              "346                                              0   \n",
              "\n",
              "     CMejorableAprenderProgramarCretroalimentacionInsuficiente  \\\n",
              "0                                                    0           \n",
              "1                                                    0           \n",
              "2                                                    0           \n",
              "3                                                    0           \n",
              "4                                                    0           \n",
              "..                                                 ...           \n",
              "342                                                  0           \n",
              "343                                                  0           \n",
              "344                                                  0           \n",
              "345                                                  0           \n",
              "346                                                  0           \n",
              "\n",
              "     CMejorableAprenderProgramarCsustituible  colab  HerramientasUNcode  \\\n",
              "0                                          0      0                   0   \n",
              "1                                          0      0                   0   \n",
              "2                                          0      1                   0   \n",
              "3                                          0      0                   0   \n",
              "4                                          0      0                   0   \n",
              "..                                       ...    ...                 ...   \n",
              "342                                        0      0                   0   \n",
              "343                                        0      0                   0   \n",
              "344                                        0      0                   0   \n",
              "345                                        0      0                   1   \n",
              "346                                        0      0                   1   \n",
              "\n",
              "     logrosPedagogicos  MejorableAprenderProgramar  \n",
              "0                    0                           0  \n",
              "1                    1                           0  \n",
              "2                    0                           0  \n",
              "3                    0                           0  \n",
              "4                    1                           0  \n",
              "..                 ...                         ...  \n",
              "342                  1                           0  \n",
              "343                  0                           0  \n",
              "344                  1                           0  \n",
              "345                  0                           0  \n",
              "346                  1                           0  \n",
              "\n",
              "[347 rows x 29 columns]"
            ],
            "text/html": [
              "\n",
              "  <div id=\"df-41be1e78-ef38-4f43-b35a-e75d9caf887a\">\n",
              "    <div class=\"colab-df-container\">\n",
              "      <div>\n",
              "<style scoped>\n",
              "    .dataframe tbody tr th:only-of-type {\n",
              "        vertical-align: middle;\n",
              "    }\n",
              "\n",
              "    .dataframe tbody tr th {\n",
              "        vertical-align: top;\n",
              "    }\n",
              "\n",
              "    .dataframe thead th {\n",
              "        text-align: right;\n",
              "    }\n",
              "</style>\n",
              "<table border=\"1\" class=\"dataframe\">\n",
              "  <thead>\n",
              "    <tr style=\"text-align: right;\">\n",
              "      <th></th>\n",
              "      <th>comment</th>\n",
              "      <th>ambiente</th>\n",
              "      <th>bondadesPlataforma</th>\n",
              "      <th>CbondadesPlataformaCcasosPrueba</th>\n",
              "      <th>CbondadesPlataformaCconocerErrores</th>\n",
              "      <th>CbondadesPlataformaCconsejosFormativos</th>\n",
              "      <th>CbondadesPlataformaCdisponibilidadLinea</th>\n",
              "      <th>CbondadesPlataformaCespacioTrabajo</th>\n",
              "      <th>CbondadesPlataformaCfacilidadUso</th>\n",
              "      <th>CbondadesPlataformaClenguajes</th>\n",
              "      <th>...</th>\n",
              "      <th>ClogrosPedagogicosCresolucionProblemas</th>\n",
              "      <th>CMejorableAprenderProgramarCfallasGenerales</th>\n",
              "      <th>CMejorableAprenderProgramarCinflexibilidad</th>\n",
              "      <th>CMejorableAprenderProgramarCobjetivoEducativo</th>\n",
              "      <th>CMejorableAprenderProgramarCretroalimentacionInsuficiente</th>\n",
              "      <th>CMejorableAprenderProgramarCsustituible</th>\n",
              "      <th>colab</th>\n",
              "      <th>HerramientasUNcode</th>\n",
              "      <th>logrosPedagogicos</th>\n",
              "      <th>MejorableAprenderProgramar</th>\n",
              "    </tr>\n",
              "  </thead>\n",
              "  <tbody>\n",
              "    <tr>\n",
              "      <th>0</th>\n",
              "      <td>A traves de la plataforma pude ir practicando ...</td>\n",
              "      <td>0</td>\n",
              "      <td>1</td>\n",
              "      <td>0</td>\n",
              "      <td>0</td>\n",
              "      <td>0</td>\n",
              "      <td>0</td>\n",
              "      <td>0</td>\n",
              "      <td>0</td>\n",
              "      <td>0</td>\n",
              "      <td>...</td>\n",
              "      <td>0</td>\n",
              "      <td>0</td>\n",
              "      <td>0</td>\n",
              "      <td>0</td>\n",
              "      <td>0</td>\n",
              "      <td>0</td>\n",
              "      <td>0</td>\n",
              "      <td>0</td>\n",
              "      <td>0</td>\n",
              "      <td>0</td>\n",
              "    </tr>\n",
              "    <tr>\n",
              "      <th>1</th>\n",
              "      <td>A traves de los ejercicios propuestos en la he...</td>\n",
              "      <td>0</td>\n",
              "      <td>1</td>\n",
              "      <td>0</td>\n",
              "      <td>0</td>\n",
              "      <td>0</td>\n",
              "      <td>0</td>\n",
              "      <td>0</td>\n",
              "      <td>0</td>\n",
              "      <td>0</td>\n",
              "      <td>...</td>\n",
              "      <td>0</td>\n",
              "      <td>0</td>\n",
              "      <td>0</td>\n",
              "      <td>0</td>\n",
              "      <td>0</td>\n",
              "      <td>0</td>\n",
              "      <td>0</td>\n",
              "      <td>0</td>\n",
              "      <td>1</td>\n",
              "      <td>0</td>\n",
              "    </tr>\n",
              "    <tr>\n",
              "      <th>2</th>\n",
              "      <td>A veces UNCode no dejaba correr por cosas triv...</td>\n",
              "      <td>0</td>\n",
              "      <td>0</td>\n",
              "      <td>0</td>\n",
              "      <td>0</td>\n",
              "      <td>0</td>\n",
              "      <td>0</td>\n",
              "      <td>0</td>\n",
              "      <td>0</td>\n",
              "      <td>0</td>\n",
              "      <td>...</td>\n",
              "      <td>0</td>\n",
              "      <td>0</td>\n",
              "      <td>1</td>\n",
              "      <td>0</td>\n",
              "      <td>0</td>\n",
              "      <td>0</td>\n",
              "      <td>1</td>\n",
              "      <td>0</td>\n",
              "      <td>0</td>\n",
              "      <td>0</td>\n",
              "    </tr>\n",
              "    <tr>\n",
              "      <th>3</th>\n",
              "      <td>A veces es poco practico y da errores por cosa...</td>\n",
              "      <td>0</td>\n",
              "      <td>0</td>\n",
              "      <td>0</td>\n",
              "      <td>0</td>\n",
              "      <td>0</td>\n",
              "      <td>0</td>\n",
              "      <td>0</td>\n",
              "      <td>0</td>\n",
              "      <td>0</td>\n",
              "      <td>...</td>\n",
              "      <td>0</td>\n",
              "      <td>1</td>\n",
              "      <td>1</td>\n",
              "      <td>0</td>\n",
              "      <td>0</td>\n",
              "      <td>0</td>\n",
              "      <td>0</td>\n",
              "      <td>0</td>\n",
              "      <td>0</td>\n",
              "      <td>0</td>\n",
              "    </tr>\n",
              "    <tr>\n",
              "      <th>4</th>\n",
              "      <td>A veces la pagina era muy lenta, y al principi...</td>\n",
              "      <td>0</td>\n",
              "      <td>0</td>\n",
              "      <td>0</td>\n",
              "      <td>0</td>\n",
              "      <td>0</td>\n",
              "      <td>0</td>\n",
              "      <td>0</td>\n",
              "      <td>0</td>\n",
              "      <td>0</td>\n",
              "      <td>...</td>\n",
              "      <td>0</td>\n",
              "      <td>0</td>\n",
              "      <td>0</td>\n",
              "      <td>0</td>\n",
              "      <td>0</td>\n",
              "      <td>0</td>\n",
              "      <td>0</td>\n",
              "      <td>0</td>\n",
              "      <td>1</td>\n",
              "      <td>0</td>\n",
              "    </tr>\n",
              "    <tr>\n",
              "      <th>...</th>\n",
              "      <td>...</td>\n",
              "      <td>...</td>\n",
              "      <td>...</td>\n",
              "      <td>...</td>\n",
              "      <td>...</td>\n",
              "      <td>...</td>\n",
              "      <td>...</td>\n",
              "      <td>...</td>\n",
              "      <td>...</td>\n",
              "      <td>...</td>\n",
              "      <td>...</td>\n",
              "      <td>...</td>\n",
              "      <td>...</td>\n",
              "      <td>...</td>\n",
              "      <td>...</td>\n",
              "      <td>...</td>\n",
              "      <td>...</td>\n",
              "      <td>...</td>\n",
              "      <td>...</td>\n",
              "      <td>...</td>\n",
              "      <td>...</td>\n",
              "    </tr>\n",
              "    <tr>\n",
              "      <th>342</th>\n",
              "      <td>si porque gracias a el pude constatar que mis ...</td>\n",
              "      <td>0</td>\n",
              "      <td>0</td>\n",
              "      <td>0</td>\n",
              "      <td>0</td>\n",
              "      <td>0</td>\n",
              "      <td>0</td>\n",
              "      <td>0</td>\n",
              "      <td>0</td>\n",
              "      <td>0</td>\n",
              "      <td>...</td>\n",
              "      <td>1</td>\n",
              "      <td>0</td>\n",
              "      <td>0</td>\n",
              "      <td>0</td>\n",
              "      <td>0</td>\n",
              "      <td>0</td>\n",
              "      <td>0</td>\n",
              "      <td>0</td>\n",
              "      <td>1</td>\n",
              "      <td>0</td>\n",
              "    </tr>\n",
              "    <tr>\n",
              "      <th>343</th>\n",
              "      <td>si, ya que es bastante sencillo e intuitivo a ...</td>\n",
              "      <td>0</td>\n",
              "      <td>1</td>\n",
              "      <td>0</td>\n",
              "      <td>0</td>\n",
              "      <td>0</td>\n",
              "      <td>0</td>\n",
              "      <td>0</td>\n",
              "      <td>1</td>\n",
              "      <td>0</td>\n",
              "      <td>...</td>\n",
              "      <td>0</td>\n",
              "      <td>0</td>\n",
              "      <td>0</td>\n",
              "      <td>0</td>\n",
              "      <td>0</td>\n",
              "      <td>0</td>\n",
              "      <td>0</td>\n",
              "      <td>0</td>\n",
              "      <td>0</td>\n",
              "      <td>0</td>\n",
              "    </tr>\n",
              "    <tr>\n",
              "      <th>344</th>\n",
              "      <td>solo lo use para enviar los talleres ya que lo...</td>\n",
              "      <td>0</td>\n",
              "      <td>0</td>\n",
              "      <td>0</td>\n",
              "      <td>0</td>\n",
              "      <td>0</td>\n",
              "      <td>0</td>\n",
              "      <td>0</td>\n",
              "      <td>0</td>\n",
              "      <td>0</td>\n",
              "      <td>...</td>\n",
              "      <td>0</td>\n",
              "      <td>0</td>\n",
              "      <td>0</td>\n",
              "      <td>0</td>\n",
              "      <td>0</td>\n",
              "      <td>0</td>\n",
              "      <td>0</td>\n",
              "      <td>0</td>\n",
              "      <td>1</td>\n",
              "      <td>0</td>\n",
              "    </tr>\n",
              "    <tr>\n",
              "      <th>345</th>\n",
              "      <td>uno de los aspectos que considero que mas me c...</td>\n",
              "      <td>0</td>\n",
              "      <td>1</td>\n",
              "      <td>0</td>\n",
              "      <td>0</td>\n",
              "      <td>0</td>\n",
              "      <td>0</td>\n",
              "      <td>0</td>\n",
              "      <td>0</td>\n",
              "      <td>0</td>\n",
              "      <td>...</td>\n",
              "      <td>0</td>\n",
              "      <td>0</td>\n",
              "      <td>0</td>\n",
              "      <td>0</td>\n",
              "      <td>0</td>\n",
              "      <td>0</td>\n",
              "      <td>0</td>\n",
              "      <td>1</td>\n",
              "      <td>0</td>\n",
              "      <td>0</td>\n",
              "    </tr>\n",
              "    <tr>\n",
              "      <th>346</th>\n",
              "      <td>ya que proporcionaba todas las herramientas ne...</td>\n",
              "      <td>0</td>\n",
              "      <td>1</td>\n",
              "      <td>0</td>\n",
              "      <td>0</td>\n",
              "      <td>0</td>\n",
              "      <td>0</td>\n",
              "      <td>0</td>\n",
              "      <td>0</td>\n",
              "      <td>1</td>\n",
              "      <td>...</td>\n",
              "      <td>0</td>\n",
              "      <td>0</td>\n",
              "      <td>0</td>\n",
              "      <td>0</td>\n",
              "      <td>0</td>\n",
              "      <td>0</td>\n",
              "      <td>0</td>\n",
              "      <td>1</td>\n",
              "      <td>1</td>\n",
              "      <td>0</td>\n",
              "    </tr>\n",
              "  </tbody>\n",
              "</table>\n",
              "<p>347 rows × 29 columns</p>\n",
              "</div>\n",
              "      <button class=\"colab-df-convert\" onclick=\"convertToInteractive('df-41be1e78-ef38-4f43-b35a-e75d9caf887a')\"\n",
              "              title=\"Convert this dataframe to an interactive table.\"\n",
              "              style=\"display:none;\">\n",
              "        \n",
              "  <svg xmlns=\"http://www.w3.org/2000/svg\" height=\"24px\"viewBox=\"0 0 24 24\"\n",
              "       width=\"24px\">\n",
              "    <path d=\"M0 0h24v24H0V0z\" fill=\"none\"/>\n",
              "    <path d=\"M18.56 5.44l.94 2.06.94-2.06 2.06-.94-2.06-.94-.94-2.06-.94 2.06-2.06.94zm-11 1L8.5 8.5l.94-2.06 2.06-.94-2.06-.94L8.5 2.5l-.94 2.06-2.06.94zm10 10l.94 2.06.94-2.06 2.06-.94-2.06-.94-.94-2.06-.94 2.06-2.06.94z\"/><path d=\"M17.41 7.96l-1.37-1.37c-.4-.4-.92-.59-1.43-.59-.52 0-1.04.2-1.43.59L10.3 9.45l-7.72 7.72c-.78.78-.78 2.05 0 2.83L4 21.41c.39.39.9.59 1.41.59.51 0 1.02-.2 1.41-.59l7.78-7.78 2.81-2.81c.8-.78.8-2.07 0-2.86zM5.41 20L4 18.59l7.72-7.72 1.47 1.35L5.41 20z\"/>\n",
              "  </svg>\n",
              "      </button>\n",
              "      \n",
              "  <style>\n",
              "    .colab-df-container {\n",
              "      display:flex;\n",
              "      flex-wrap:wrap;\n",
              "      gap: 12px;\n",
              "    }\n",
              "\n",
              "    .colab-df-convert {\n",
              "      background-color: #E8F0FE;\n",
              "      border: none;\n",
              "      border-radius: 50%;\n",
              "      cursor: pointer;\n",
              "      display: none;\n",
              "      fill: #1967D2;\n",
              "      height: 32px;\n",
              "      padding: 0 0 0 0;\n",
              "      width: 32px;\n",
              "    }\n",
              "\n",
              "    .colab-df-convert:hover {\n",
              "      background-color: #E2EBFA;\n",
              "      box-shadow: 0px 1px 2px rgba(60, 64, 67, 0.3), 0px 1px 3px 1px rgba(60, 64, 67, 0.15);\n",
              "      fill: #174EA6;\n",
              "    }\n",
              "\n",
              "    [theme=dark] .colab-df-convert {\n",
              "      background-color: #3B4455;\n",
              "      fill: #D2E3FC;\n",
              "    }\n",
              "\n",
              "    [theme=dark] .colab-df-convert:hover {\n",
              "      background-color: #434B5C;\n",
              "      box-shadow: 0px 1px 3px 1px rgba(0, 0, 0, 0.15);\n",
              "      filter: drop-shadow(0px 1px 2px rgba(0, 0, 0, 0.3));\n",
              "      fill: #FFFFFF;\n",
              "    }\n",
              "  </style>\n",
              "\n",
              "      <script>\n",
              "        const buttonEl =\n",
              "          document.querySelector('#df-41be1e78-ef38-4f43-b35a-e75d9caf887a button.colab-df-convert');\n",
              "        buttonEl.style.display =\n",
              "          google.colab.kernel.accessAllowed ? 'block' : 'none';\n",
              "\n",
              "        async function convertToInteractive(key) {\n",
              "          const element = document.querySelector('#df-41be1e78-ef38-4f43-b35a-e75d9caf887a');\n",
              "          const dataTable =\n",
              "            await google.colab.kernel.invokeFunction('convertToInteractive',\n",
              "                                                     [key], {});\n",
              "          if (!dataTable) return;\n",
              "\n",
              "          const docLinkHtml = 'Like what you see? Visit the ' +\n",
              "            '<a target=\"_blank\" href=https://colab.research.google.com/notebooks/data_table.ipynb>data table notebook</a>'\n",
              "            + ' to learn more about interactive tables.';\n",
              "          element.innerHTML = '';\n",
              "          dataTable['output_type'] = 'display_data';\n",
              "          await google.colab.output.renderOutput(dataTable, element);\n",
              "          const docLink = document.createElement('div');\n",
              "          docLink.innerHTML = docLinkHtml;\n",
              "          element.appendChild(docLink);\n",
              "        }\n",
              "      </script>\n",
              "    </div>\n",
              "  </div>\n",
              "  "
            ]
          },
          "metadata": {},
          "execution_count": 6
        }
      ],
      "source": [
        "df = pd.read_csv(r'/content/mydrive/MyDrive/luis/study/master/tesis/automaticLabels/aprenderAProgramarfinalDataFrame.csv',sep=';')\n",
        "df"
      ]
    },
    {
      "cell_type": "code",
      "execution_count": null,
      "metadata": {
        "colab": {
          "base_uri": "https://localhost:8080/"
        },
        "id": "18BA_EuyWB2P",
        "outputId": "320a1934-058f-410e-963d-b5d192caf7d1"
      },
      "outputs": [
        {
          "output_type": "execute_result",
          "data": {
            "text/plain": [
              "0      A traves de la plataforma pude ir practicando ...\n",
              "1      A traves de los ejercicios propuestos en la he...\n",
              "2      A veces UNCode no dejaba correr por cosas triv...\n",
              "3      A veces es poco practico y da errores por cosa...\n",
              "4      A veces la pagina era muy lenta, y al principi...\n",
              "                             ...                        \n",
              "342    si porque gracias a el pude constatar que mis ...\n",
              "343    si, ya que es bastante sencillo e intuitivo a ...\n",
              "344    solo lo use para enviar los talleres ya que lo...\n",
              "345    uno de los aspectos que considero que mas me c...\n",
              "346    ya que proporcionaba todas las herramientas ne...\n",
              "Name: comment, Length: 347, dtype: object"
            ]
          },
          "metadata": {},
          "execution_count": 7
        }
      ],
      "source": [
        "df.comment"
      ]
    },
    {
      "cell_type": "markdown",
      "metadata": {
        "id": "qgMT6xjeJaUh"
      },
      "source": [
        "This shows there are comments with multiple categories, on average each comment will have 1.5 categories"
      ]
    },
    {
      "cell_type": "code",
      "execution_count": null,
      "metadata": {
        "colab": {
          "base_uri": "https://localhost:8080/"
        },
        "id": "q8jyyeLz3exB",
        "outputId": "6caa417e-8b78-4303-fa8a-4fe92bd08219"
      },
      "outputs": [
        {
          "output_type": "execute_result",
          "data": {
            "text/plain": [
              "(347, 29)"
            ]
          },
          "metadata": {},
          "execution_count": 8
        }
      ],
      "source": [
        "df.shape"
      ]
    },
    {
      "cell_type": "markdown",
      "metadata": {
        "id": "J-7qKfAL9V98"
      },
      "source": [
        "#### basic text cleaning"
      ]
    },
    {
      "cell_type": "code",
      "execution_count": null,
      "metadata": {
        "id": "qYwsbl794Lqi"
      },
      "outputs": [],
      "source": [
        "df[\"comment\"] = df[\"comment\"].fillna(\"\")\n",
        "# for col in text_columns: # change df tyoes to string, it it is not\n",
        "#     df[col] = df[col].astype(str)"
      ]
    },
    {
      "cell_type": "code",
      "execution_count": null,
      "metadata": {
        "id": "qOwiIRkcs-bF"
      },
      "outputs": [],
      "source": [
        "#limpieza basica que aplica para todo metodo sin importar cual sera\n",
        "#method that overrides the given dataframe text, with a cleaned version\n",
        "def clean(textArray):\n",
        "  res= []\n",
        "  for i in range(0,len(textArray)):\n",
        "    text = textArray[i]\n",
        "    #text = p.clean(text)\n",
        "    #text = re.sub(r'\\W+', ' ', text)  # remove non-alphanumeric characters\n",
        "    text = re.sub(r\"\\d+\", \"number\", text)# replace numbers with the word 'number'\n",
        "    text = str(text).lower()  # Lowercase words\n",
        "    text = re.sub(r\"\\s+\", \" \", text)  # Remove multiple spaces in content\n",
        "    # text = re.sub(r\"\\[(.*?)\\]\", \"\", text)  # Remove [+XYZ chars] in content\n",
        "    # text = re.sub(r\"\\w+…|…\", \"\", text)  # Remove ellipsis (and last word)\n",
        "    text = re.sub(r\"(?<=\\w)-(?=\\w)\", \" \", text)  # Replace dash between words\n",
        "    # text = re.sub(\n",
        "    #     f\"[{re.escape(string.punctuation)}]\", \"\", text\n",
        "    # )  # Remove punctuation\n",
        "    # don't consider sentenced with less than 3 words (i.e. assumed noise)\n",
        "    #if len(text.strip().split()) < 3:\n",
        "    #     return None\n",
        "    text = text.lower()  # lower case everything\n",
        "    test = text.strip() # remove redundant spaces\n",
        "    textArray[i] = text\n",
        "  return"
      ]
    },
    {
      "cell_type": "code",
      "execution_count": null,
      "metadata": {
        "colab": {
          "base_uri": "https://localhost:8080/"
        },
        "id": "xWB12NIpjmCZ",
        "outputId": "fcd39cc8-a56b-4842-b930-7eda0c525d9a"
      },
      "outputs": [
        {
          "output_type": "stream",
          "name": "stderr",
          "text": [
            "<ipython-input-10-35969912d2a8>:23: SettingWithCopyWarning: \n",
            "A value is trying to be set on a copy of a slice from a DataFrame\n",
            "\n",
            "See the caveats in the documentation: https://pandas.pydata.org/pandas-docs/stable/user_guide/indexing.html#returning-a-view-versus-a-copy\n",
            "  textArray[i] = text\n"
          ]
        }
      ],
      "source": [
        "clean(df.comment) # df.comment will be cleaned and overwriten"
      ]
    },
    {
      "cell_type": "code",
      "execution_count": null,
      "metadata": {
        "colab": {
          "base_uri": "https://localhost:8080/",
          "height": 462
        },
        "id": "0S1xBewcSUwN",
        "outputId": "c7447f59-a9be-42d5-d168-f1c92ec97073"
      },
      "outputs": [
        {
          "output_type": "execute_result",
          "data": {
            "text/plain": [
              "                                             comment  ambiente  \\\n",
              "0  a traves de la plataforma pude ir practicando ...         0   \n",
              "1  a traves de los ejercicios propuestos en la he...         0   \n",
              "2  a veces uncode no dejaba correr por cosas triv...         0   \n",
              "\n",
              "   bondadesPlataforma  CbondadesPlataformaCcasosPrueba  \\\n",
              "0                   1                                0   \n",
              "1                   1                                0   \n",
              "2                   0                                0   \n",
              "\n",
              "   CbondadesPlataformaCconocerErrores  CbondadesPlataformaCconsejosFormativos  \\\n",
              "0                                   0                                       0   \n",
              "1                                   0                                       0   \n",
              "2                                   0                                       0   \n",
              "\n",
              "   CbondadesPlataformaCdisponibilidadLinea  \\\n",
              "0                                        0   \n",
              "1                                        0   \n",
              "2                                        0   \n",
              "\n",
              "   CbondadesPlataformaCespacioTrabajo  CbondadesPlataformaCfacilidadUso  \\\n",
              "0                                   0                                 0   \n",
              "1                                   0                                 0   \n",
              "2                                   0                                 0   \n",
              "\n",
              "   CbondadesPlataformaClenguajes  ...  ClogrosPedagogicosCresolucionProblemas  \\\n",
              "0                              0  ...                                       0   \n",
              "1                              0  ...                                       0   \n",
              "2                              0  ...                                       0   \n",
              "\n",
              "   CMejorableAprenderProgramarCfallasGenerales  \\\n",
              "0                                            0   \n",
              "1                                            0   \n",
              "2                                            0   \n",
              "\n",
              "   CMejorableAprenderProgramarCinflexibilidad  \\\n",
              "0                                           0   \n",
              "1                                           0   \n",
              "2                                           1   \n",
              "\n",
              "   CMejorableAprenderProgramarCobjetivoEducativo  \\\n",
              "0                                              0   \n",
              "1                                              0   \n",
              "2                                              0   \n",
              "\n",
              "   CMejorableAprenderProgramarCretroalimentacionInsuficiente  \\\n",
              "0                                                  0           \n",
              "1                                                  0           \n",
              "2                                                  0           \n",
              "\n",
              "   CMejorableAprenderProgramarCsustituible  colab  HerramientasUNcode  \\\n",
              "0                                        0      0                   0   \n",
              "1                                        0      0                   0   \n",
              "2                                        0      1                   0   \n",
              "\n",
              "   logrosPedagogicos  MejorableAprenderProgramar  \n",
              "0                  0                           0  \n",
              "1                  1                           0  \n",
              "2                  0                           0  \n",
              "\n",
              "[3 rows x 29 columns]"
            ],
            "text/html": [
              "\n",
              "  <div id=\"df-f29e3b0e-3fd4-4479-8cb1-703b6eee587a\">\n",
              "    <div class=\"colab-df-container\">\n",
              "      <div>\n",
              "<style scoped>\n",
              "    .dataframe tbody tr th:only-of-type {\n",
              "        vertical-align: middle;\n",
              "    }\n",
              "\n",
              "    .dataframe tbody tr th {\n",
              "        vertical-align: top;\n",
              "    }\n",
              "\n",
              "    .dataframe thead th {\n",
              "        text-align: right;\n",
              "    }\n",
              "</style>\n",
              "<table border=\"1\" class=\"dataframe\">\n",
              "  <thead>\n",
              "    <tr style=\"text-align: right;\">\n",
              "      <th></th>\n",
              "      <th>comment</th>\n",
              "      <th>ambiente</th>\n",
              "      <th>bondadesPlataforma</th>\n",
              "      <th>CbondadesPlataformaCcasosPrueba</th>\n",
              "      <th>CbondadesPlataformaCconocerErrores</th>\n",
              "      <th>CbondadesPlataformaCconsejosFormativos</th>\n",
              "      <th>CbondadesPlataformaCdisponibilidadLinea</th>\n",
              "      <th>CbondadesPlataformaCespacioTrabajo</th>\n",
              "      <th>CbondadesPlataformaCfacilidadUso</th>\n",
              "      <th>CbondadesPlataformaClenguajes</th>\n",
              "      <th>...</th>\n",
              "      <th>ClogrosPedagogicosCresolucionProblemas</th>\n",
              "      <th>CMejorableAprenderProgramarCfallasGenerales</th>\n",
              "      <th>CMejorableAprenderProgramarCinflexibilidad</th>\n",
              "      <th>CMejorableAprenderProgramarCobjetivoEducativo</th>\n",
              "      <th>CMejorableAprenderProgramarCretroalimentacionInsuficiente</th>\n",
              "      <th>CMejorableAprenderProgramarCsustituible</th>\n",
              "      <th>colab</th>\n",
              "      <th>HerramientasUNcode</th>\n",
              "      <th>logrosPedagogicos</th>\n",
              "      <th>MejorableAprenderProgramar</th>\n",
              "    </tr>\n",
              "  </thead>\n",
              "  <tbody>\n",
              "    <tr>\n",
              "      <th>0</th>\n",
              "      <td>a traves de la plataforma pude ir practicando ...</td>\n",
              "      <td>0</td>\n",
              "      <td>1</td>\n",
              "      <td>0</td>\n",
              "      <td>0</td>\n",
              "      <td>0</td>\n",
              "      <td>0</td>\n",
              "      <td>0</td>\n",
              "      <td>0</td>\n",
              "      <td>0</td>\n",
              "      <td>...</td>\n",
              "      <td>0</td>\n",
              "      <td>0</td>\n",
              "      <td>0</td>\n",
              "      <td>0</td>\n",
              "      <td>0</td>\n",
              "      <td>0</td>\n",
              "      <td>0</td>\n",
              "      <td>0</td>\n",
              "      <td>0</td>\n",
              "      <td>0</td>\n",
              "    </tr>\n",
              "    <tr>\n",
              "      <th>1</th>\n",
              "      <td>a traves de los ejercicios propuestos en la he...</td>\n",
              "      <td>0</td>\n",
              "      <td>1</td>\n",
              "      <td>0</td>\n",
              "      <td>0</td>\n",
              "      <td>0</td>\n",
              "      <td>0</td>\n",
              "      <td>0</td>\n",
              "      <td>0</td>\n",
              "      <td>0</td>\n",
              "      <td>...</td>\n",
              "      <td>0</td>\n",
              "      <td>0</td>\n",
              "      <td>0</td>\n",
              "      <td>0</td>\n",
              "      <td>0</td>\n",
              "      <td>0</td>\n",
              "      <td>0</td>\n",
              "      <td>0</td>\n",
              "      <td>1</td>\n",
              "      <td>0</td>\n",
              "    </tr>\n",
              "    <tr>\n",
              "      <th>2</th>\n",
              "      <td>a veces uncode no dejaba correr por cosas triv...</td>\n",
              "      <td>0</td>\n",
              "      <td>0</td>\n",
              "      <td>0</td>\n",
              "      <td>0</td>\n",
              "      <td>0</td>\n",
              "      <td>0</td>\n",
              "      <td>0</td>\n",
              "      <td>0</td>\n",
              "      <td>0</td>\n",
              "      <td>...</td>\n",
              "      <td>0</td>\n",
              "      <td>0</td>\n",
              "      <td>1</td>\n",
              "      <td>0</td>\n",
              "      <td>0</td>\n",
              "      <td>0</td>\n",
              "      <td>1</td>\n",
              "      <td>0</td>\n",
              "      <td>0</td>\n",
              "      <td>0</td>\n",
              "    </tr>\n",
              "  </tbody>\n",
              "</table>\n",
              "<p>3 rows × 29 columns</p>\n",
              "</div>\n",
              "      <button class=\"colab-df-convert\" onclick=\"convertToInteractive('df-f29e3b0e-3fd4-4479-8cb1-703b6eee587a')\"\n",
              "              title=\"Convert this dataframe to an interactive table.\"\n",
              "              style=\"display:none;\">\n",
              "        \n",
              "  <svg xmlns=\"http://www.w3.org/2000/svg\" height=\"24px\"viewBox=\"0 0 24 24\"\n",
              "       width=\"24px\">\n",
              "    <path d=\"M0 0h24v24H0V0z\" fill=\"none\"/>\n",
              "    <path d=\"M18.56 5.44l.94 2.06.94-2.06 2.06-.94-2.06-.94-.94-2.06-.94 2.06-2.06.94zm-11 1L8.5 8.5l.94-2.06 2.06-.94-2.06-.94L8.5 2.5l-.94 2.06-2.06.94zm10 10l.94 2.06.94-2.06 2.06-.94-2.06-.94-.94-2.06-.94 2.06-2.06.94z\"/><path d=\"M17.41 7.96l-1.37-1.37c-.4-.4-.92-.59-1.43-.59-.52 0-1.04.2-1.43.59L10.3 9.45l-7.72 7.72c-.78.78-.78 2.05 0 2.83L4 21.41c.39.39.9.59 1.41.59.51 0 1.02-.2 1.41-.59l7.78-7.78 2.81-2.81c.8-.78.8-2.07 0-2.86zM5.41 20L4 18.59l7.72-7.72 1.47 1.35L5.41 20z\"/>\n",
              "  </svg>\n",
              "      </button>\n",
              "      \n",
              "  <style>\n",
              "    .colab-df-container {\n",
              "      display:flex;\n",
              "      flex-wrap:wrap;\n",
              "      gap: 12px;\n",
              "    }\n",
              "\n",
              "    .colab-df-convert {\n",
              "      background-color: #E8F0FE;\n",
              "      border: none;\n",
              "      border-radius: 50%;\n",
              "      cursor: pointer;\n",
              "      display: none;\n",
              "      fill: #1967D2;\n",
              "      height: 32px;\n",
              "      padding: 0 0 0 0;\n",
              "      width: 32px;\n",
              "    }\n",
              "\n",
              "    .colab-df-convert:hover {\n",
              "      background-color: #E2EBFA;\n",
              "      box-shadow: 0px 1px 2px rgba(60, 64, 67, 0.3), 0px 1px 3px 1px rgba(60, 64, 67, 0.15);\n",
              "      fill: #174EA6;\n",
              "    }\n",
              "\n",
              "    [theme=dark] .colab-df-convert {\n",
              "      background-color: #3B4455;\n",
              "      fill: #D2E3FC;\n",
              "    }\n",
              "\n",
              "    [theme=dark] .colab-df-convert:hover {\n",
              "      background-color: #434B5C;\n",
              "      box-shadow: 0px 1px 3px 1px rgba(0, 0, 0, 0.15);\n",
              "      filter: drop-shadow(0px 1px 2px rgba(0, 0, 0, 0.3));\n",
              "      fill: #FFFFFF;\n",
              "    }\n",
              "  </style>\n",
              "\n",
              "      <script>\n",
              "        const buttonEl =\n",
              "          document.querySelector('#df-f29e3b0e-3fd4-4479-8cb1-703b6eee587a button.colab-df-convert');\n",
              "        buttonEl.style.display =\n",
              "          google.colab.kernel.accessAllowed ? 'block' : 'none';\n",
              "\n",
              "        async function convertToInteractive(key) {\n",
              "          const element = document.querySelector('#df-f29e3b0e-3fd4-4479-8cb1-703b6eee587a');\n",
              "          const dataTable =\n",
              "            await google.colab.kernel.invokeFunction('convertToInteractive',\n",
              "                                                     [key], {});\n",
              "          if (!dataTable) return;\n",
              "\n",
              "          const docLinkHtml = 'Like what you see? Visit the ' +\n",
              "            '<a target=\"_blank\" href=https://colab.research.google.com/notebooks/data_table.ipynb>data table notebook</a>'\n",
              "            + ' to learn more about interactive tables.';\n",
              "          element.innerHTML = '';\n",
              "          dataTable['output_type'] = 'display_data';\n",
              "          await google.colab.output.renderOutput(dataTable, element);\n",
              "          const docLink = document.createElement('div');\n",
              "          docLink.innerHTML = docLinkHtml;\n",
              "          element.appendChild(docLink);\n",
              "        }\n",
              "      </script>\n",
              "    </div>\n",
              "  </div>\n",
              "  "
            ]
          },
          "metadata": {},
          "execution_count": 12
        }
      ],
      "source": [
        "df.head(3)"
      ]
    },
    {
      "cell_type": "markdown",
      "metadata": {
        "id": "xPPI7HkhLXBn"
      },
      "source": [
        "### advance data transformation step to convert similar words so results are more reliable"
      ]
    },
    {
      "cell_type": "code",
      "execution_count": null,
      "metadata": {
        "id": "xJuoKAYCLgOn"
      },
      "outputs": [],
      "source": [
        "#limpieza basica que aplica para todo metodo sin importar cual sera\n",
        "#method that overrides the given dataframe text, with a cleaned version\n",
        "def advanceCleaning(textArray):\n",
        "  res= []\n",
        "  for i in range(0,len(textArray)):\n",
        "    text = textArray[i]\n",
        "    #text = p.clean(text)\n",
        "    #text = re.sub(r\"uncode|plataforma|herramienta\", \"uncode\", text)  # convert common words to the same synonym\n",
        "    textArray[i] = text\n",
        "  return"
      ]
    },
    {
      "cell_type": "code",
      "execution_count": null,
      "metadata": {
        "id": "JE-H9laSeMi4"
      },
      "outputs": [],
      "source": [
        "#advanceCleaning(df.comment) # df.comment will be cleaned and overwriten"
      ]
    },
    {
      "cell_type": "markdown",
      "metadata": {
        "id": "1pY4bER2BbNC"
      },
      "source": [
        "#### Dataset splitting in categories and test splitting"
      ]
    },
    {
      "cell_type": "code",
      "execution_count": null,
      "metadata": {
        "colab": {
          "base_uri": "https://localhost:8080/"
        },
        "id": "Xhc7hJYrCTYP",
        "outputId": "f7b7e902-60dc-4925-9f84-26773ca4f8e4"
      },
      "outputs": [
        {
          "output_type": "execute_result",
          "data": {
            "text/plain": [
              "ambiente                       14\n",
              "bondadesPlataforma            169\n",
              "colab                          10\n",
              "HerramientasUNcode            129\n",
              "logrosPedagogicos             192\n",
              "MejorableAprenderProgramar     29\n",
              "dtype: int64"
            ]
          },
          "metadata": {},
          "execution_count": 15
        }
      ],
      "source": [
        "# convert to dense dataframe, select only the columns of the big categories\n",
        "selected_columns_only_categories = [col for col in df.columns if not col.startswith('C')]\n",
        "selected_columns_only_categories.remove('comment')\n",
        "categories_labels = df[selected_columns_only_categories]\n",
        "categories_labels.sum()"
      ]
    },
    {
      "cell_type": "code",
      "execution_count": null,
      "metadata": {
        "colab": {
          "base_uri": "https://localhost:8080/"
        },
        "id": "kHg1ZaSFqgzR",
        "outputId": "d75c4331-46de-4e43-e5db-17ab486e7c98"
      },
      "outputs": [
        {
          "output_type": "execute_result",
          "data": {
            "text/plain": [
              "CbondadesPlataformaCcasosPrueba                              10\n",
              "CbondadesPlataformaCconocerErrores                           83\n",
              "CbondadesPlataformaCconsejosFormativos                       31\n",
              "CbondadesPlataformaCdisponibilidadLinea                       9\n",
              "CbondadesPlataformaCespacioTrabajo                            4\n",
              "CbondadesPlataformaCfacilidadUso                             43\n",
              "CbondadesPlataformaClenguajes                                 5\n",
              "CbondadesPlataformaCPracticaconstante                        20\n",
              "CherramientasUNcodeCcustomInput                              32\n",
              "CherramientasUNcodeClinter                                   29\n",
              "CherramientasUNcodeCpythonTutor                              75\n",
              "ClogrosPedagogicosCaprendizajeAutonomo                       13\n",
              "ClogrosPedagogicosCejerciciosEstimulantes                    40\n",
              "ClogrosPedagogicosCevalluacionEstimulante                    40\n",
              "ClogrosPedagogicosCEvaluacionOptimizada                      80\n",
              "ClogrosPedagogicosChabilidadesProgramacion                   32\n",
              "ClogrosPedagogicosCresolucionProblemas                       67\n",
              "CMejorableAprenderProgramarCfallasGenerales                  59\n",
              "CMejorableAprenderProgramarCinflexibilidad                   15\n",
              "CMejorableAprenderProgramarCobjetivoEducativo                11\n",
              "CMejorableAprenderProgramarCretroalimentacionInsuficiente    11\n",
              "CMejorableAprenderProgramarCsustituible                       3\n",
              "dtype: int64"
            ]
          },
          "metadata": {},
          "execution_count": 16
        }
      ],
      "source": [
        "# convert to dense dataframe, select only the columns of the small subcategories\n",
        "selected_columns_only_sub_categories = [col for col in df.columns if col.startswith('C')]\n",
        "sub_categories_labels = df[selected_columns_only_sub_categories]\n",
        "sub_categories_labels.sum()"
      ]
    },
    {
      "cell_type": "code",
      "execution_count": null,
      "metadata": {
        "id": "vCVs5TJYBj76"
      },
      "outputs": [],
      "source": [
        "X_train, X_test, y_train_categories, y_test_categories = train_test_split( df.comment.to_numpy(), categories_labels.to_numpy(), test_size=0.1, random_state=42)"
      ]
    },
    {
      "cell_type": "code",
      "execution_count": null,
      "metadata": {
        "id": "wObTTKCl_GhS"
      },
      "outputs": [],
      "source": [
        "X_train, X_test, y_train_sub_categories, y_test_sub_categories = train_test_split( df.comment.to_numpy(), sub_categories_labels.to_numpy(), test_size=0.1, random_state=42)"
      ]
    },
    {
      "cell_type": "markdown",
      "metadata": {
        "id": "QcMOa9A49cSs"
      },
      "source": [
        "#### Aditional optional text cleaning/normalization"
      ]
    },
    {
      "cell_type": "code",
      "execution_count": null,
      "metadata": {
        "id": "XvhQZgHR7zRv"
      },
      "outputs": [],
      "source": [
        "# #normalizacion especifica, dependiendo del metodo se puede probar con y sin esta\n",
        "# def normalize(text):\n",
        "#     doc = nlp(text)\n",
        "#     words = [t.orth_ for t in doc if not t.is_punct | t.is_stop]\n",
        "#     lexical_tokens = [t.lower() for t in words if t.isalpha()] #len(t) > 3 and\n",
        "#     return lexical_tokens\n",
        "\n",
        "# #otra libreria para eliminar stop words\n",
        "# # import nltk\n",
        "# # from stop_words import get_stop_words\n",
        "# # dataset = ['This','is','just', 'a', 'snake']\n",
        "# # A = [word for word in dataset if word not in get_stop_words('english')]\n",
        "# # print(A)"
      ]
    },
    {
      "cell_type": "code",
      "execution_count": null,
      "metadata": {
        "id": "-Wmac0AbmHXR"
      },
      "outputs": [],
      "source": [
        "# textNormalizedCommentsVector = [ ([str(a) for a in normalize(oneComment)]) for oneComment in X_train]\n",
        "# textNormalizedCommentsVector[0]"
      ]
    },
    {
      "cell_type": "code",
      "execution_count": null,
      "metadata": {
        "id": "9Oa27gWe97VZ"
      },
      "outputs": [],
      "source": [
        "# textNormalizedComments = [ \" \".join([str(a) for a in normalize(oneComment)]) for oneComment in X_train]\n",
        "# textNormalizedComments[0]"
      ]
    },
    {
      "cell_type": "markdown",
      "metadata": {
        "id": "ikQ2wixsAZvX"
      },
      "source": [
        "#### stemming optional process to transfrom all word to the root(even if the root does not exist)"
      ]
    },
    {
      "cell_type": "code",
      "execution_count": null,
      "metadata": {
        "id": "INjkQdiLAivF"
      },
      "outputs": [],
      "source": [
        "# import nltk\n",
        "# from nltk import SnowballStemmer\n",
        "\n",
        "# def stemmize(text):\n",
        "#   spanishstemmer=SnowballStemmer('spanish')\n",
        "#   tokens = normalize(text) # crear una lista de tokens\n",
        "#   stems = [spanishstemmer.stem(token) for token in tokens]\n",
        "#   return stems"
      ]
    },
    {
      "cell_type": "code",
      "execution_count": null,
      "metadata": {
        "id": "jFSvxkF9S1Li"
      },
      "outputs": [],
      "source": [
        "# stemmize(textNormalizedComments[0])"
      ]
    },
    {
      "cell_type": "code",
      "execution_count": null,
      "metadata": {
        "id": "n7miQcckcO7C"
      },
      "outputs": [],
      "source": [
        "# dataStemmizedCommentsVector = [ ([str(a) for a in stemmize(oneComment)]) for oneComment in textNormalizedComments]\n",
        "# dataStemmizedCommentsVector[0]"
      ]
    },
    {
      "cell_type": "markdown",
      "metadata": {
        "id": "XQVJMP7CAq5O"
      },
      "source": [
        "#### lemmatization, optional procces to transform words to a common one"
      ]
    },
    {
      "cell_type": "code",
      "execution_count": null,
      "metadata": {
        "id": "Vit-wYEZBDJc"
      },
      "outputs": [],
      "source": [
        "# def lemmanize(text):\n",
        "#     doc = nlp(text)\n",
        "#     #lemmas_no_pron = [tok.lemma_.lower() for tok in doc if tok.pos_ != 'PRON'] # we can select the type of tokens that will enter this process, like pronouns, adjetivo, verbo, sustantivo\n",
        "#     #lemmas = [tok.lemma_ for tok in doc if tok.pos_ != 'NOUN']\n",
        "#     lemmas = []\n",
        "#     for tok in doc:\n",
        "#       if tok.pos_ not in (\"NOUN\", \"NUM\", \"PROPN\"):\n",
        "#         lemmas.append((tok.lemma_))\n",
        "#       else:\n",
        "#         lemmas.append((tok.text))\n",
        "#     return lemmas\n"
      ]
    },
    {
      "cell_type": "code",
      "execution_count": null,
      "metadata": {
        "id": "DpqjaYdiC9Ci"
      },
      "outputs": [],
      "source": [
        "# lemmanize(textNormalizedComments[0])"
      ]
    },
    {
      "cell_type": "code",
      "execution_count": null,
      "metadata": {
        "id": "_1pEwSA-XZMp"
      },
      "outputs": [],
      "source": [
        "# dataLemmatizedCommentsVector = [ ([str(a) for a in lemmanize(oneComment)]) for oneComment in textNormalizedComments]\n",
        "# dataLemmatizedCommentsVector[0]"
      ]
    },
    {
      "cell_type": "markdown",
      "metadata": {
        "id": "LI0jbgeHGSp6"
      },
      "source": [
        "## USE (universal sentence encoder) like SBERT"
      ]
    },
    {
      "cell_type": "code",
      "execution_count": null,
      "metadata": {
        "colab": {
          "base_uri": "https://localhost:8080/"
        },
        "id": "cyyirezxKRkQ",
        "outputId": "4a962254-fc85-4742-e118-e844abe7ce93"
      },
      "outputs": [
        {
          "output_type": "execute_result",
          "data": {
            "text/plain": [
              "<tf.Tensor: shape=(312, 512), dtype=float32, numpy=\n",
              "array([[ 0.02056528,  0.04900428,  0.00171735, ...,  0.00454856,\n",
              "         0.08650798,  0.0303427 ],\n",
              "       [ 0.02634144,  0.02451958,  0.03705828, ...,  0.01727408,\n",
              "        -0.02464722,  0.04717301],\n",
              "       [ 0.02605103,  0.01549387, -0.01313201, ..., -0.00089988,\n",
              "        -0.03360392,  0.07320824],\n",
              "       ...,\n",
              "       [-0.0301829 , -0.03369778,  0.04122041, ..., -0.08307121,\n",
              "        -0.06423453, -0.02259973],\n",
              "       [-0.02754452, -0.012775  ,  0.03302255, ..., -0.03121437,\n",
              "         0.0348919 ,  0.02121599],\n",
              "       [ 0.07204714, -0.07769392,  0.0366545 , ..., -0.042703  ,\n",
              "         0.03555254,  0.0276051 ]], dtype=float32)>"
            ]
          },
          "metadata": {},
          "execution_count": 28
        }
      ],
      "source": [
        "## google embeddings model  https://tfhub.dev/google/universal-sentence-encoder-multilingual-large/3\n",
        "tf.compat.v1.estimator.experimental.dnn_logit_fn_builder\n",
        "import tensorflow_hub as hub\n",
        "import tensorflow_text  # this needs to be imported to set up some stuff in the background\n",
        "embed = hub.load(\"https://tfhub.dev/google/universal-sentence-encoder-multilingual-large/3\")\n",
        "useEmbedding=embed(X_train)\n",
        "useEmbedding #The input to the module is variable length text in any of the aforementioned languages and the output is a 512 dimensional vector"
      ]
    },
    {
      "cell_type": "code",
      "execution_count": null,
      "metadata": {
        "id": "pkbSxyELQRdF"
      },
      "outputs": [],
      "source": []
    },
    {
      "cell_type": "markdown",
      "metadata": {
        "id": "GBdAbq4_PQbd"
      },
      "source": [
        "## Kmeans clustering"
      ]
    },
    {
      "cell_type": "markdown",
      "metadata": {
        "id": "D_dWwX0EVWFj"
      },
      "source": [
        "by default euclean distance is used as a similarity measurement in this kmeans"
      ]
    },
    {
      "cell_type": "code",
      "execution_count": null,
      "metadata": {
        "id": "FQ0VvIKSbxGK"
      },
      "outputs": [],
      "source": [
        "#https://github.com/ashishsalunkhe/Topic-Modeling-using-LDA-and-K-Means-Clustering/blob/master/kmeans-cluster-and-topic-modeling.ipynb\n",
        "#https://github.com/ashishsalunkhe/Topic-Modeling-using-LDA-and-K-Means-Clustering/blob/master/news_exploration_using_gensim_and_sklearn.ipynb"
      ]
    },
    {
      "cell_type": "code",
      "execution_count": null,
      "metadata": {
        "id": "lm1WpPhjPrka"
      },
      "outputs": [],
      "source": [
        "kmeans = KMeans( init=\"random\",n_clusters=3,n_init=10,max_iter=300,random_state=42)  #model = KMeans(n_clusters=10, init='k-means++', max_iter=100, n_init=1, verbose=False)"
      ]
    },
    {
      "cell_type": "code",
      "execution_count": null,
      "metadata": {
        "colab": {
          "base_uri": "https://localhost:8080/"
        },
        "id": "gXgc_IhRP9jC",
        "outputId": "e46c90c1-14e1-4b78-ac02-bed7f5a90fc4"
      },
      "outputs": [
        {
          "output_type": "execute_result",
          "data": {
            "text/plain": [
              "KMeans(init='random', n_clusters=3, random_state=42)"
            ]
          },
          "metadata": {},
          "execution_count": 31
        }
      ],
      "source": [
        "kmeans.fit(useEmbedding)"
      ]
    },
    {
      "cell_type": "code",
      "execution_count": null,
      "metadata": {
        "colab": {
          "base_uri": "https://localhost:8080/"
        },
        "id": "T3oCkyjaQIyj",
        "outputId": "1ba6f4f8-3ac7-49dc-d46f-b6adefe4ee60"
      },
      "outputs": [
        {
          "output_type": "stream",
          "name": "stdout",
          "text": [
            "204.30706600243386\n",
            "[[ 0.00361656 -0.00127508 -0.01130604 ... -0.01653389  0.00763686\n",
            "   0.02354838]\n",
            " [ 0.02340219  0.005515   -0.0144581  ... -0.00480814  0.02498601\n",
            "   0.00619285]\n",
            " [ 0.02092384 -0.00067426  0.00955498 ... -0.02614223  0.01588307\n",
            "   0.00753973]]\n",
            "14\n"
          ]
        }
      ],
      "source": [
        "# The lowest SSE value\n",
        "kmeans.inertia_\n",
        "print(kmeans.inertia_)\n",
        "# Final locations of the centroid\n",
        "kmeans.cluster_centers_\n",
        "print(kmeans.cluster_centers_)\n",
        "\n",
        "# The number of iterations required to converge\n",
        "print(kmeans.n_iter_)"
      ]
    },
    {
      "cell_type": "markdown",
      "metadata": {
        "id": "R-Vp6e8LRGwx"
      },
      "source": [
        "#### elbow method to get best number of clusters"
      ]
    },
    {
      "cell_type": "code",
      "execution_count": null,
      "metadata": {
        "id": "xg4fthRFQ_Dp"
      },
      "outputs": [],
      "source": [
        "kmeans_kwargs = {\n",
        "    \"init\": \"k-means++\",\n",
        "    \"n_init\": 10,\n",
        "    \"max_iter\": 400,\n",
        "    \"random_state\": 42,\n",
        "}\n",
        "\n",
        "# A list holds the SSE values for each k\n",
        "sse = []\n",
        "for k in range(1, 30):\n",
        "    kmeans = KMeans(n_clusters=k, **kmeans_kwargs)\n",
        "    kmeans.fit(useEmbedding)\n",
        "    sse.append(kmeans.inertia_)"
      ]
    },
    {
      "cell_type": "code",
      "execution_count": null,
      "metadata": {
        "colab": {
          "base_uri": "https://localhost:8080/",
          "height": 304
        },
        "id": "g5X9eyUbRkq0",
        "outputId": "9faacda8-7dc8-47ea-f94e-0d386d85d759"
      },
      "outputs": [
        {
          "output_type": "display_data",
          "data": {
            "text/plain": [
              "<Figure size 432x288 with 1 Axes>"
            ],
            "image/png": "[encoded data removed]"
          },
          "metadata": {}
        }
      ],
      "source": [
        "plt.style.use(\"fivethirtyeight\")\n",
        "plt.plot(range(1, 30), sse)\n",
        "plt.xticks(range(1, 30))\n",
        "plt.xlabel(\"Number of Clusters\")\n",
        "plt.ylabel(\"SSE\")  # y axis SSE = sum of the squared error (SSE) after the centroids converge\n",
        "plt.show()"
      ]
    },
    {
      "cell_type": "code",
      "execution_count": null,
      "metadata": {
        "colab": {
          "base_uri": "https://localhost:8080/"
        },
        "id": "8NQQVVVdR5Tf",
        "outputId": "05533bf7-589a-4b9c-cc15-db3d750bceaf"
      },
      "outputs": [
        {
          "output_type": "execute_result",
          "data": {
            "text/plain": [
              "12"
            ]
          },
          "metadata": {},
          "execution_count": 35
        }
      ],
      "source": [
        "kl = KneeLocator(\n",
        "    range(1, 30), sse, curve=\"convex\", direction=\"decreasing\"\n",
        ")\n",
        "\n",
        "kl.elbow"
      ]
    },
    {
      "cell_type": "markdown",
      "metadata": {
        "id": "_HPvXbHTSQKy"
      },
      "source": [
        "#### The silhouette coefficient is a measure of cluster cohesion and separation. It quantifies how well a data point fits into its assigned cluster based on two factors:"
      ]
    },
    {
      "cell_type": "code",
      "execution_count": null,
      "metadata": {
        "id": "y9nvqZSgSCdi"
      },
      "outputs": [],
      "source": [
        "# A list holds the silhouette coefficients for each k\n",
        "silhouette_coefficients = []\n",
        "\n",
        "# Notice you start at 2 clusters for silhouette coefficient\n",
        "for k in range(2, 30):\n",
        "    kmeans = KMeans(n_clusters=k, **kmeans_kwargs)\n",
        "    kmeans.fit(useEmbedding)\n",
        "    score = silhouette_score(useEmbedding, kmeans.labels_)\n",
        "    silhouette_coefficients.append(score)"
      ]
    },
    {
      "cell_type": "code",
      "execution_count": null,
      "metadata": {
        "colab": {
          "base_uri": "https://localhost:8080/",
          "height": 304
        },
        "id": "r5AEnOaVSLnr",
        "outputId": "84b7bf14-1286-4c6b-d178-cfdb385cf268"
      },
      "outputs": [
        {
          "output_type": "display_data",
          "data": {
            "text/plain": [
              "<Figure size 432x288 with 1 Axes>"
            ],
            "image/png": "[encoded data removed]"
          },
          "metadata": {}
        }
      ],
      "source": [
        "plt.style.use(\"fivethirtyeight\")\n",
        "plt.plot(range(2, 30), silhouette_coefficients)\n",
        "plt.xticks(range(2, 30))\n",
        "plt.xlabel(\"Number of Clusters\")\n",
        "plt.ylabel(\"Silhouette Coefficient\")\n",
        "plt.show()"
      ]
    },
    {
      "cell_type": "markdown",
      "metadata": {
        "id": "u-jLCgTnVfqC"
      },
      "source": [
        "#### the same using cosine similarity(for this we must normalize the data"
      ]
    },
    {
      "cell_type": "code",
      "execution_count": null,
      "metadata": {
        "id": "pGyQsLQpVm9x"
      },
      "outputs": [],
      "source": [
        "from sklearn import preprocessing"
      ]
    },
    {
      "cell_type": "markdown",
      "metadata": {
        "id": "TfBkqcVMXJ3q"
      },
      "source": [
        "#### elbow method to get best number of clusters/ 2 attempt"
      ]
    },
    {
      "cell_type": "code",
      "execution_count": null,
      "metadata": {
        "id": "qkXW7JEwXJ3q"
      },
      "outputs": [],
      "source": [
        "kmeans_kwargs = {\n",
        "    \"init\": \"k-means++\",\n",
        "    \"n_init\": 10,\n",
        "    \"max_iter\": 400,\n",
        "    \"random_state\": 42,\n",
        "}\n",
        "\n",
        "# A list holds the SSE values for each k\n",
        "sse = []\n",
        "for k in range(1, 30):\n",
        "    kmeans = KMeans(n_clusters=k, **kmeans_kwargs)\n",
        "    kmeans.fit(preprocessing.normalize(useEmbedding))\n",
        "    sse.append(kmeans.inertia_)"
      ]
    },
    {
      "cell_type": "code",
      "execution_count": null,
      "metadata": {
        "colab": {
          "base_uri": "https://localhost:8080/",
          "height": 304
        },
        "id": "fZxbmyl-XJ3r",
        "outputId": "65d6a8a1-b95d-4ef1-b98b-dbcd160b8eca"
      },
      "outputs": [
        {
          "output_type": "display_data",
          "data": {
            "text/plain": [
              "<Figure size 432x288 with 1 Axes>"
            ],
            "image/png": "[encoded data removed]"
          },
          "metadata": {}
        }
      ],
      "source": [
        "plt.style.use(\"fivethirtyeight\")\n",
        "plt.plot(range(1, 30), sse)\n",
        "plt.xticks(range(1, 30))\n",
        "plt.xlabel(\"Number of Clusters\")\n",
        "plt.ylabel(\"SSE\")  # y axis SSE = sum of the squared error (SSE) after the centroids converge\n",
        "plt.show()"
      ]
    },
    {
      "cell_type": "code",
      "execution_count": null,
      "metadata": {
        "colab": {
          "base_uri": "https://localhost:8080/"
        },
        "id": "a0q1EaXMXJ3r",
        "outputId": "2565c9eb-6955-4e8e-c778-5f231e8863cf"
      },
      "outputs": [
        {
          "output_type": "execute_result",
          "data": {
            "text/plain": [
              "12"
            ]
          },
          "metadata": {},
          "execution_count": 41
        }
      ],
      "source": [
        "kl = KneeLocator(\n",
        "    range(1, 30), sse, curve=\"convex\", direction=\"decreasing\"\n",
        ")\n",
        "\n",
        "kl.elbow"
      ]
    },
    {
      "cell_type": "markdown",
      "metadata": {
        "id": "kFEr25RgaLOV"
      },
      "source": [
        "### k means retrieve clusters"
      ]
    },
    {
      "cell_type": "code",
      "execution_count": null,
      "metadata": {
        "id": "a65vkXwLqbZG"
      },
      "outputs": [],
      "source": [
        "# iterate over the rows of the array\n",
        "y_train_categories_string_dense = []\n",
        "y_train_categories_string_dense = ['' for i in range(len(y_train_categories))]\n",
        "\n",
        "counter = 0\n",
        "for row in y_train_categories:\n",
        "    # find the indices of the elements that equal 1 in the row\n",
        "    indices = np.where(row == 1)[0]\n",
        "    positions = \"\"\n",
        "    # append the indices to the string\n",
        "    for idx in indices:\n",
        "        positions += f\"{idx},\"\n",
        "    # remove the last comma from the string\n",
        "    positions = positions.rstrip(\",\")\n",
        "    y_train_categories_string_dense[counter] = positions\n",
        "    counter = counter + 1"
      ]
    },
    {
      "cell_type": "code",
      "execution_count": null,
      "metadata": {
        "colab": {
          "base_uri": "https://localhost:8080/",
          "height": 620
        },
        "id": "Z3FAjQIoaOtM",
        "outputId": "0b45ab76-3a20-4bec-e08d-46c9bf9884e8"
      },
      "outputs": [
        {
          "output_type": "error",
          "ename": "ValueError",
          "evalue": "ignored",
          "traceback": [
            "\u001b[0;31m---------------------------------------------------------------------------\u001b[0m",
            "\u001b[0;31mKeyError\u001b[0m                                  Traceback (most recent call last)",
            "\u001b[0;32m/usr/local/lib/python3.8/dist-packages/pandas/core/indexes/base.py\u001b[0m in \u001b[0;36mget_loc\u001b[0;34m(self, key, method, tolerance)\u001b[0m\n\u001b[1;32m   3360\u001b[0m             \u001b[0;32mtry\u001b[0m\u001b[0;34m:\u001b[0m\u001b[0;34m\u001b[0m\u001b[0;34m\u001b[0m\u001b[0m\n\u001b[0;32m-> 3361\u001b[0;31m                 \u001b[0;32mreturn\u001b[0m \u001b[0mself\u001b[0m\u001b[0;34m.\u001b[0m\u001b[0m_engine\u001b[0m\u001b[0;34m.\u001b[0m\u001b[0mget_loc\u001b[0m\u001b[0;34m(\u001b[0m\u001b[0mcasted_key\u001b[0m\u001b[0;34m)\u001b[0m\u001b[0;34m\u001b[0m\u001b[0;34m\u001b[0m\u001b[0m\n\u001b[0m\u001b[1;32m   3362\u001b[0m             \u001b[0;32mexcept\u001b[0m \u001b[0mKeyError\u001b[0m \u001b[0;32mas\u001b[0m \u001b[0merr\u001b[0m\u001b[0;34m:\u001b[0m\u001b[0;34m\u001b[0m\u001b[0;34m\u001b[0m\u001b[0m\n",
            "\u001b[0;32m/usr/local/lib/python3.8/dist-packages/pandas/_libs/index.pyx\u001b[0m in \u001b[0;36mpandas._libs.index.IndexEngine.get_loc\u001b[0;34m()\u001b[0m\n",
            "\u001b[0;32m/usr/local/lib/python3.8/dist-packages/pandas/_libs/index.pyx\u001b[0m in \u001b[0;36mpandas._libs.index.IndexEngine.get_loc\u001b[0;34m()\u001b[0m\n",
            "\u001b[0;32mpandas/_libs/hashtable_class_helper.pxi\u001b[0m in \u001b[0;36mpandas._libs.hashtable.PyObjectHashTable.get_item\u001b[0;34m()\u001b[0m\n",
            "\u001b[0;32mpandas/_libs/hashtable_class_helper.pxi\u001b[0m in \u001b[0;36mpandas._libs.hashtable.PyObjectHashTable.get_item\u001b[0;34m()\u001b[0m\n",
            "\u001b[0;31mKeyError\u001b[0m: 'real_categorie'",
            "\nThe above exception was the direct cause of the following exception:\n",
            "\u001b[0;31mKeyError\u001b[0m                                  Traceback (most recent call last)",
            "\u001b[0;32m/usr/local/lib/python3.8/dist-packages/pandas/core/frame.py\u001b[0m in \u001b[0;36m_set_item_mgr\u001b[0;34m(self, key, value)\u001b[0m\n\u001b[1;32m   3750\u001b[0m         \u001b[0;32mtry\u001b[0m\u001b[0;34m:\u001b[0m\u001b[0;34m\u001b[0m\u001b[0;34m\u001b[0m\u001b[0m\n\u001b[0;32m-> 3751\u001b[0;31m             \u001b[0mloc\u001b[0m \u001b[0;34m=\u001b[0m \u001b[0mself\u001b[0m\u001b[0;34m.\u001b[0m\u001b[0m_info_axis\u001b[0m\u001b[0;34m.\u001b[0m\u001b[0mget_loc\u001b[0m\u001b[0;34m(\u001b[0m\u001b[0mkey\u001b[0m\u001b[0;34m)\u001b[0m\u001b[0;34m\u001b[0m\u001b[0;34m\u001b[0m\u001b[0m\n\u001b[0m\u001b[1;32m   3752\u001b[0m         \u001b[0;32mexcept\u001b[0m \u001b[0mKeyError\u001b[0m\u001b[0;34m:\u001b[0m\u001b[0;34m\u001b[0m\u001b[0;34m\u001b[0m\u001b[0m\n",
            "\u001b[0;32m/usr/local/lib/python3.8/dist-packages/pandas/core/indexes/base.py\u001b[0m in \u001b[0;36mget_loc\u001b[0;34m(self, key, method, tolerance)\u001b[0m\n\u001b[1;32m   3362\u001b[0m             \u001b[0;32mexcept\u001b[0m \u001b[0mKeyError\u001b[0m \u001b[0;32mas\u001b[0m \u001b[0merr\u001b[0m\u001b[0;34m:\u001b[0m\u001b[0;34m\u001b[0m\u001b[0;34m\u001b[0m\u001b[0m\n\u001b[0;32m-> 3363\u001b[0;31m                 \u001b[0;32mraise\u001b[0m \u001b[0mKeyError\u001b[0m\u001b[0;34m(\u001b[0m\u001b[0mkey\u001b[0m\u001b[0;34m)\u001b[0m \u001b[0;32mfrom\u001b[0m \u001b[0merr\u001b[0m\u001b[0;34m\u001b[0m\u001b[0;34m\u001b[0m\u001b[0m\n\u001b[0m\u001b[1;32m   3364\u001b[0m \u001b[0;34m\u001b[0m\u001b[0m\n",
            "\u001b[0;31mKeyError\u001b[0m: 'real_categorie'",
            "\nDuring handling of the above exception, another exception occurred:\n",
            "\u001b[0;31mValueError\u001b[0m                                Traceback (most recent call last)",
            "\u001b[0;32m<ipython-input-43-133239b6073c>\u001b[0m in \u001b[0;36m<module>\u001b[0;34m\u001b[0m\n\u001b[1;32m      6\u001b[0m \u001b[0mcomments_df\u001b[0m\u001b[0;34m[\u001b[0m\u001b[0;34m'data_index'\u001b[0m\u001b[0;34m]\u001b[0m \u001b[0;34m=\u001b[0m \u001b[0mX_train\u001b[0m\u001b[0;34m\u001b[0m\u001b[0;34m\u001b[0m\u001b[0m\n\u001b[1;32m      7\u001b[0m \u001b[0mcomments_df\u001b[0m\u001b[0;34m[\u001b[0m\u001b[0;34m'cluster'\u001b[0m\u001b[0;34m]\u001b[0m \u001b[0;34m=\u001b[0m \u001b[0mkmeansBest\u001b[0m\u001b[0;34m.\u001b[0m\u001b[0mlabels_\u001b[0m\u001b[0;34m\u001b[0m\u001b[0;34m\u001b[0m\u001b[0m\n\u001b[0;32m----> 8\u001b[0;31m \u001b[0mcomments_df\u001b[0m\u001b[0;34m[\u001b[0m\u001b[0;34m'real_categorie'\u001b[0m\u001b[0;34m]\u001b[0m \u001b[0;34m=\u001b[0m \u001b[0my_train_categories\u001b[0m\u001b[0;34m\u001b[0m\u001b[0;34m\u001b[0m\u001b[0m\n\u001b[0m\u001b[1;32m      9\u001b[0m \u001b[0;34m\u001b[0m\u001b[0m\n\u001b[1;32m     10\u001b[0m \u001b[0mcomments_df\u001b[0m\u001b[0;34m\u001b[0m\u001b[0;34m\u001b[0m\u001b[0m\n",
            "\u001b[0;32m/usr/local/lib/python3.8/dist-packages/pandas/core/frame.py\u001b[0m in \u001b[0;36m__setitem__\u001b[0;34m(self, key, value)\u001b[0m\n\u001b[1;32m   3610\u001b[0m         \u001b[0;32melse\u001b[0m\u001b[0;34m:\u001b[0m\u001b[0;34m\u001b[0m\u001b[0;34m\u001b[0m\u001b[0m\n\u001b[1;32m   3611\u001b[0m             \u001b[0;31m# set column\u001b[0m\u001b[0;34m\u001b[0m\u001b[0;34m\u001b[0m\u001b[0;34m\u001b[0m\u001b[0m\n\u001b[0;32m-> 3612\u001b[0;31m             \u001b[0mself\u001b[0m\u001b[0;34m.\u001b[0m\u001b[0m_set_item\u001b[0m\u001b[0;34m(\u001b[0m\u001b[0mkey\u001b[0m\u001b[0;34m,\u001b[0m \u001b[0mvalue\u001b[0m\u001b[0;34m)\u001b[0m\u001b[0;34m\u001b[0m\u001b[0;34m\u001b[0m\u001b[0m\n\u001b[0m\u001b[1;32m   3613\u001b[0m \u001b[0;34m\u001b[0m\u001b[0m\n\u001b[1;32m   3614\u001b[0m     \u001b[0;32mdef\u001b[0m \u001b[0m_setitem_slice\u001b[0m\u001b[0;34m(\u001b[0m\u001b[0mself\u001b[0m\u001b[0;34m,\u001b[0m \u001b[0mkey\u001b[0m\u001b[0;34m:\u001b[0m \u001b[0mslice\u001b[0m\u001b[0;34m,\u001b[0m \u001b[0mvalue\u001b[0m\u001b[0;34m)\u001b[0m\u001b[0;34m:\u001b[0m\u001b[0;34m\u001b[0m\u001b[0;34m\u001b[0m\u001b[0m\n",
            "\u001b[0;32m/usr/local/lib/python3.8/dist-packages/pandas/core/frame.py\u001b[0m in \u001b[0;36m_set_item\u001b[0;34m(self, key, value)\u001b[0m\n\u001b[1;32m   3795\u001b[0m                     \u001b[0mvalue\u001b[0m \u001b[0;34m=\u001b[0m \u001b[0mnp\u001b[0m\u001b[0;34m.\u001b[0m\u001b[0mtile\u001b[0m\u001b[0;34m(\u001b[0m\u001b[0mvalue\u001b[0m\u001b[0;34m,\u001b[0m \u001b[0;34m(\u001b[0m\u001b[0mlen\u001b[0m\u001b[0;34m(\u001b[0m\u001b[0mexisting_piece\u001b[0m\u001b[0;34m.\u001b[0m\u001b[0mcolumns\u001b[0m\u001b[0;34m)\u001b[0m\u001b[0;34m,\u001b[0m \u001b[0;36m1\u001b[0m\u001b[0;34m)\u001b[0m\u001b[0;34m)\u001b[0m\u001b[0;34m.\u001b[0m\u001b[0mT\u001b[0m\u001b[0;34m\u001b[0m\u001b[0;34m\u001b[0m\u001b[0m\n\u001b[1;32m   3796\u001b[0m \u001b[0;34m\u001b[0m\u001b[0m\n\u001b[0;32m-> 3797\u001b[0;31m         \u001b[0mself\u001b[0m\u001b[0;34m.\u001b[0m\u001b[0m_set_item_mgr\u001b[0m\u001b[0;34m(\u001b[0m\u001b[0mkey\u001b[0m\u001b[0;34m,\u001b[0m \u001b[0mvalue\u001b[0m\u001b[0;34m)\u001b[0m\u001b[0;34m\u001b[0m\u001b[0;34m\u001b[0m\u001b[0m\n\u001b[0m\u001b[1;32m   3798\u001b[0m \u001b[0;34m\u001b[0m\u001b[0m\n\u001b[1;32m   3799\u001b[0m     def _set_value(\n",
            "\u001b[0;32m/usr/local/lib/python3.8/dist-packages/pandas/core/frame.py\u001b[0m in \u001b[0;36m_set_item_mgr\u001b[0;34m(self, key, value)\u001b[0m\n\u001b[1;32m   3752\u001b[0m         \u001b[0;32mexcept\u001b[0m \u001b[0mKeyError\u001b[0m\u001b[0;34m:\u001b[0m\u001b[0;34m\u001b[0m\u001b[0;34m\u001b[0m\u001b[0m\n\u001b[1;32m   3753\u001b[0m             \u001b[0;31m# This item wasn't present, just insert at end\u001b[0m\u001b[0;34m\u001b[0m\u001b[0;34m\u001b[0m\u001b[0;34m\u001b[0m\u001b[0m\n\u001b[0;32m-> 3754\u001b[0;31m             \u001b[0mself\u001b[0m\u001b[0;34m.\u001b[0m\u001b[0m_mgr\u001b[0m\u001b[0;34m.\u001b[0m\u001b[0minsert\u001b[0m\u001b[0;34m(\u001b[0m\u001b[0mlen\u001b[0m\u001b[0;34m(\u001b[0m\u001b[0mself\u001b[0m\u001b[0;34m.\u001b[0m\u001b[0m_info_axis\u001b[0m\u001b[0;34m)\u001b[0m\u001b[0;34m,\u001b[0m \u001b[0mkey\u001b[0m\u001b[0;34m,\u001b[0m \u001b[0mvalue\u001b[0m\u001b[0;34m)\u001b[0m\u001b[0;34m\u001b[0m\u001b[0;34m\u001b[0m\u001b[0m\n\u001b[0m\u001b[1;32m   3755\u001b[0m         \u001b[0;32melse\u001b[0m\u001b[0;34m:\u001b[0m\u001b[0;34m\u001b[0m\u001b[0;34m\u001b[0m\u001b[0m\n\u001b[1;32m   3756\u001b[0m             \u001b[0mself\u001b[0m\u001b[0;34m.\u001b[0m\u001b[0m_iset_item_mgr\u001b[0m\u001b[0;34m(\u001b[0m\u001b[0mloc\u001b[0m\u001b[0;34m,\u001b[0m \u001b[0mvalue\u001b[0m\u001b[0;34m)\u001b[0m\u001b[0;34m\u001b[0m\u001b[0;34m\u001b[0m\u001b[0m\n",
            "\u001b[0;32m/usr/local/lib/python3.8/dist-packages/pandas/core/internals/managers.py\u001b[0m in \u001b[0;36minsert\u001b[0;34m(self, loc, item, value)\u001b[0m\n\u001b[1;32m   1160\u001b[0m             \u001b[0mvalue\u001b[0m \u001b[0;34m=\u001b[0m \u001b[0mensure_block_shape\u001b[0m\u001b[0;34m(\u001b[0m\u001b[0mvalue\u001b[0m\u001b[0;34m,\u001b[0m \u001b[0mndim\u001b[0m\u001b[0;34m=\u001b[0m\u001b[0mself\u001b[0m\u001b[0;34m.\u001b[0m\u001b[0mndim\u001b[0m\u001b[0;34m)\u001b[0m\u001b[0;34m\u001b[0m\u001b[0;34m\u001b[0m\u001b[0m\n\u001b[1;32m   1161\u001b[0m \u001b[0;34m\u001b[0m\u001b[0m\n\u001b[0;32m-> 1162\u001b[0;31m         \u001b[0mblock\u001b[0m \u001b[0;34m=\u001b[0m \u001b[0mnew_block\u001b[0m\u001b[0;34m(\u001b[0m\u001b[0mvalues\u001b[0m\u001b[0;34m=\u001b[0m\u001b[0mvalue\u001b[0m\u001b[0;34m,\u001b[0m \u001b[0mndim\u001b[0m\u001b[0;34m=\u001b[0m\u001b[0mself\u001b[0m\u001b[0;34m.\u001b[0m\u001b[0mndim\u001b[0m\u001b[0;34m,\u001b[0m \u001b[0mplacement\u001b[0m\u001b[0;34m=\u001b[0m\u001b[0mslice\u001b[0m\u001b[0;34m(\u001b[0m\u001b[0mloc\u001b[0m\u001b[0;34m,\u001b[0m \u001b[0mloc\u001b[0m \u001b[0;34m+\u001b[0m \u001b[0;36m1\u001b[0m\u001b[0;34m)\u001b[0m\u001b[0;34m)\u001b[0m\u001b[0;34m\u001b[0m\u001b[0;34m\u001b[0m\u001b[0m\n\u001b[0m\u001b[1;32m   1163\u001b[0m \u001b[0;34m\u001b[0m\u001b[0m\n\u001b[1;32m   1164\u001b[0m         \u001b[0;32mfor\u001b[0m \u001b[0mblkno\u001b[0m\u001b[0;34m,\u001b[0m \u001b[0mcount\u001b[0m \u001b[0;32min\u001b[0m \u001b[0m_fast_count_smallints\u001b[0m\u001b[0;34m(\u001b[0m\u001b[0mself\u001b[0m\u001b[0;34m.\u001b[0m\u001b[0mblknos\u001b[0m\u001b[0;34m[\u001b[0m\u001b[0mloc\u001b[0m\u001b[0;34m:\u001b[0m\u001b[0;34m]\u001b[0m\u001b[0;34m)\u001b[0m\u001b[0;34m:\u001b[0m\u001b[0;34m\u001b[0m\u001b[0;34m\u001b[0m\u001b[0m\n",
            "\u001b[0;32m/usr/local/lib/python3.8/dist-packages/pandas/core/internals/blocks.py\u001b[0m in \u001b[0;36mnew_block\u001b[0;34m(values, placement, ndim, klass)\u001b[0m\n\u001b[1;32m   1935\u001b[0m \u001b[0;34m\u001b[0m\u001b[0m\n\u001b[1;32m   1936\u001b[0m     \u001b[0mvalues\u001b[0m\u001b[0;34m,\u001b[0m \u001b[0m_\u001b[0m \u001b[0;34m=\u001b[0m \u001b[0mextract_pandas_array\u001b[0m\u001b[0;34m(\u001b[0m\u001b[0mvalues\u001b[0m\u001b[0;34m,\u001b[0m \u001b[0;32mNone\u001b[0m\u001b[0;34m,\u001b[0m \u001b[0mndim\u001b[0m\u001b[0;34m)\u001b[0m\u001b[0;34m\u001b[0m\u001b[0;34m\u001b[0m\u001b[0m\n\u001b[0;32m-> 1937\u001b[0;31m     \u001b[0mcheck_ndim\u001b[0m\u001b[0;34m(\u001b[0m\u001b[0mvalues\u001b[0m\u001b[0;34m,\u001b[0m \u001b[0mplacement\u001b[0m\u001b[0;34m,\u001b[0m \u001b[0mndim\u001b[0m\u001b[0;34m)\u001b[0m\u001b[0;34m\u001b[0m\u001b[0;34m\u001b[0m\u001b[0m\n\u001b[0m\u001b[1;32m   1938\u001b[0m \u001b[0;34m\u001b[0m\u001b[0m\n\u001b[1;32m   1939\u001b[0m     \u001b[0;32mif\u001b[0m \u001b[0mklass\u001b[0m \u001b[0;32mis\u001b[0m \u001b[0;32mNone\u001b[0m\u001b[0;34m:\u001b[0m\u001b[0;34m\u001b[0m\u001b[0;34m\u001b[0m\u001b[0m\n",
            "\u001b[0;32m/usr/local/lib/python3.8/dist-packages/pandas/core/internals/blocks.py\u001b[0m in \u001b[0;36mcheck_ndim\u001b[0;34m(values, placement, ndim)\u001b[0m\n\u001b[1;32m   1977\u001b[0m             )\n\u001b[1;32m   1978\u001b[0m         \u001b[0;32mif\u001b[0m \u001b[0mlen\u001b[0m\u001b[0;34m(\u001b[0m\u001b[0mplacement\u001b[0m\u001b[0;34m)\u001b[0m \u001b[0;34m!=\u001b[0m \u001b[0mlen\u001b[0m\u001b[0;34m(\u001b[0m\u001b[0mvalues\u001b[0m\u001b[0;34m)\u001b[0m\u001b[0;34m:\u001b[0m\u001b[0;34m\u001b[0m\u001b[0;34m\u001b[0m\u001b[0m\n\u001b[0;32m-> 1979\u001b[0;31m             raise ValueError(\n\u001b[0m\u001b[1;32m   1980\u001b[0m                 \u001b[0;34mf\"Wrong number of items passed {len(values)}, \"\u001b[0m\u001b[0;34m\u001b[0m\u001b[0;34m\u001b[0m\u001b[0m\n\u001b[1;32m   1981\u001b[0m                 \u001b[0;34mf\"placement implies {len(placement)}\"\u001b[0m\u001b[0;34m\u001b[0m\u001b[0;34m\u001b[0m\u001b[0m\n",
            "\u001b[0;31mValueError\u001b[0m: Wrong number of items passed 6, placement implies 1"
          ]
        }
      ],
      "source": [
        "bestFoundClusterNumber = 12\n",
        "kmeansBest = KMeans( init=\"random\",n_clusters=bestFoundClusterNumber,n_init=10,max_iter=300,random_state=42)  #model = KMeans(n_clusters=10, init='k-means++', max_iter=100, n_init=1, verbose=False)\\\\\n",
        "kmeansBest.fit(useEmbedding)\n",
        "\n",
        "comments_df= pd.DataFrame()\n",
        "comments_df['data_index'] = X_train\n",
        "comments_df['cluster'] = kmeansBest.labels_\n",
        "comments_df['real_categorie'] = y_train_categories\n",
        "\n",
        "comments_df"
      ]
    },
    {
      "cell_type": "markdown",
      "metadata": {
        "id": "6IcF7GYs_iKu"
      },
      "source": [
        "#### similarity measurements"
      ]
    },
    {
      "cell_type": "code",
      "execution_count": null,
      "metadata": {
        "id": "qlNV97N8_hid"
      },
      "outputs": [],
      "source": [
        "print(cosine_similarity([useEmbedding[0],useEmbedding[35]]))\n",
        "print(cosine_similarity([useEmbedding[0],useEmbedding[1]]))\n",
        "print(euclidean_distances([useEmbedding[0],useEmbedding[1]]))\n",
        "print(euclidean_distances([useEmbedding[0],useEmbedding[1]]))"
      ]
    },
    {
      "cell_type": "code",
      "execution_count": null,
      "metadata": {
        "id": "wKi9-mQTkRiQ"
      },
      "outputs": [],
      "source": [
        "\n",
        "pairwise_similarities=cosine_similarity(useEmbedding)\n",
        "pairwise_differences=euclidean_distances(useEmbedding)\n",
        "\n",
        "def most_similar(doc_id,similarity_matrix,matrix, comments):\n",
        "  print (f'Document: {comments.iloc[doc_id][\"data_index\"]}')\n",
        "  print ('\\n')\n",
        "  print ('Similar Documents:')\n",
        "  if matrix=='Cosine Similarity':\n",
        "      similar_ix=np.argsort(similarity_matrix[doc_id])[::-1]\n",
        "  elif matrix=='Euclidean Distance':\n",
        "      similar_ix=np.argsort(similarity_matrix[doc_id])\n",
        "  for ix in similar_ix:\n",
        "      if ix==doc_id:\n",
        "          continue\n",
        "      print('\\n')\n",
        "      print (f'Document: {comments.iloc[ix][\"data_index\"]}')\n",
        "      print (f'{matrix} : {similarity_matrix[doc_id][ix]}')\n",
        "\n",
        "most_similar(20,pairwise_similarities,'Cosine Similarity', comments_df)\n",
        ""
      ]
    },
    {
      "cell_type": "code",
      "execution_count": null,
      "metadata": {
        "id": "lXxMRYo6r5EA"
      },
      "outputs": [],
      "source": [
        "most_similar(0,pairwise_differences,'Euclidean Distance', comments_df)"
      ]
    },
    {
      "cell_type": "markdown",
      "metadata": {
        "id": "65mOU7LQQ_Tu"
      },
      "source": [
        "# assigment of clusters to categories"
      ]
    },
    {
      "cell_type": "code",
      "execution_count": null,
      "metadata": {
        "id": "0dPciXOQJIjX"
      },
      "outputs": [],
      "source": [
        "# Initialize the coincidence matrix\n",
        "coincidence_matrix = np.zeros((bestFoundClusterNumber, y_train_categories.shape[1]))\n",
        "\n",
        "# Initialize the  perfect possible results matrix\n",
        "perfect_results_matrix = np.zeros((bestFoundClusterNumber, y_train_categories.shape[1]))\n",
        "\n",
        "# Initialize the  coincidence matrix in percentages\n",
        "coincidence_matrix_percentage = np.zeros((bestFoundClusterNumber, y_train_categories.shape[1]))\n",
        "\n",
        "# Iterate over each category and each column in the matrix\n",
        "for i in range(bestFoundClusterNumber):\n",
        "    # the external  loop changes the clusters calculated by clustering\n",
        "    for j in range(y_train_categories.shape[1]):\n",
        "        # the internal loop changes the categories given at the beginning\n",
        "        # Calculate the number of coincidences between the category and the column\n",
        "        coincidence = np.sum(kmeansBest.labels_[y_train_categories[:, j] == 1] == i) # first filter the the elemnts of the array on one category that are true, then of those\n",
        "        total_real_ocurrences = np.sum(y_train_categories[:, j] == 1)\n",
        "\n",
        "        # perfect possible results matrix\n",
        "        perfect_results_matrix[i, j] = total_real_ocurrences\n",
        "\n",
        "        # Store the coincidence in the matrix\n",
        "        coincidence_matrix[i, j] = coincidence\n",
        "\n",
        "        # Store the coincidence in the matrix in percentage\n",
        "        coincidence_matrix_percentage[i, j] = coincidence/total_real_ocurrences\n",
        "\n",
        "\n",
        "# Graph of the coincidence matrix in percentages\n",
        "# names of the real columns are in the array categories_labels.columns\n",
        "\n",
        "\n"
      ]
    },
    {
      "cell_type": "code",
      "execution_count": null,
      "metadata": {
        "id": "oTsiDja89WQs"
      },
      "outputs": [],
      "source": [
        "fig, ax = plt.subplots(figsize=(10, 8))\n",
        "im = ax.imshow(coincidence_matrix_percentage, cmap=plt.cm.get_cmap('RdYlGn'))\n",
        "\n",
        "# Set x-axis and y-axis tick labels\n",
        "ax.set_xticks(np.arange(y_train_categories.shape[1]))\n",
        "ax.set_xticklabels(categories_labels.columns, rotation=90)\n",
        "ax.set_yticks(np.arange(bestFoundClusterNumber))\n",
        "ax.set_yticklabels(['Cluster ' + str(i+1) for i in range(bestFoundClusterNumber)])\n",
        "\n",
        "# Create a colorbar\n",
        "cbar = ax.figure.colorbar(im, ax=ax)\n",
        "cbar.ax.set_ylabel('Coincidence Percentage', rotation=-90, va=\"bottom\")\n",
        "\n",
        "# Set plot title and labels\n",
        "ax.set_title('Coincidence Matrix in Percentages')\n",
        "ax.set_xlabel('Categories')\n",
        "ax.set_ylabel('Clusters')\n",
        "\n",
        "plt.show()"
      ]
    },
    {
      "cell_type": "code",
      "execution_count": null,
      "metadata": {
        "id": "QlHUqoALCw-m"
      },
      "outputs": [],
      "source": [
        "\n",
        "# Set the style of the plot\n",
        "sns.set_style('white')\n",
        "\n",
        "# Create the heatmap using seaborn\n",
        "fig, ax = plt.subplots(figsize=(10, 8))\n",
        "sns.heatmap(coincidence_matrix_percentage, cmap='coolwarm', annot=True, fmt='.2f',\n",
        "            xticklabels=categories_labels.columns, yticklabels=['Cluster ' + str(i+1) for i in range(bestFoundClusterNumber)], ax=ax)\n",
        "\n",
        "# Set the title and labels\n",
        "ax.set_title('Coincidence Matrix in Percentages', fontsize=16)\n",
        "ax.set_xlabel('Categories', fontsize=14)\n",
        "ax.set_ylabel('Clusters', fontsize=14)\n",
        "\n",
        "# Set the colorbar label\n",
        "cbar = ax.collections[0].colorbar\n",
        "cbar.ax.set_ylabel('Coincidence Percentage', rotation=-90, va=\"bottom\", fontsize=12)\n",
        "\n",
        "plt.show()"
      ]
    },
    {
      "cell_type": "markdown",
      "metadata": {
        "id": "lern2yv7-V9j"
      },
      "source": [
        "# assigment of clusters to sub_categories\n"
      ]
    },
    {
      "cell_type": "code",
      "execution_count": null,
      "metadata": {
        "id": "fEd13o3x-V9k"
      },
      "outputs": [],
      "source": [
        "# Initialize the coincidence matrix\n",
        "coincidence_matrix = np.zeros((bestFoundClusterNumber, y_train_sub_categories.shape[1]))\n",
        "\n",
        "# Initialize the  perfect possible results matrix\n",
        "perfect_results_matrix = np.zeros((bestFoundClusterNumber, y_train_sub_categories.shape[1]))\n",
        "\n",
        "# Initialize the  coincidence matrix in percentages\n",
        "coincidence_matrix_percentage = np.zeros((bestFoundClusterNumber, y_train_sub_categories.shape[1]))\n",
        "\n",
        "# Iterate over each category and each column in the matrix\n",
        "for i in range(bestFoundClusterNumber):\n",
        "    # the external  loop changes the clusters calculated by clustering\n",
        "    for j in range(y_train_sub_categories.shape[1]):\n",
        "        # the internal loop changes the categories given at the beginning\n",
        "        # Calculate the number of coincidences between the category and the column\n",
        "        coincidence = np.sum(kmeansBest.labels_[y_train_sub_categories[:, j] == 1] == i) # first filter the the elemnts of the array on one category that are true, then of those\n",
        "        total_real_ocurrences = np.sum(y_train_sub_categories[:, j] == 1)\n",
        "\n",
        "        # perfect possible results matrix\n",
        "        perfect_results_matrix[i, j] = total_real_ocurrences\n",
        "\n",
        "        # Store the coincidence in the matrix\n",
        "        coincidence_matrix[i, j] = coincidence\n",
        "\n",
        "        # Store the coincidence in the matrix in percentage\n",
        "        coincidence_matrix_percentage[i, j] = coincidence/total_real_ocurrences\n",
        "\n",
        "\n",
        "# Graph of the coincidence matrix in percentages\n",
        "# names of the real columns are in the array categories_labels.columns\n",
        "\n",
        "\n"
      ]
    },
    {
      "cell_type": "code",
      "execution_count": null,
      "metadata": {
        "id": "Vck7Ksqv-V9l"
      },
      "outputs": [],
      "source": [
        "fig, ax = plt.subplots(figsize=(10, 8))\n",
        "im = ax.imshow(coincidence_matrix_percentage, cmap=plt.cm.get_cmap('RdYlGn'))\n",
        "\n",
        "# Set x-axis and y-axis tick labels\n",
        "ax.set_xticks(np.arange(y_train_sub_categories.shape[1]))\n",
        "ax.set_xticklabels(sub_categories_labels.columns, rotation=90)\n",
        "ax.set_yticks(np.arange(bestFoundClusterNumber))\n",
        "ax.set_yticklabels(['Cluster ' + str(i+1) for i in range(bestFoundClusterNumber)])\n",
        "\n",
        "# Create a colorbar\n",
        "cbar = ax.figure.colorbar(im, ax=ax)\n",
        "cbar.ax.set_ylabel('Coincidence Percentage', rotation=-90, va=\"bottom\")\n",
        "\n",
        "# Set plot title and labels\n",
        "ax.set_title('Coincidence Matrix in Percentages')\n",
        "ax.set_xlabel('Sub_Categories')\n",
        "ax.set_ylabel('Clusters')\n",
        "\n",
        "plt.show()"
      ]
    }
  ],
  "metadata": {
    "colab": {
      "provenance": []
    },
    "kernelspec": {
      "display_name": "Python 3",
      "name": "python3"
    },
    "language_info": {
      "name": "python"
    }
  },
  "nbformat": 4,
  "nbformat_minor": 0
}