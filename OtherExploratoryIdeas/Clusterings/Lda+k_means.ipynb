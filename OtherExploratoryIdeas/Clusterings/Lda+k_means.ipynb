{
  "cells": [
    {
      "cell_type": "markdown",
      "metadata": {
        "id": "8uehpqeRqyA8"
      },
      "source": [
        "# Aprender a programar Basic set up"
      ]
    },
    {
      "cell_type": "markdown",
      "metadata": {
        "id": "QHpSO6IVCvMn"
      },
      "source": [
        "notebook exploring LDA to see the number of clusters generated fr the survey data. To examine the best number of clusters we use coherence score c_v and u_mass; other methods like  silhouette coefﬁcient are not appropiate for LDA direct output data.\n",
        "\n",
        "\n",
        "-Results : obtained scores were low in general and very inconsistent.\n",
        "\n",
        "-Remarks:\n",
        "* the model is very sensitive, and small changes in the nomalization or preprocessing make complete different clusters and coherenec scores"
      ]
    },
    {
      "cell_type": "markdown",
      "metadata": {
        "id": "1Qr3CW5_Cu_C"
      },
      "source": [
        "#### install libraries"
      ]
    },
    {
      "cell_type": "code",
      "execution_count": null,
      "metadata": {
        "colab": {
          "base_uri": "https://localhost:8080/"
        },
        "id": "Pdy-5lB3395A",
        "outputId": "8bb1a77e-1fbc-4c74-ea1f-42e5bd187e4e"
      },
      "outputs": [
        {
          "name": "stdout",
          "output_type": "stream",
          "text": [
            "Looking in indexes: https://pypi.org/simple, https://us-python.pkg.dev/colab-wheels/public/simple/\n",
            "Requirement already satisfied: spacy in /usr/local/lib/python3.8/dist-packages (3.4.4)\n",
            "Collecting spacy\n",
            "  Downloading spacy-3.5.0-cp38-cp38-manylinux_2_17_x86_64.manylinux2014_x86_64.whl (6.7 MB)\n",
            "\u001b[2K     \u001b[90m━━━━━━━━━━━━━━━━━━━━━━━━━━━━━━━━━━━━━━━━\u001b[0m \u001b[32m6.7/6.7 MB\u001b[0m \u001b[31m28.4 MB/s\u001b[0m eta \u001b[36m0:00:00\u001b[0m\n",
            "\u001b[?25hRequirement already satisfied: wasabi<1.2.0,>=0.9.1 in /usr/local/lib/python3.8/dist-packages (from spacy) (0.10.1)\n",
            "Requirement already satisfied: murmurhash<1.1.0,>=0.28.0 in /usr/local/lib/python3.8/dist-packages (from spacy) (1.0.9)\n",
            "Requirement already satisfied: thinc<8.2.0,>=8.1.0 in /usr/local/lib/python3.8/dist-packages (from spacy) (8.1.6)\n",
            "Requirement already satisfied: jinja2 in /usr/local/lib/python3.8/dist-packages (from spacy) (2.11.3)\n",
            "Requirement already satisfied: spacy-legacy<3.1.0,>=3.0.11 in /usr/local/lib/python3.8/dist-packages (from spacy) (3.0.11)\n",
            "Requirement already satisfied: pydantic!=1.8,!=1.8.1,<1.11.0,>=1.7.4 in /usr/local/lib/python3.8/dist-packages (from spacy) (1.10.4)\n",
            "Requirement already satisfied: setuptools in /usr/local/lib/python3.8/dist-packages (from spacy) (57.4.0)\n",
            "Requirement already satisfied: catalogue<2.1.0,>=2.0.6 in /usr/local/lib/python3.8/dist-packages (from spacy) (2.0.8)\n",
            "Requirement already satisfied: typer<0.8.0,>=0.3.0 in /usr/local/lib/python3.8/dist-packages (from spacy) (0.7.0)\n",
            "Requirement already satisfied: packaging>=20.0 in /usr/local/lib/python3.8/dist-packages (from spacy) (21.3)\n",
            "Requirement already satisfied: srsly<3.0.0,>=2.4.3 in /usr/local/lib/python3.8/dist-packages (from spacy) (2.4.5)\n",
            "Requirement already satisfied: tqdm<5.0.0,>=4.38.0 in /usr/local/lib/python3.8/dist-packages (from spacy) (4.64.1)\n",
            "Requirement already satisfied: preshed<3.1.0,>=3.0.2 in /usr/local/lib/python3.8/dist-packages (from spacy) (3.0.8)\n",
            "Requirement already satisfied: langcodes<4.0.0,>=3.2.0 in /usr/local/lib/python3.8/dist-packages (from spacy) (3.3.0)\n",
            "Requirement already satisfied: pathy>=0.10.0 in /usr/local/lib/python3.8/dist-packages (from spacy) (0.10.1)\n",
            "Requirement already satisfied: spacy-loggers<2.0.0,>=1.0.0 in /usr/local/lib/python3.8/dist-packages (from spacy) (1.0.4)\n",
            "Requirement already satisfied: smart-open<7.0.0,>=5.2.1 in /usr/local/lib/python3.8/dist-packages (from spacy) (6.3.0)\n",
            "Requirement already satisfied: cymem<2.1.0,>=2.0.2 in /usr/local/lib/python3.8/dist-packages (from spacy) (2.0.7)\n",
            "Requirement already satisfied: numpy>=1.15.0 in /usr/local/lib/python3.8/dist-packages (from spacy) (1.21.6)\n",
            "Requirement already satisfied: requests<3.0.0,>=2.13.0 in /usr/local/lib/python3.8/dist-packages (from spacy) (2.25.1)\n",
            "Requirement already satisfied: pyparsing!=3.0.5,>=2.0.2 in /usr/local/lib/python3.8/dist-packages (from packaging>=20.0->spacy) (3.0.9)\n",
            "Requirement already satisfied: typing-extensions>=4.2.0 in /usr/local/lib/python3.8/dist-packages (from pydantic!=1.8,!=1.8.1,<1.11.0,>=1.7.4->spacy) (4.4.0)\n",
            "Requirement already satisfied: chardet<5,>=3.0.2 in /usr/local/lib/python3.8/dist-packages (from requests<3.0.0,>=2.13.0->spacy) (4.0.0)\n",
            "Requirement already satisfied: urllib3<1.27,>=1.21.1 in /usr/local/lib/python3.8/dist-packages (from requests<3.0.0,>=2.13.0->spacy) (1.24.3)\n",
            "Requirement already satisfied: certifi>=2017.4.17 in /usr/local/lib/python3.8/dist-packages (from requests<3.0.0,>=2.13.0->spacy) (2022.12.7)\n",
            "Requirement already satisfied: idna<3,>=2.5 in /usr/local/lib/python3.8/dist-packages (from requests<3.0.0,>=2.13.0->spacy) (2.10)\n",
            "Requirement already satisfied: confection<1.0.0,>=0.0.1 in /usr/local/lib/python3.8/dist-packages (from thinc<8.2.0,>=8.1.0->spacy) (0.0.3)\n",
            "Requirement already satisfied: blis<0.8.0,>=0.7.8 in /usr/local/lib/python3.8/dist-packages (from thinc<8.2.0,>=8.1.0->spacy) (0.7.9)\n",
            "Requirement already satisfied: click<9.0.0,>=7.1.1 in /usr/local/lib/python3.8/dist-packages (from typer<0.8.0,>=0.3.0->spacy) (7.1.2)\n",
            "Requirement already satisfied: MarkupSafe>=0.23 in /usr/local/lib/python3.8/dist-packages (from jinja2->spacy) (2.0.1)\n",
            "Installing collected packages: spacy\n",
            "  Attempting uninstall: spacy\n",
            "    Found existing installation: spacy 3.4.4\n",
            "    Uninstalling spacy-3.4.4:\n",
            "      Successfully uninstalled spacy-3.4.4\n",
            "\u001b[31mERROR: pip's dependency resolver does not currently take into account all the packages that are installed. This behaviour is the source of the following dependency conflicts.\n",
            "en-core-web-sm 3.4.1 requires spacy<3.5.0,>=3.4.0, but you have spacy 3.5.0 which is incompatible.\u001b[0m\u001b[31m\n",
            "\u001b[0mSuccessfully installed spacy-3.5.0\n",
            "/usr/local/lib/python3.8/dist-packages/torch/cuda/__init__.py:497: UserWarning: Can't initialize NVML\n",
            "  warnings.warn(\"Can't initialize NVML\")\n",
            "2023-01-25 01:30:41.270343: E tensorflow/stream_executor/cuda/cuda_driver.cc:271] failed call to cuInit: CUDA_ERROR_NO_DEVICE: no CUDA-capable device is detected\n",
            "\u001b[38;5;3m⚠ As of spaCy v3.0, shortcuts like 'es' are deprecated. Please use the\n",
            "full pipeline package name 'es_core_news_sm' instead.\u001b[0m\n",
            "Looking in indexes: https://pypi.org/simple, https://us-python.pkg.dev/colab-wheels/public/simple/\n",
            "Collecting es-core-news-sm==3.5.0\n",
            "  Downloading https://github.com/explosion/spacy-models/releases/download/es_core_news_sm-3.5.0/es_core_news_sm-3.5.0-py3-none-any.whl (12.9 MB)\n",
            "\u001b[2K     \u001b[90m━━━━━━━━━━━━━━━━━━━━━━━━━━━━━━━━━━━━━━━━\u001b[0m \u001b[32m12.9/12.9 MB\u001b[0m \u001b[31m25.3 MB/s\u001b[0m eta \u001b[36m0:00:00\u001b[0m\n",
            "\u001b[?25hRequirement already satisfied: spacy<3.6.0,>=3.5.0 in /usr/local/lib/python3.8/dist-packages (from es-core-news-sm==3.5.0) (3.5.0)\n",
            "Requirement already satisfied: srsly<3.0.0,>=2.4.3 in /usr/local/lib/python3.8/dist-packages (from spacy<3.6.0,>=3.5.0->es-core-news-sm==3.5.0) (2.4.5)\n",
            "Requirement already satisfied: setuptools in /usr/local/lib/python3.8/dist-packages (from spacy<3.6.0,>=3.5.0->es-core-news-sm==3.5.0) (57.4.0)\n",
            "Requirement already satisfied: spacy-legacy<3.1.0,>=3.0.11 in /usr/local/lib/python3.8/dist-packages (from spacy<3.6.0,>=3.5.0->es-core-news-sm==3.5.0) (3.0.11)\n",
            "Requirement already satisfied: pathy>=0.10.0 in /usr/local/lib/python3.8/dist-packages (from spacy<3.6.0,>=3.5.0->es-core-news-sm==3.5.0) (0.10.1)\n",
            "Requirement already satisfied: murmurhash<1.1.0,>=0.28.0 in /usr/local/lib/python3.8/dist-packages (from spacy<3.6.0,>=3.5.0->es-core-news-sm==3.5.0) (1.0.9)\n",
            "Requirement already satisfied: requests<3.0.0,>=2.13.0 in /usr/local/lib/python3.8/dist-packages (from spacy<3.6.0,>=3.5.0->es-core-news-sm==3.5.0) (2.25.1)\n",
            "Requirement already satisfied: langcodes<4.0.0,>=3.2.0 in /usr/local/lib/python3.8/dist-packages (from spacy<3.6.0,>=3.5.0->es-core-news-sm==3.5.0) (3.3.0)\n",
            "Requirement already satisfied: packaging>=20.0 in /usr/local/lib/python3.8/dist-packages (from spacy<3.6.0,>=3.5.0->es-core-news-sm==3.5.0) (21.3)\n",
            "Requirement already satisfied: tqdm<5.0.0,>=4.38.0 in /usr/local/lib/python3.8/dist-packages (from spacy<3.6.0,>=3.5.0->es-core-news-sm==3.5.0) (4.64.1)\n",
            "Requirement already satisfied: thinc<8.2.0,>=8.1.0 in /usr/local/lib/python3.8/dist-packages (from spacy<3.6.0,>=3.5.0->es-core-news-sm==3.5.0) (8.1.6)\n",
            "Requirement already satisfied: jinja2 in /usr/local/lib/python3.8/dist-packages (from spacy<3.6.0,>=3.5.0->es-core-news-sm==3.5.0) (2.11.3)\n",
            "Requirement already satisfied: wasabi<1.2.0,>=0.9.1 in /usr/local/lib/python3.8/dist-packages (from spacy<3.6.0,>=3.5.0->es-core-news-sm==3.5.0) (0.10.1)\n",
            "Requirement already satisfied: catalogue<2.1.0,>=2.0.6 in /usr/local/lib/python3.8/dist-packages (from spacy<3.6.0,>=3.5.0->es-core-news-sm==3.5.0) (2.0.8)\n",
            "Requirement already satisfied: numpy>=1.15.0 in /usr/local/lib/python3.8/dist-packages (from spacy<3.6.0,>=3.5.0->es-core-news-sm==3.5.0) (1.21.6)\n",
            "Requirement already satisfied: typer<0.8.0,>=0.3.0 in /usr/local/lib/python3.8/dist-packages (from spacy<3.6.0,>=3.5.0->es-core-news-sm==3.5.0) (0.7.0)\n",
            "Requirement already satisfied: smart-open<7.0.0,>=5.2.1 in /usr/local/lib/python3.8/dist-packages (from spacy<3.6.0,>=3.5.0->es-core-news-sm==3.5.0) (6.3.0)\n",
            "Requirement already satisfied: preshed<3.1.0,>=3.0.2 in /usr/local/lib/python3.8/dist-packages (from spacy<3.6.0,>=3.5.0->es-core-news-sm==3.5.0) (3.0.8)\n",
            "Requirement already satisfied: spacy-loggers<2.0.0,>=1.0.0 in /usr/local/lib/python3.8/dist-packages (from spacy<3.6.0,>=3.5.0->es-core-news-sm==3.5.0) (1.0.4)\n",
            "Requirement already satisfied: cymem<2.1.0,>=2.0.2 in /usr/local/lib/python3.8/dist-packages (from spacy<3.6.0,>=3.5.0->es-core-news-sm==3.5.0) (2.0.7)\n",
            "Requirement already satisfied: pydantic!=1.8,!=1.8.1,<1.11.0,>=1.7.4 in /usr/local/lib/python3.8/dist-packages (from spacy<3.6.0,>=3.5.0->es-core-news-sm==3.5.0) (1.10.4)\n",
            "Requirement already satisfied: pyparsing!=3.0.5,>=2.0.2 in /usr/local/lib/python3.8/dist-packages (from packaging>=20.0->spacy<3.6.0,>=3.5.0->es-core-news-sm==3.5.0) (3.0.9)\n",
            "Requirement already satisfied: typing-extensions>=4.2.0 in /usr/local/lib/python3.8/dist-packages (from pydantic!=1.8,!=1.8.1,<1.11.0,>=1.7.4->spacy<3.6.0,>=3.5.0->es-core-news-sm==3.5.0) (4.4.0)\n",
            "Requirement already satisfied: certifi>=2017.4.17 in /usr/local/lib/python3.8/dist-packages (from requests<3.0.0,>=2.13.0->spacy<3.6.0,>=3.5.0->es-core-news-sm==3.5.0) (2022.12.7)\n",
            "Requirement already satisfied: idna<3,>=2.5 in /usr/local/lib/python3.8/dist-packages (from requests<3.0.0,>=2.13.0->spacy<3.6.0,>=3.5.0->es-core-news-sm==3.5.0) (2.10)\n",
            "Requirement already satisfied: urllib3<1.27,>=1.21.1 in /usr/local/lib/python3.8/dist-packages (from requests<3.0.0,>=2.13.0->spacy<3.6.0,>=3.5.0->es-core-news-sm==3.5.0) (1.24.3)\n",
            "Requirement already satisfied: chardet<5,>=3.0.2 in /usr/local/lib/python3.8/dist-packages (from requests<3.0.0,>=2.13.0->spacy<3.6.0,>=3.5.0->es-core-news-sm==3.5.0) (4.0.0)\n",
            "Requirement already satisfied: blis<0.8.0,>=0.7.8 in /usr/local/lib/python3.8/dist-packages (from thinc<8.2.0,>=8.1.0->spacy<3.6.0,>=3.5.0->es-core-news-sm==3.5.0) (0.7.9)\n",
            "Requirement already satisfied: confection<1.0.0,>=0.0.1 in /usr/local/lib/python3.8/dist-packages (from thinc<8.2.0,>=8.1.0->spacy<3.6.0,>=3.5.0->es-core-news-sm==3.5.0) (0.0.3)\n",
            "Requirement already satisfied: click<9.0.0,>=7.1.1 in /usr/local/lib/python3.8/dist-packages (from typer<0.8.0,>=0.3.0->spacy<3.6.0,>=3.5.0->es-core-news-sm==3.5.0) (7.1.2)\n",
            "Requirement already satisfied: MarkupSafe>=0.23 in /usr/local/lib/python3.8/dist-packages (from jinja2->spacy<3.6.0,>=3.5.0->es-core-news-sm==3.5.0) (2.0.1)\n",
            "Installing collected packages: es-core-news-sm\n",
            "Successfully installed es-core-news-sm-3.5.0\n",
            "\u001b[38;5;2m✔ Download and installation successful\u001b[0m\n",
            "You can now load the package via spacy.load('es_core_news_sm')\n",
            "/usr/local/lib/python3.8/dist-packages/torch/cuda/__init__.py:497: UserWarning: Can't initialize NVML\n",
            "  warnings.warn(\"Can't initialize NVML\")\n",
            "2023-01-25 01:30:55.419274: E tensorflow/stream_executor/cuda/cuda_driver.cc:271] failed call to cuInit: CUDA_ERROR_NO_DEVICE: no CUDA-capable device is detected\n",
            "Looking in indexes: https://pypi.org/simple, https://us-python.pkg.dev/colab-wheels/public/simple/\n",
            "Collecting es-core-news-md==3.5.0\n",
            "  Downloading https://github.com/explosion/spacy-models/releases/download/es_core_news_md-3.5.0/es_core_news_md-3.5.0-py3-none-any.whl (42.3 MB)\n",
            "\u001b[2K     \u001b[90m━━━━━━━━━━━━━━━━━━━━━━━━━━━━━━━━━━━━━━━━\u001b[0m \u001b[32m42.3/42.3 MB\u001b[0m \u001b[31m19.9 MB/s\u001b[0m eta \u001b[36m0:00:00\u001b[0m\n",
            "\u001b[?25hRequirement already satisfied: spacy<3.6.0,>=3.5.0 in /usr/local/lib/python3.8/dist-packages (from es-core-news-md==3.5.0) (3.5.0)\n",
            "Requirement already satisfied: requests<3.0.0,>=2.13.0 in /usr/local/lib/python3.8/dist-packages (from spacy<3.6.0,>=3.5.0->es-core-news-md==3.5.0) (2.25.1)\n",
            "Requirement already satisfied: langcodes<4.0.0,>=3.2.0 in /usr/local/lib/python3.8/dist-packages (from spacy<3.6.0,>=3.5.0->es-core-news-md==3.5.0) (3.3.0)\n",
            "Requirement already satisfied: smart-open<7.0.0,>=5.2.1 in /usr/local/lib/python3.8/dist-packages (from spacy<3.6.0,>=3.5.0->es-core-news-md==3.5.0) (6.3.0)\n",
            "Requirement already satisfied: pathy>=0.10.0 in /usr/local/lib/python3.8/dist-packages (from spacy<3.6.0,>=3.5.0->es-core-news-md==3.5.0) (0.10.1)\n",
            "Requirement already satisfied: tqdm<5.0.0,>=4.38.0 in /usr/local/lib/python3.8/dist-packages (from spacy<3.6.0,>=3.5.0->es-core-news-md==3.5.0) (4.64.1)\n",
            "Requirement already satisfied: spacy-loggers<2.0.0,>=1.0.0 in /usr/local/lib/python3.8/dist-packages (from spacy<3.6.0,>=3.5.0->es-core-news-md==3.5.0) (1.0.4)\n",
            "Requirement already satisfied: packaging>=20.0 in /usr/local/lib/python3.8/dist-packages (from spacy<3.6.0,>=3.5.0->es-core-news-md==3.5.0) (21.3)\n",
            "Requirement already satisfied: cymem<2.1.0,>=2.0.2 in /usr/local/lib/python3.8/dist-packages (from spacy<3.6.0,>=3.5.0->es-core-news-md==3.5.0) (2.0.7)\n",
            "Requirement already satisfied: murmurhash<1.1.0,>=0.28.0 in /usr/local/lib/python3.8/dist-packages (from spacy<3.6.0,>=3.5.0->es-core-news-md==3.5.0) (1.0.9)\n",
            "Requirement already satisfied: setuptools in /usr/local/lib/python3.8/dist-packages (from spacy<3.6.0,>=3.5.0->es-core-news-md==3.5.0) (57.4.0)\n",
            "Requirement already satisfied: wasabi<1.2.0,>=0.9.1 in /usr/local/lib/python3.8/dist-packages (from spacy<3.6.0,>=3.5.0->es-core-news-md==3.5.0) (0.10.1)\n",
            "Requirement already satisfied: preshed<3.1.0,>=3.0.2 in /usr/local/lib/python3.8/dist-packages (from spacy<3.6.0,>=3.5.0->es-core-news-md==3.5.0) (3.0.8)\n",
            "Requirement already satisfied: numpy>=1.15.0 in /usr/local/lib/python3.8/dist-packages (from spacy<3.6.0,>=3.5.0->es-core-news-md==3.5.0) (1.21.6)\n",
            "Requirement already satisfied: thinc<8.2.0,>=8.1.0 in /usr/local/lib/python3.8/dist-packages (from spacy<3.6.0,>=3.5.0->es-core-news-md==3.5.0) (8.1.6)\n",
            "Requirement already satisfied: jinja2 in /usr/local/lib/python3.8/dist-packages (from spacy<3.6.0,>=3.5.0->es-core-news-md==3.5.0) (2.11.3)\n",
            "Requirement already satisfied: typer<0.8.0,>=0.3.0 in /usr/local/lib/python3.8/dist-packages (from spacy<3.6.0,>=3.5.0->es-core-news-md==3.5.0) (0.7.0)\n",
            "Requirement already satisfied: pydantic!=1.8,!=1.8.1,<1.11.0,>=1.7.4 in /usr/local/lib/python3.8/dist-packages (from spacy<3.6.0,>=3.5.0->es-core-news-md==3.5.0) (1.10.4)\n",
            "Requirement already satisfied: catalogue<2.1.0,>=2.0.6 in /usr/local/lib/python3.8/dist-packages (from spacy<3.6.0,>=3.5.0->es-core-news-md==3.5.0) (2.0.8)\n",
            "Requirement already satisfied: spacy-legacy<3.1.0,>=3.0.11 in /usr/local/lib/python3.8/dist-packages (from spacy<3.6.0,>=3.5.0->es-core-news-md==3.5.0) (3.0.11)\n",
            "Requirement already satisfied: srsly<3.0.0,>=2.4.3 in /usr/local/lib/python3.8/dist-packages (from spacy<3.6.0,>=3.5.0->es-core-news-md==3.5.0) (2.4.5)\n",
            "Requirement already satisfied: pyparsing!=3.0.5,>=2.0.2 in /usr/local/lib/python3.8/dist-packages (from packaging>=20.0->spacy<3.6.0,>=3.5.0->es-core-news-md==3.5.0) (3.0.9)\n",
            "Requirement already satisfied: typing-extensions>=4.2.0 in /usr/local/lib/python3.8/dist-packages (from pydantic!=1.8,!=1.8.1,<1.11.0,>=1.7.4->spacy<3.6.0,>=3.5.0->es-core-news-md==3.5.0) (4.4.0)\n",
            "Requirement already satisfied: idna<3,>=2.5 in /usr/local/lib/python3.8/dist-packages (from requests<3.0.0,>=2.13.0->spacy<3.6.0,>=3.5.0->es-core-news-md==3.5.0) (2.10)\n",
            "Requirement already satisfied: urllib3<1.27,>=1.21.1 in /usr/local/lib/python3.8/dist-packages (from requests<3.0.0,>=2.13.0->spacy<3.6.0,>=3.5.0->es-core-news-md==3.5.0) (1.24.3)\n",
            "Requirement already satisfied: certifi>=2017.4.17 in /usr/local/lib/python3.8/dist-packages (from requests<3.0.0,>=2.13.0->spacy<3.6.0,>=3.5.0->es-core-news-md==3.5.0) (2022.12.7)\n",
            "Requirement already satisfied: chardet<5,>=3.0.2 in /usr/local/lib/python3.8/dist-packages (from requests<3.0.0,>=2.13.0->spacy<3.6.0,>=3.5.0->es-core-news-md==3.5.0) (4.0.0)\n",
            "Requirement already satisfied: confection<1.0.0,>=0.0.1 in /usr/local/lib/python3.8/dist-packages (from thinc<8.2.0,>=8.1.0->spacy<3.6.0,>=3.5.0->es-core-news-md==3.5.0) (0.0.3)\n",
            "Requirement already satisfied: blis<0.8.0,>=0.7.8 in /usr/local/lib/python3.8/dist-packages (from thinc<8.2.0,>=8.1.0->spacy<3.6.0,>=3.5.0->es-core-news-md==3.5.0) (0.7.9)\n",
            "Requirement already satisfied: click<9.0.0,>=7.1.1 in /usr/local/lib/python3.8/dist-packages (from typer<0.8.0,>=0.3.0->spacy<3.6.0,>=3.5.0->es-core-news-md==3.5.0) (7.1.2)\n",
            "Requirement already satisfied: MarkupSafe>=0.23 in /usr/local/lib/python3.8/dist-packages (from jinja2->spacy<3.6.0,>=3.5.0->es-core-news-md==3.5.0) (2.0.1)\n",
            "Installing collected packages: es-core-news-md\n",
            "Successfully installed es-core-news-md-3.5.0\n",
            "\u001b[38;5;2m✔ Download and installation successful\u001b[0m\n",
            "You can now load the package via spacy.load('es_core_news_md')\n"
          ]
        },
        {
          "name": "stderr",
          "output_type": "stream",
          "text": [
            "/usr/local/lib/python3.8/dist-packages/torch/cuda/__init__.py:497: UserWarning: Can't initialize NVML\n",
            "  warnings.warn(\"Can't initialize NVML\")\n"
          ]
        },
        {
          "name": "stdout",
          "output_type": "stream",
          "text": [
            "Looking in indexes: https://pypi.org/simple, https://us-python.pkg.dev/colab-wheels/public/simple/\n",
            "Collecting pyLDAvis\n",
            "  Downloading pyLDAvis-3.3.1.tar.gz (1.7 MB)\n",
            "\u001b[2K     \u001b[90m━━━━━━━━━━━━━━━━━━━━━━━━━━━━━━━━━━━━━━━━\u001b[0m \u001b[32m1.7/1.7 MB\u001b[0m \u001b[31m45.4 MB/s\u001b[0m eta \u001b[36m0:00:00\u001b[0m\n",
            "\u001b[?25h  Installing build dependencies ... \u001b[?25l\u001b[?25hdone\n",
            "  Getting requirements to build wheel ... \u001b[?25l\u001b[?25hdone\n",
            "  Installing backend dependencies ... \u001b[?25l\u001b[?25hdone\n",
            "  Preparing metadata (pyproject.toml) ... \u001b[?25l\u001b[?25hdone\n",
            "Collecting sklearn\n",
            "  Downloading sklearn-0.0.post1.tar.gz (3.6 kB)\n",
            "  Preparing metadata (setup.py) ... \u001b[?25l\u001b[?25hdone\n",
            "Requirement already satisfied: scipy in /usr/local/lib/python3.8/dist-packages (from pyLDAvis) (1.7.3)\n",
            "Requirement already satisfied: jinja2 in /usr/local/lib/python3.8/dist-packages (from pyLDAvis) (2.11.3)\n",
            "Requirement already satisfied: gensim in /usr/local/lib/python3.8/dist-packages (from pyLDAvis) (3.6.0)\n",
            "Collecting funcy\n",
            "  Downloading funcy-1.17-py2.py3-none-any.whl (33 kB)\n",
            "Requirement already satisfied: numexpr in /usr/local/lib/python3.8/dist-packages (from pyLDAvis) (2.8.4)\n",
            "Requirement already satisfied: numpy>=1.20.0 in /usr/local/lib/python3.8/dist-packages (from pyLDAvis) (1.21.6)\n",
            "Requirement already satisfied: future in /usr/local/lib/python3.8/dist-packages (from pyLDAvis) (0.16.0)\n",
            "Requirement already satisfied: scikit-learn in /usr/local/lib/python3.8/dist-packages (from pyLDAvis) (1.0.2)\n",
            "Requirement already satisfied: setuptools in /usr/local/lib/python3.8/dist-packages (from pyLDAvis) (57.4.0)\n",
            "Requirement already satisfied: joblib in /usr/local/lib/python3.8/dist-packages (from pyLDAvis) (1.2.0)\n",
            "Requirement already satisfied: pandas>=1.2.0 in /usr/local/lib/python3.8/dist-packages (from pyLDAvis) (1.3.5)\n",
            "Requirement already satisfied: pytz>=2017.3 in /usr/local/lib/python3.8/dist-packages (from pandas>=1.2.0->pyLDAvis) (2022.7)\n",
            "Requirement already satisfied: python-dateutil>=2.7.3 in /usr/local/lib/python3.8/dist-packages (from pandas>=1.2.0->pyLDAvis) (2.8.2)\n",
            "Requirement already satisfied: six>=1.5.0 in /usr/local/lib/python3.8/dist-packages (from gensim->pyLDAvis) (1.15.0)\n",
            "Requirement already satisfied: smart-open>=1.2.1 in /usr/local/lib/python3.8/dist-packages (from gensim->pyLDAvis) (6.3.0)\n",
            "Requirement already satisfied: MarkupSafe>=0.23 in /usr/local/lib/python3.8/dist-packages (from jinja2->pyLDAvis) (2.0.1)\n",
            "Requirement already satisfied: threadpoolctl>=2.0.0 in /usr/local/lib/python3.8/dist-packages (from scikit-learn->pyLDAvis) (3.1.0)\n",
            "Building wheels for collected packages: pyLDAvis, sklearn\n",
            "  Building wheel for pyLDAvis (pyproject.toml) ... \u001b[?25l\u001b[?25hdone\n",
            "  Created wheel for pyLDAvis: filename=pyLDAvis-3.3.1-py2.py3-none-any.whl size=136898 sha256=2c124e1e23a6d949b4731594c2dbe68ddcda053fb30c9963ff9a103ac12fd35a\n",
            "  Stored in directory: /root/.cache/pip/wheels/90/61/ec/9dbe9efc3acf9c4e37ba70fbbcc3f3a0ebd121060aa593181a\n",
            "  Building wheel for sklearn (setup.py) ... \u001b[?25l\u001b[?25hdone\n",
            "  Created wheel for sklearn: filename=sklearn-0.0.post1-py3-none-any.whl size=2344 sha256=1e8200fdd91d209fdf35f39d7a039e4d23a3720c481a201dad49663bea69b6b3\n",
            "  Stored in directory: /root/.cache/pip/wheels/14/25/f7/1cc0956978ae479e75140219088deb7a36f60459df242b1a72\n",
            "Successfully built pyLDAvis sklearn\n",
            "Installing collected packages: sklearn, funcy, pyLDAvis\n",
            "Successfully installed funcy-1.17 pyLDAvis-3.3.1 sklearn-0.0.post1\n"
          ]
        },
        {
          "name": "stderr",
          "output_type": "stream",
          "text": [
            "/usr/local/lib/python3.8/dist-packages/past/types/oldstr.py:5: DeprecationWarning: Using or importing the ABCs from 'collections' instead of from 'collections.abc' is deprecated since Python 3.3, and in 3.10 it will stop working\n",
            "  from collections import Iterable\n"
          ]
        }
      ],
      "source": [
        "import re\n",
        "import numpy as np\n",
        "import pandas as pd\n",
        "from pprint import pprint\n",
        "\n",
        "# Gensim\n",
        "import gensim\n",
        "import gensim.corpora as corpora\n",
        "from gensim.utils import simple_preprocess\n",
        "from gensim.models import CoherenceModel\n",
        "\n",
        "# spacy for lemmatization\n",
        "!pip install -U spacy\n",
        "!python -m spacy download es\n",
        "!python -m spacy download es_core_news_md\n",
        "import spacy\n",
        "\n",
        "# Plotting tools\n",
        "!pip install pyLDAvis\n",
        "import pyLDAvis\n",
        "import pyLDAvis.gensim_models as gensimvis\n",
        "import matplotlib.pyplot as plt\n",
        "%matplotlib inline\n",
        "\n",
        "# Enable logging for gensim - optional\n",
        "import logging\n",
        "logging.basicConfig(format='%(asctime)s : %(levelname)s : %(message)s', level=logging.ERROR)\n",
        "\n",
        "import warnings\n",
        "warnings.filterwarnings(\"ignore\",category=DeprecationWarning)"
      ]
    },
    {
      "cell_type": "code",
      "execution_count": null,
      "metadata": {
        "id": "ndR5Mz2NrlHU"
      },
      "outputs": [],
      "source": [
        "import pandas as pd\n",
        "import string\n",
        "import seaborn as sns\n",
        "nlp = spacy.load('es_core_news_md')"
      ]
    },
    {
      "cell_type": "code",
      "execution_count": null,
      "metadata": {
        "colab": {
          "base_uri": "https://localhost:8080/"
        },
        "id": "eQvNsYA4qHf6",
        "outputId": "a16f34b1-60f2-43e2-830e-b922549ed29f"
      },
      "outputs": [
        {
          "name": "stdout",
          "output_type": "stream",
          "text": [
            "Mounted at /content/mydrive\n"
          ]
        }
      ],
      "source": [
        "#from google.colab import files\n",
        "#upload = files.upload()\n",
        "from google.colab import drive\n",
        "drive.mount('/content/mydrive')"
      ]
    },
    {
      "cell_type": "code",
      "execution_count": null,
      "metadata": {
        "colab": {
          "base_uri": "https://localhost:8080/",
          "height": 664
        },
        "id": "SqFcgDDwqzbO",
        "outputId": "a4c1560e-36ea-4c81-c5bf-c807d777fd0d"
      },
      "outputs": [
        {
          "data": {
            "text/html": [
              "\n",
              "  <div id=\"df-76200292-c739-4fc9-8b27-5d1e923e04f4\">\n",
              "    <div class=\"colab-df-container\">\n",
              "      <div>\n",
              "<style scoped>\n",
              "    .dataframe tbody tr th:only-of-type {\n",
              "        vertical-align: middle;\n",
              "    }\n",
              "\n",
              "    .dataframe tbody tr th {\n",
              "        vertical-align: top;\n",
              "    }\n",
              "\n",
              "    .dataframe thead th {\n",
              "        text-align: right;\n",
              "    }\n",
              "</style>\n",
              "<table border=\"1\" class=\"dataframe\">\n",
              "  <thead>\n",
              "    <tr style=\"text-align: right;\">\n",
              "      <th></th>\n",
              "      <th>comment</th>\n",
              "      <th>ambiente</th>\n",
              "      <th>bondadesPlataforma</th>\n",
              "      <th>CbondadesPlataformaCcasosPrueba</th>\n",
              "      <th>CbondadesPlataformaCconocerErrores</th>\n",
              "      <th>CbondadesPlataformaCconsejosFormativos</th>\n",
              "      <th>CbondadesPlataformaCdisponibilidadLinea</th>\n",
              "      <th>CbondadesPlataformaCespacioTrabajo</th>\n",
              "      <th>CbondadesPlataformaCfacilidadUso</th>\n",
              "      <th>CbondadesPlataformaClenguajes</th>\n",
              "      <th>...</th>\n",
              "      <th>ClogrosPedagogicosCresolucionProblemas</th>\n",
              "      <th>CMejorableAprenderProgramarCfallasGenerales</th>\n",
              "      <th>CMejorableAprenderProgramarCinflexibilidad</th>\n",
              "      <th>CMejorableAprenderProgramarCobjetivoEducativo</th>\n",
              "      <th>CMejorableAprenderProgramarCretroalimentacionInsuficiente</th>\n",
              "      <th>CMejorableAprenderProgramarCsustituible</th>\n",
              "      <th>colab</th>\n",
              "      <th>HerramientasUNcode</th>\n",
              "      <th>logrosPedagogicos</th>\n",
              "      <th>MejorableAprenderProgramar</th>\n",
              "    </tr>\n",
              "  </thead>\n",
              "  <tbody>\n",
              "    <tr>\n",
              "      <th>0</th>\n",
              "      <td>A traves de la plataforma pude ir practicando ...</td>\n",
              "      <td>0</td>\n",
              "      <td>1</td>\n",
              "      <td>0</td>\n",
              "      <td>0</td>\n",
              "      <td>0</td>\n",
              "      <td>0</td>\n",
              "      <td>0</td>\n",
              "      <td>0</td>\n",
              "      <td>0</td>\n",
              "      <td>...</td>\n",
              "      <td>0</td>\n",
              "      <td>0</td>\n",
              "      <td>0</td>\n",
              "      <td>0</td>\n",
              "      <td>0</td>\n",
              "      <td>0</td>\n",
              "      <td>0</td>\n",
              "      <td>0</td>\n",
              "      <td>0</td>\n",
              "      <td>0</td>\n",
              "    </tr>\n",
              "    <tr>\n",
              "      <th>1</th>\n",
              "      <td>A traves de los ejercicios propuestos en la he...</td>\n",
              "      <td>0</td>\n",
              "      <td>1</td>\n",
              "      <td>0</td>\n",
              "      <td>0</td>\n",
              "      <td>0</td>\n",
              "      <td>0</td>\n",
              "      <td>0</td>\n",
              "      <td>0</td>\n",
              "      <td>0</td>\n",
              "      <td>...</td>\n",
              "      <td>0</td>\n",
              "      <td>0</td>\n",
              "      <td>0</td>\n",
              "      <td>0</td>\n",
              "      <td>0</td>\n",
              "      <td>0</td>\n",
              "      <td>0</td>\n",
              "      <td>0</td>\n",
              "      <td>1</td>\n",
              "      <td>0</td>\n",
              "    </tr>\n",
              "    <tr>\n",
              "      <th>2</th>\n",
              "      <td>A veces UNCode no dejaba correr por cosas triv...</td>\n",
              "      <td>0</td>\n",
              "      <td>0</td>\n",
              "      <td>0</td>\n",
              "      <td>0</td>\n",
              "      <td>0</td>\n",
              "      <td>0</td>\n",
              "      <td>0</td>\n",
              "      <td>0</td>\n",
              "      <td>0</td>\n",
              "      <td>...</td>\n",
              "      <td>0</td>\n",
              "      <td>0</td>\n",
              "      <td>1</td>\n",
              "      <td>0</td>\n",
              "      <td>0</td>\n",
              "      <td>0</td>\n",
              "      <td>1</td>\n",
              "      <td>0</td>\n",
              "      <td>0</td>\n",
              "      <td>0</td>\n",
              "    </tr>\n",
              "    <tr>\n",
              "      <th>3</th>\n",
              "      <td>A veces es poco practico y da errores por cosa...</td>\n",
              "      <td>0</td>\n",
              "      <td>0</td>\n",
              "      <td>0</td>\n",
              "      <td>0</td>\n",
              "      <td>0</td>\n",
              "      <td>0</td>\n",
              "      <td>0</td>\n",
              "      <td>0</td>\n",
              "      <td>0</td>\n",
              "      <td>...</td>\n",
              "      <td>0</td>\n",
              "      <td>1</td>\n",
              "      <td>1</td>\n",
              "      <td>0</td>\n",
              "      <td>0</td>\n",
              "      <td>0</td>\n",
              "      <td>0</td>\n",
              "      <td>0</td>\n",
              "      <td>0</td>\n",
              "      <td>0</td>\n",
              "    </tr>\n",
              "    <tr>\n",
              "      <th>4</th>\n",
              "      <td>A veces la pagina era muy lenta, y al principi...</td>\n",
              "      <td>0</td>\n",
              "      <td>0</td>\n",
              "      <td>0</td>\n",
              "      <td>0</td>\n",
              "      <td>0</td>\n",
              "      <td>0</td>\n",
              "      <td>0</td>\n",
              "      <td>0</td>\n",
              "      <td>0</td>\n",
              "      <td>...</td>\n",
              "      <td>0</td>\n",
              "      <td>0</td>\n",
              "      <td>0</td>\n",
              "      <td>0</td>\n",
              "      <td>0</td>\n",
              "      <td>0</td>\n",
              "      <td>0</td>\n",
              "      <td>0</td>\n",
              "      <td>1</td>\n",
              "      <td>0</td>\n",
              "    </tr>\n",
              "  </tbody>\n",
              "</table>\n",
              "<p>5 rows × 29 columns</p>\n",
              "</div>\n",
              "      <button class=\"colab-df-convert\" onclick=\"convertToInteractive('df-76200292-c739-4fc9-8b27-5d1e923e04f4')\"\n",
              "              title=\"Convert this dataframe to an interactive table.\"\n",
              "              style=\"display:none;\">\n",
              "        \n",
              "  <svg xmlns=\"http://www.w3.org/2000/svg\" height=\"24px\"viewBox=\"0 0 24 24\"\n",
              "       width=\"24px\">\n",
              "    <path d=\"M0 0h24v24H0V0z\" fill=\"none\"/>\n",
              "    <path d=\"M18.56 5.44l.94 2.06.94-2.06 2.06-.94-2.06-.94-.94-2.06-.94 2.06-2.06.94zm-11 1L8.5 8.5l.94-2.06 2.06-.94-2.06-.94L8.5 2.5l-.94 2.06-2.06.94zm10 10l.94 2.06.94-2.06 2.06-.94-2.06-.94-.94-2.06-.94 2.06-2.06.94z\"/><path d=\"M17.41 7.96l-1.37-1.37c-.4-.4-.92-.59-1.43-.59-.52 0-1.04.2-1.43.59L10.3 9.45l-7.72 7.72c-.78.78-.78 2.05 0 2.83L4 21.41c.39.39.9.59 1.41.59.51 0 1.02-.2 1.41-.59l7.78-7.78 2.81-2.81c.8-.78.8-2.07 0-2.86zM5.41 20L4 18.59l7.72-7.72 1.47 1.35L5.41 20z\"/>\n",
              "  </svg>\n",
              "      </button>\n",
              "      \n",
              "  <style>\n",
              "    .colab-df-container {\n",
              "      display:flex;\n",
              "      flex-wrap:wrap;\n",
              "      gap: 12px;\n",
              "    }\n",
              "\n",
              "    .colab-df-convert {\n",
              "      background-color: #E8F0FE;\n",
              "      border: none;\n",
              "      border-radius: 50%;\n",
              "      cursor: pointer;\n",
              "      display: none;\n",
              "      fill: #1967D2;\n",
              "      height: 32px;\n",
              "      padding: 0 0 0 0;\n",
              "      width: 32px;\n",
              "    }\n",
              "\n",
              "    .colab-df-convert:hover {\n",
              "      background-color: #E2EBFA;\n",
              "      box-shadow: 0px 1px 2px rgba(60, 64, 67, 0.3), 0px 1px 3px 1px rgba(60, 64, 67, 0.15);\n",
              "      fill: #174EA6;\n",
              "    }\n",
              "\n",
              "    [theme=dark] .colab-df-convert {\n",
              "      background-color: #3B4455;\n",
              "      fill: #D2E3FC;\n",
              "    }\n",
              "\n",
              "    [theme=dark] .colab-df-convert:hover {\n",
              "      background-color: #434B5C;\n",
              "      box-shadow: 0px 1px 3px 1px rgba(0, 0, 0, 0.15);\n",
              "      filter: drop-shadow(0px 1px 2px rgba(0, 0, 0, 0.3));\n",
              "      fill: #FFFFFF;\n",
              "    }\n",
              "  </style>\n",
              "\n",
              "      <script>\n",
              "        const buttonEl =\n",
              "          document.querySelector('#df-76200292-c739-4fc9-8b27-5d1e923e04f4 button.colab-df-convert');\n",
              "        buttonEl.style.display =\n",
              "          google.colab.kernel.accessAllowed ? 'block' : 'none';\n",
              "\n",
              "        async function convertToInteractive(key) {\n",
              "          const element = document.querySelector('#df-76200292-c739-4fc9-8b27-5d1e923e04f4');\n",
              "          const dataTable =\n",
              "            await google.colab.kernel.invokeFunction('convertToInteractive',\n",
              "                                                     [key], {});\n",
              "          if (!dataTable) return;\n",
              "\n",
              "          const docLinkHtml = 'Like what you see? Visit the ' +\n",
              "            '<a target=\"_blank\" href=https://colab.research.google.com/notebooks/data_table.ipynb>data table notebook</a>'\n",
              "            + ' to learn more about interactive tables.';\n",
              "          element.innerHTML = '';\n",
              "          dataTable['output_type'] = 'display_data';\n",
              "          await google.colab.output.renderOutput(dataTable, element);\n",
              "          const docLink = document.createElement('div');\n",
              "          docLink.innerHTML = docLinkHtml;\n",
              "          element.appendChild(docLink);\n",
              "        }\n",
              "      </script>\n",
              "    </div>\n",
              "  </div>\n",
              "  "
            ],
            "text/plain": [
              "                                             comment  ambiente  \\\n",
              "0  A traves de la plataforma pude ir practicando ...         0   \n",
              "1  A traves de los ejercicios propuestos en la he...         0   \n",
              "2  A veces UNCode no dejaba correr por cosas triv...         0   \n",
              "3  A veces es poco practico y da errores por cosa...         0   \n",
              "4  A veces la pagina era muy lenta, y al principi...         0   \n",
              "\n",
              "   bondadesPlataforma  CbondadesPlataformaCcasosPrueba  \\\n",
              "0                   1                                0   \n",
              "1                   1                                0   \n",
              "2                   0                                0   \n",
              "3                   0                                0   \n",
              "4                   0                                0   \n",
              "\n",
              "   CbondadesPlataformaCconocerErrores  CbondadesPlataformaCconsejosFormativos  \\\n",
              "0                                   0                                       0   \n",
              "1                                   0                                       0   \n",
              "2                                   0                                       0   \n",
              "3                                   0                                       0   \n",
              "4                                   0                                       0   \n",
              "\n",
              "   CbondadesPlataformaCdisponibilidadLinea  \\\n",
              "0                                        0   \n",
              "1                                        0   \n",
              "2                                        0   \n",
              "3                                        0   \n",
              "4                                        0   \n",
              "\n",
              "   CbondadesPlataformaCespacioTrabajo  CbondadesPlataformaCfacilidadUso  \\\n",
              "0                                   0                                 0   \n",
              "1                                   0                                 0   \n",
              "2                                   0                                 0   \n",
              "3                                   0                                 0   \n",
              "4                                   0                                 0   \n",
              "\n",
              "   CbondadesPlataformaClenguajes  ...  ClogrosPedagogicosCresolucionProblemas  \\\n",
              "0                              0  ...                                       0   \n",
              "1                              0  ...                                       0   \n",
              "2                              0  ...                                       0   \n",
              "3                              0  ...                                       0   \n",
              "4                              0  ...                                       0   \n",
              "\n",
              "   CMejorableAprenderProgramarCfallasGenerales  \\\n",
              "0                                            0   \n",
              "1                                            0   \n",
              "2                                            0   \n",
              "3                                            1   \n",
              "4                                            0   \n",
              "\n",
              "   CMejorableAprenderProgramarCinflexibilidad  \\\n",
              "0                                           0   \n",
              "1                                           0   \n",
              "2                                           1   \n",
              "3                                           1   \n",
              "4                                           0   \n",
              "\n",
              "   CMejorableAprenderProgramarCobjetivoEducativo  \\\n",
              "0                                              0   \n",
              "1                                              0   \n",
              "2                                              0   \n",
              "3                                              0   \n",
              "4                                              0   \n",
              "\n",
              "   CMejorableAprenderProgramarCretroalimentacionInsuficiente  \\\n",
              "0                                                  0           \n",
              "1                                                  0           \n",
              "2                                                  0           \n",
              "3                                                  0           \n",
              "4                                                  0           \n",
              "\n",
              "   CMejorableAprenderProgramarCsustituible  colab  HerramientasUNcode  \\\n",
              "0                                        0      0                   0   \n",
              "1                                        0      0                   0   \n",
              "2                                        0      1                   0   \n",
              "3                                        0      0                   0   \n",
              "4                                        0      0                   0   \n",
              "\n",
              "   logrosPedagogicos  MejorableAprenderProgramar  \n",
              "0                  0                           0  \n",
              "1                  1                           0  \n",
              "2                  0                           0  \n",
              "3                  0                           0  \n",
              "4                  1                           0  \n",
              "\n",
              "[5 rows x 29 columns]"
            ]
          },
          "execution_count": 4,
          "metadata": {},
          "output_type": "execute_result"
        }
      ],
      "source": [
        "df = pd.read_csv(r'/content/mydrive/MyDrive/luis/study/master/tesis/automaticLabels/aprenderAProgramarfinalDataFrame.csv',sep=';')\n",
        "df.head()"
      ]
    },
    {
      "cell_type": "code",
      "execution_count": null,
      "metadata": {
        "colab": {
          "base_uri": "https://localhost:8080/"
        },
        "id": "q8jyyeLz3exB",
        "outputId": "90d10428-6126-4d11-e98e-94c3da4e6b66"
      },
      "outputs": [
        {
          "data": {
            "text/plain": [
              "(347, 29)"
            ]
          },
          "execution_count": 5,
          "metadata": {},
          "output_type": "execute_result"
        }
      ],
      "source": [
        "df.shape"
      ]
    },
    {
      "cell_type": "markdown",
      "metadata": {
        "id": "J-7qKfAL9V98"
      },
      "source": [
        "#### basic text cleaning"
      ]
    },
    {
      "cell_type": "code",
      "execution_count": null,
      "metadata": {
        "id": "qYwsbl794Lqi"
      },
      "outputs": [],
      "source": [
        "df[\"comment\"] = df[\"comment\"].fillna(\"\")\n",
        "# for col in text_columns: # change df tyoes to string, it it is not\n",
        "#     df[col] = df[col].astype(str)"
      ]
    },
    {
      "cell_type": "code",
      "execution_count": null,
      "metadata": {
        "id": "qOwiIRkcs-bF"
      },
      "outputs": [],
      "source": [
        "#limpieza basica que aplica para todo metodo sin importar cual sera\n",
        "#method that overrides the given dataframe text, with a cleaned version\n",
        "def clean(textArray):\n",
        "  res= []\n",
        "  for i in range(0,len(textArray)):\n",
        "    text = textArray[i]\n",
        "    #text = p.clean(text)\n",
        "    text = re.sub(r'\\W+', ' ', text)  # remove non-alphanumeric characters\n",
        "    text = re.sub(r\"\\d+\", \"number\", text)# replace numbers with the word 'number'\n",
        "    text = str(text).lower()  # Lowercase words\n",
        "    text = re.sub(r\"\\s+\", \" \", text)  # Remove multiple spaces in content\n",
        "    # text = re.sub(r\"\\[(.*?)\\]\", \"\", text)  # Remove [+XYZ chars] in content\n",
        "    # text = re.sub(r\"\\w+…|…\", \"\", text)  # Remove ellipsis (and last word)\n",
        "    text = re.sub(r\"(?<=\\w)-(?=\\w)\", \" \", text)  # Replace dash between words\n",
        "    text = re.sub(\n",
        "        f\"[{re.escape(string.punctuation)}]\", \"\", text\n",
        "    )  # Remove punctuation\n",
        "    # don't consider sentenced with less than 3 words (i.e. assumed noise)\n",
        "    #if len(text.strip().split()) < 3:\n",
        "    #     return None\n",
        "    text = text.lower()  # lower case everything\n",
        "    test = text.strip() # remove redundant spaces\n",
        "    textArray[i] = text\n",
        "  return"
      ]
    },
    {
      "cell_type": "code",
      "execution_count": null,
      "metadata": {
        "colab": {
          "base_uri": "https://localhost:8080/"
        },
        "id": "xWB12NIpjmCZ",
        "outputId": "b8bbb8db-0634-41b9-bd4b-c82aece634b5"
      },
      "outputs": [
        {
          "name": "stderr",
          "output_type": "stream",
          "text": [
            "<ipython-input-7-8b69cfd8186a>:23: SettingWithCopyWarning: \n",
            "A value is trying to be set on a copy of a slice from a DataFrame\n",
            "\n",
            "See the caveats in the documentation: https://pandas.pydata.org/pandas-docs/stable/user_guide/indexing.html#returning-a-view-versus-a-copy\n",
            "  textArray[i] = text\n"
          ]
        }
      ],
      "source": [
        "clean(df.comment) # df.comment will be cleaned and overwriten"
      ]
    },
    {
      "cell_type": "code",
      "execution_count": null,
      "metadata": {
        "colab": {
          "base_uri": "https://localhost:8080/",
          "height": 463
        },
        "id": "0S1xBewcSUwN",
        "outputId": "e73b6dfe-80f7-41c6-8960-81a14867d80c"
      },
      "outputs": [
        {
          "data": {
            "text/html": [
              "\n",
              "  <div id=\"df-7311747e-6f3e-433a-81b1-4a365ac55a07\">\n",
              "    <div class=\"colab-df-container\">\n",
              "      <div>\n",
              "<style scoped>\n",
              "    .dataframe tbody tr th:only-of-type {\n",
              "        vertical-align: middle;\n",
              "    }\n",
              "\n",
              "    .dataframe tbody tr th {\n",
              "        vertical-align: top;\n",
              "    }\n",
              "\n",
              "    .dataframe thead th {\n",
              "        text-align: right;\n",
              "    }\n",
              "</style>\n",
              "<table border=\"1\" class=\"dataframe\">\n",
              "  <thead>\n",
              "    <tr style=\"text-align: right;\">\n",
              "      <th></th>\n",
              "      <th>comment</th>\n",
              "      <th>ambiente</th>\n",
              "      <th>bondadesPlataforma</th>\n",
              "      <th>CbondadesPlataformaCcasosPrueba</th>\n",
              "      <th>CbondadesPlataformaCconocerErrores</th>\n",
              "      <th>CbondadesPlataformaCconsejosFormativos</th>\n",
              "      <th>CbondadesPlataformaCdisponibilidadLinea</th>\n",
              "      <th>CbondadesPlataformaCespacioTrabajo</th>\n",
              "      <th>CbondadesPlataformaCfacilidadUso</th>\n",
              "      <th>CbondadesPlataformaClenguajes</th>\n",
              "      <th>...</th>\n",
              "      <th>ClogrosPedagogicosCresolucionProblemas</th>\n",
              "      <th>CMejorableAprenderProgramarCfallasGenerales</th>\n",
              "      <th>CMejorableAprenderProgramarCinflexibilidad</th>\n",
              "      <th>CMejorableAprenderProgramarCobjetivoEducativo</th>\n",
              "      <th>CMejorableAprenderProgramarCretroalimentacionInsuficiente</th>\n",
              "      <th>CMejorableAprenderProgramarCsustituible</th>\n",
              "      <th>colab</th>\n",
              "      <th>HerramientasUNcode</th>\n",
              "      <th>logrosPedagogicos</th>\n",
              "      <th>MejorableAprenderProgramar</th>\n",
              "    </tr>\n",
              "  </thead>\n",
              "  <tbody>\n",
              "    <tr>\n",
              "      <th>0</th>\n",
              "      <td>a traves de la plataforma pude ir practicando ...</td>\n",
              "      <td>0</td>\n",
              "      <td>1</td>\n",
              "      <td>0</td>\n",
              "      <td>0</td>\n",
              "      <td>0</td>\n",
              "      <td>0</td>\n",
              "      <td>0</td>\n",
              "      <td>0</td>\n",
              "      <td>0</td>\n",
              "      <td>...</td>\n",
              "      <td>0</td>\n",
              "      <td>0</td>\n",
              "      <td>0</td>\n",
              "      <td>0</td>\n",
              "      <td>0</td>\n",
              "      <td>0</td>\n",
              "      <td>0</td>\n",
              "      <td>0</td>\n",
              "      <td>0</td>\n",
              "      <td>0</td>\n",
              "    </tr>\n",
              "    <tr>\n",
              "      <th>1</th>\n",
              "      <td>a traves de los ejercicios propuestos en la he...</td>\n",
              "      <td>0</td>\n",
              "      <td>1</td>\n",
              "      <td>0</td>\n",
              "      <td>0</td>\n",
              "      <td>0</td>\n",
              "      <td>0</td>\n",
              "      <td>0</td>\n",
              "      <td>0</td>\n",
              "      <td>0</td>\n",
              "      <td>...</td>\n",
              "      <td>0</td>\n",
              "      <td>0</td>\n",
              "      <td>0</td>\n",
              "      <td>0</td>\n",
              "      <td>0</td>\n",
              "      <td>0</td>\n",
              "      <td>0</td>\n",
              "      <td>0</td>\n",
              "      <td>1</td>\n",
              "      <td>0</td>\n",
              "    </tr>\n",
              "    <tr>\n",
              "      <th>2</th>\n",
              "      <td>a veces uncode no dejaba correr por cosas triv...</td>\n",
              "      <td>0</td>\n",
              "      <td>0</td>\n",
              "      <td>0</td>\n",
              "      <td>0</td>\n",
              "      <td>0</td>\n",
              "      <td>0</td>\n",
              "      <td>0</td>\n",
              "      <td>0</td>\n",
              "      <td>0</td>\n",
              "      <td>...</td>\n",
              "      <td>0</td>\n",
              "      <td>0</td>\n",
              "      <td>1</td>\n",
              "      <td>0</td>\n",
              "      <td>0</td>\n",
              "      <td>0</td>\n",
              "      <td>1</td>\n",
              "      <td>0</td>\n",
              "      <td>0</td>\n",
              "      <td>0</td>\n",
              "    </tr>\n",
              "  </tbody>\n",
              "</table>\n",
              "<p>3 rows × 29 columns</p>\n",
              "</div>\n",
              "      <button class=\"colab-df-convert\" onclick=\"convertToInteractive('df-7311747e-6f3e-433a-81b1-4a365ac55a07')\"\n",
              "              title=\"Convert this dataframe to an interactive table.\"\n",
              "              style=\"display:none;\">\n",
              "        \n",
              "  <svg xmlns=\"http://www.w3.org/2000/svg\" height=\"24px\"viewBox=\"0 0 24 24\"\n",
              "       width=\"24px\">\n",
              "    <path d=\"M0 0h24v24H0V0z\" fill=\"none\"/>\n",
              "    <path d=\"M18.56 5.44l.94 2.06.94-2.06 2.06-.94-2.06-.94-.94-2.06-.94 2.06-2.06.94zm-11 1L8.5 8.5l.94-2.06 2.06-.94-2.06-.94L8.5 2.5l-.94 2.06-2.06.94zm10 10l.94 2.06.94-2.06 2.06-.94-2.06-.94-.94-2.06-.94 2.06-2.06.94z\"/><path d=\"M17.41 7.96l-1.37-1.37c-.4-.4-.92-.59-1.43-.59-.52 0-1.04.2-1.43.59L10.3 9.45l-7.72 7.72c-.78.78-.78 2.05 0 2.83L4 21.41c.39.39.9.59 1.41.59.51 0 1.02-.2 1.41-.59l7.78-7.78 2.81-2.81c.8-.78.8-2.07 0-2.86zM5.41 20L4 18.59l7.72-7.72 1.47 1.35L5.41 20z\"/>\n",
              "  </svg>\n",
              "      </button>\n",
              "      \n",
              "  <style>\n",
              "    .colab-df-container {\n",
              "      display:flex;\n",
              "      flex-wrap:wrap;\n",
              "      gap: 12px;\n",
              "    }\n",
              "\n",
              "    .colab-df-convert {\n",
              "      background-color: #E8F0FE;\n",
              "      border: none;\n",
              "      border-radius: 50%;\n",
              "      cursor: pointer;\n",
              "      display: none;\n",
              "      fill: #1967D2;\n",
              "      height: 32px;\n",
              "      padding: 0 0 0 0;\n",
              "      width: 32px;\n",
              "    }\n",
              "\n",
              "    .colab-df-convert:hover {\n",
              "      background-color: #E2EBFA;\n",
              "      box-shadow: 0px 1px 2px rgba(60, 64, 67, 0.3), 0px 1px 3px 1px rgba(60, 64, 67, 0.15);\n",
              "      fill: #174EA6;\n",
              "    }\n",
              "\n",
              "    [theme=dark] .colab-df-convert {\n",
              "      background-color: #3B4455;\n",
              "      fill: #D2E3FC;\n",
              "    }\n",
              "\n",
              "    [theme=dark] .colab-df-convert:hover {\n",
              "      background-color: #434B5C;\n",
              "      box-shadow: 0px 1px 3px 1px rgba(0, 0, 0, 0.15);\n",
              "      filter: drop-shadow(0px 1px 2px rgba(0, 0, 0, 0.3));\n",
              "      fill: #FFFFFF;\n",
              "    }\n",
              "  </style>\n",
              "\n",
              "      <script>\n",
              "        const buttonEl =\n",
              "          document.querySelector('#df-7311747e-6f3e-433a-81b1-4a365ac55a07 button.colab-df-convert');\n",
              "        buttonEl.style.display =\n",
              "          google.colab.kernel.accessAllowed ? 'block' : 'none';\n",
              "\n",
              "        async function convertToInteractive(key) {\n",
              "          const element = document.querySelector('#df-7311747e-6f3e-433a-81b1-4a365ac55a07');\n",
              "          const dataTable =\n",
              "            await google.colab.kernel.invokeFunction('convertToInteractive',\n",
              "                                                     [key], {});\n",
              "          if (!dataTable) return;\n",
              "\n",
              "          const docLinkHtml = 'Like what you see? Visit the ' +\n",
              "            '<a target=\"_blank\" href=https://colab.research.google.com/notebooks/data_table.ipynb>data table notebook</a>'\n",
              "            + ' to learn more about interactive tables.';\n",
              "          element.innerHTML = '';\n",
              "          dataTable['output_type'] = 'display_data';\n",
              "          await google.colab.output.renderOutput(dataTable, element);\n",
              "          const docLink = document.createElement('div');\n",
              "          docLink.innerHTML = docLinkHtml;\n",
              "          element.appendChild(docLink);\n",
              "        }\n",
              "      </script>\n",
              "    </div>\n",
              "  </div>\n",
              "  "
            ],
            "text/plain": [
              "                                             comment  ambiente  \\\n",
              "0  a traves de la plataforma pude ir practicando ...         0   \n",
              "1  a traves de los ejercicios propuestos en la he...         0   \n",
              "2  a veces uncode no dejaba correr por cosas triv...         0   \n",
              "\n",
              "   bondadesPlataforma  CbondadesPlataformaCcasosPrueba  \\\n",
              "0                   1                                0   \n",
              "1                   1                                0   \n",
              "2                   0                                0   \n",
              "\n",
              "   CbondadesPlataformaCconocerErrores  CbondadesPlataformaCconsejosFormativos  \\\n",
              "0                                   0                                       0   \n",
              "1                                   0                                       0   \n",
              "2                                   0                                       0   \n",
              "\n",
              "   CbondadesPlataformaCdisponibilidadLinea  \\\n",
              "0                                        0   \n",
              "1                                        0   \n",
              "2                                        0   \n",
              "\n",
              "   CbondadesPlataformaCespacioTrabajo  CbondadesPlataformaCfacilidadUso  \\\n",
              "0                                   0                                 0   \n",
              "1                                   0                                 0   \n",
              "2                                   0                                 0   \n",
              "\n",
              "   CbondadesPlataformaClenguajes  ...  ClogrosPedagogicosCresolucionProblemas  \\\n",
              "0                              0  ...                                       0   \n",
              "1                              0  ...                                       0   \n",
              "2                              0  ...                                       0   \n",
              "\n",
              "   CMejorableAprenderProgramarCfallasGenerales  \\\n",
              "0                                            0   \n",
              "1                                            0   \n",
              "2                                            0   \n",
              "\n",
              "   CMejorableAprenderProgramarCinflexibilidad  \\\n",
              "0                                           0   \n",
              "1                                           0   \n",
              "2                                           1   \n",
              "\n",
              "   CMejorableAprenderProgramarCobjetivoEducativo  \\\n",
              "0                                              0   \n",
              "1                                              0   \n",
              "2                                              0   \n",
              "\n",
              "   CMejorableAprenderProgramarCretroalimentacionInsuficiente  \\\n",
              "0                                                  0           \n",
              "1                                                  0           \n",
              "2                                                  0           \n",
              "\n",
              "   CMejorableAprenderProgramarCsustituible  colab  HerramientasUNcode  \\\n",
              "0                                        0      0                   0   \n",
              "1                                        0      0                   0   \n",
              "2                                        0      1                   0   \n",
              "\n",
              "   logrosPedagogicos  MejorableAprenderProgramar  \n",
              "0                  0                           0  \n",
              "1                  1                           0  \n",
              "2                  0                           0  \n",
              "\n",
              "[3 rows x 29 columns]"
            ]
          },
          "execution_count": 9,
          "metadata": {},
          "output_type": "execute_result"
        }
      ],
      "source": [
        "df.head(3)"
      ]
    },
    {
      "cell_type": "markdown",
      "metadata": {
        "id": "xPPI7HkhLXBn"
      },
      "source": [
        "### advance data transformation step to convert similar words so results are more reliable"
      ]
    },
    {
      "cell_type": "code",
      "execution_count": null,
      "metadata": {
        "id": "xJuoKAYCLgOn"
      },
      "outputs": [],
      "source": [
        "#limpieza basica que aplica para todo metodo sin importar cual sera\n",
        "#method that overrides the given dataframe text, with a cleaned version\n",
        "def advanceCleaning(textArray):\n",
        "  res= []\n",
        "  for i in range(0,len(textArray)):\n",
        "    text = textArray[i]\n",
        "    #text = p.clean(text)\n",
        "    text = re.sub(r\"uncode|plataforma|herramienta\", \"uncode\", text)  # Remove multiple spaces in content\n",
        "    textArray[i] = text\n",
        "  return"
      ]
    },
    {
      "cell_type": "code",
      "execution_count": null,
      "metadata": {
        "colab": {
          "base_uri": "https://localhost:8080/"
        },
        "id": "JE-H9laSeMi4",
        "outputId": "5f5e0dc9-e9b2-440b-d070-23d6444bcc59"
      },
      "outputs": [
        {
          "name": "stderr",
          "output_type": "stream",
          "text": [
            "<ipython-input-10-7c3ca0ee05e8>:9: SettingWithCopyWarning: \n",
            "A value is trying to be set on a copy of a slice from a DataFrame\n",
            "\n",
            "See the caveats in the documentation: https://pandas.pydata.org/pandas-docs/stable/user_guide/indexing.html#returning-a-view-versus-a-copy\n",
            "  textArray[i] = text\n"
          ]
        }
      ],
      "source": [
        "advanceCleaning(df.comment) # df.comment will be cleaned and overwriten"
      ]
    },
    {
      "cell_type": "markdown",
      "metadata": {
        "id": "rkDwbghueFcb"
      },
      "source": [
        "### put resulting cleaned text into a variable"
      ]
    },
    {
      "cell_type": "code",
      "execution_count": null,
      "metadata": {
        "colab": {
          "base_uri": "https://localhost:8080/"
        },
        "id": "C4JfNsiSsJ-N",
        "outputId": "c7d29621-626b-4d20-e53d-2732ae26bc84"
      },
      "outputs": [
        {
          "data": {
            "text/plain": [
              "array(['a traves de la uncode pude ir practicando para mejorar las habilidades en programacion',\n",
              "       'a traves de los ejercicios propuestos en la uncode uncode se pone a prueba lo aprendido en las clases de programacion ayudando a validar los temas vistos con la practica que conlleva realizar ejercicios',\n",
              "       'a veces uncode no dejaba correr por cosas triviales como un espacio aunque ingresar entradas aqui era mas facil que ingrsarlas en colaboratory',\n",
              "       'a veces es poco practico y da errores por cosas que no deberia',\n",
              "       'a veces la pagina era muy lenta y al principio de semestre no daba las correcciones pertinentes ni los inputs que no funcionaban sin embargo los ejercicios eran utiles para ahondar en los temas ',\n",
              "       'a veces no valoraba bien el porcentaje de el codigo correcto',\n",
              "       'al poder probar y visualizar codigos me permitio comprender el funcionamiento y aplicar logica',\n",
              "       'al principio uncode presentaba bastantes fallos a veces no ejecutaba bien los casos de prueba y otras veces era muy ineficiente a la hora de calificar',\n",
              "       'al utilizar esta uncode evaluativa el estudiante podia conocer los errores en los procesos que se estaban efectuando asimismo como se estaba ejecutando cada programa por lo cual se podia hacer una autocorreccion y de la misma forma mejorar',\n",
              "       'algunos de los casos xespecialesx que evalua uncode me llevo a ir mas alla de simplemente construir mi programa pensar alguna solucion especifica para esos casos e interpretar de mejor forma los ejercicios ',\n",
              "       'anteriormente realice un curso de programacion basica en otra institucion y note un gran contraste me parece que el factor del juez agiliza mucho mas las cosas la evaluacion es mucho mas objetiva y rapida en lugar de que el docente o monitor deba revisar todos los codigos sin embargo hablando no de los jueces sino de uncode especificamente debe mejorar bastante a veces los estudiantes no podiamos trabajar en los talleres porque la uncode estaba caida o tenia errores que resultaban parecer obstaculos para nosotros ',\n",
              "       'aunque en momentos el servidor no se encuentre disponible uncode es una uncode muy util para el aprendizaje de programacion ',\n",
              "       'aunque es cierto que mostraba los casos de prueba el tiempo era demasiado grande para su obtencion ',\n",
              "       'aunque fue util es facilmente suplantable por uncodes dadas en el curso como collab o la pagina oficial de python visualice ',\n",
              "       'aunque hay problemas en algunos casos con las salidas mostradas por la prueba y el visualizador es practico forma de calificacion automatica de la uncode',\n",
              "       'aunque la uncode brinda la posibilidad de verificar el codigo antes de probarlo y tambien en ocasiones muestra las lineas de codigo que contienen erro seria bueno que la uncode mostrara el procedimiento que realiza el codigo ademas de que seria bueno que seria bueno que se ensenara cuales son los items que se deben ingresar a una cierta funcion',\n",
              "       'aunque la uncode brinda la posibilidad de verificar el codigo antes de probarlo y tambien en ocasiones muestra las lineas de codigo que contienen erro seria bueno que la uncode mostrara el procedimiento que realiza el codigo ademas de que seria bueno que seria bueno que se ensenara cuales son los items que se deben ingresar a una cierta funcion ',\n",
              "       'aunque posee uncodes de apoyo es dificil asegurar que ayude en el proceso de aprendizaje dada la presencia de problemas en la pagina y de los apoyos que posee esta problemas como caida de la pagina y la no funcionalidad de algunos servicios con el probador de ejercicios y el python tutor ',\n",
              "       'ayuda a retroalimentar los errores',\n",
              "       'ayudo a saber los errores que se cometian en el codigo gracias a las respuestas sin embargo pudo haber sido mejor en el hecho de explicar mejor algunos problemas',\n",
              "       'brinda un entorno amigable e intuitivo para aprender a programar con uncodes que nos permiten revisar nuestros errores ',\n",
              "       'como cualquier editor de texto muestra los errores sintacticos pero aparte corrige de manera discreta para hacer un codigo mas eficiente con los simbolos de la izquierda tambien permite probar el codigo y colocar de antemano lo que queremos colocar para no tener que estar repitiendo el tedioso proceso de poner las entradas ',\n",
              "       'como uncode virtual ayuda mucho si no tienes un editor de codigo en el pc',\n",
              "       'contiene buenas uncodes bien implementadas como lo es el probar codigo y visualizarlo',\n",
              "       'creo que los ejercicios propuestos aunque parecen simplemente juegos que no tienen aplicacion practica nos ayudan a pensar como un programador y a desarrollar las habilidades que un buen programador necesita entonces creo que eso es bueno en lugar de simplemente aprender por internet a hacer una pagina web o una aplicacion pero sin desarrollar esas habilidades del pensamiento que nos forman para solucionar problemas y que creo que son la base de los ejercicios de uncode ademas he visto que en uncode tambien hay ejercicios practicos como los de los inventarios por mencionar uno ademas el profesor cuando corrige los ejercicios en clase dice que esos algoritmos que usamos son utiles para resolver muchos problemas en nuestro futuro es decir entiendo que uno usara esos algoritmos que usamos en uncode en nuestro futuro profesional y finalmente el juez me parece algo muy bueno porque nos hace pensar en todos los casos posibles al desarrollar un programa y eso creo que es una buena practica en la programacion pensar en todos los escenarios posibles ',\n",
              "       'daba la uncode de ver el paso a paso del codigo y detectar mas facil los errores que uno tenia sin embargo es pequena la ventana emergente deberia de poder manipularse o ser mas grande',\n",
              "       'debido a que es una buena uncode para practicar y realizar ejercicios ademas de poseer varias funciones utiles como son los casos de prueba o el tutor de python',\n",
              "       'debido a que es una uncode que proporciona lo necesario para desarrollar los conocimientos de programacion ',\n",
              "       'debido a que los talleres eran mas sencillos de desarrollar al presentar uncodes para probar los codigos y visualizarlos paso a paso por otro lado los casos para aprobar los codigos eran muy completos y los detalles de la pagina con respecto a la informacion requerida para el taller era la adecuada el unico incoveniente es que la pagina se cae constantemente ',\n",
              "       'debido a que no hay necesidad de descargar otros programas adicionales la uncode es completa y tiene opciones utiles para ver lo que se esta desarrollando es de mucha utilidad para desarrollar la teoria vista en clase ',\n",
              "       'debido a que se nos proponian bastantes situaciones tenia la opcion de ir probando el codigo ademas de poder acceder a una vista mas detallada de lo que hace el codigo con el plus de que con los casos de prueba podiamos saber si nuestro codigo cumplia con cabalidad su funcionalidad',\n",
              "       'debido a su corto campo de aceptacion de programas evitando crear multiples opciones para solucionar un ejercicio ',\n",
              "       'desde mi perspectiva permite desarrollar habilidades que mejoran la comunicacion que tenemos con las maquinas',\n",
              "       'es una manera muy acertada de desarrollar talleres',\n",
              "       'el python tutor implantado en la uncode fue util para identificar como funcionaban los programas',\n",
              "       'el compilador de vez en cuando presenta fallos en su estructura los cuales hay que solventar de maneras poco convencionales',\n",
              "       'el funcionamiento de la uncode no es el mejor entiendo que por la sobrecarga de estudiantes a veces la pagina falle pero no esperaba que fuera tan continuo',\n",
              "       'el hecho de probar y visualizar el codigo en la uncode permite una reflexion muy efectiva acerca de los errores que en algun momento cada persona pueda tener y aprender de ellos tambien los casos de prueba permiten tomar en cuenta cada situacion a la que se pueda exponer el codigo con el fin de que cumpla su funcion totalemente ',\n",
              "       'el hecho de tener test de verificacion permitia saber si uno iba por buen camino o no ',\n",
              "       'el juez es cruel pero justo',\n",
              "       'el metodo de evaluar los programas por casos permite que uno desarrolle un enfoque integro en el momento de crear el bloque de codigo',\n",
              "       'el planteamiento de los ejercicios es claro y el debugger es una uncode muy util para encontrar errores',\n",
              "       'el poder ver paso por paso la ejecucion del programa y el que tenga casos de prueba predefinidos me parece una buena forma de aprender a programar',\n",
              "       'el poder visualizar el funcionamiento del codigo sirve mucho',\n",
              "       'el sistema para verificar codigo ayuda',\n",
              "       'el test code es una uncode muy util del uncode y permite visualizar la ejecucion de manera efectiva',\n",
              "       'el x visualizar codigo x es una excelente uncode para evidenciar como ejecuta el codigo programado ',\n",
              "       'en cierta medida ayuda a saber mi rendimiento en el tema y como mejorarlo',\n",
              "       'en esta uncode habian ejercicios que hacian que pusiera en practica los conocimientos aprendidos en clase',\n",
              "       'en general me parece una uncode que es util para evaluar ejercicios de programacion al momento de aprendar no hace mucha diferencia',\n",
              "       'en ocasiones fallaba y durante medio semestre no permitia usar las uncodes ni observar los errores del codigo al comparar respuestas ',\n",
              "       'en primer lugar la uncode permite testear el codigo antes de ser enviado para su evaluacion lo que permite corregir los fallos esto sumado a la integracion de python tutor le brindan al estudiante uncodes suficientes para que comprenda el funcionamiento integro de su codigo es decir le permite al estudiante comprender que hace o porque esta fallando por lo que aprender a programar se facilita de sobremanera con respecto a otras uncodes ',\n",
              "       'en realidad cuando estudio o similares no programo en uncode solo lo uso para enviar las tareas y si se programa en colab al copiar y pegar de colab a uncode se indenta mal y perdi un quiz por eso ',\n",
              "       'en segundo lugar la uncode califica con respecto al porcentaje de acierto respecto a los casos de prueba por lo que si el estudiante alcanza un number de resultados satisfactorios la uncode lo tendra en consideracion no como en otros entornos donde se requiere estrictamente del number de acierto para aprobarse esto contribuye en la motivacion el interes y el aprendizaje del estudiante ',\n",
              "       'entender una teoria es un poco complejo cuando no se ponen en practica los conceptos mas aun cuando se trata de sintaxis y lenguajes de programacion la uncode permite practicar todo aquello que es visto en clase de manera en que surgen nuevas dudas que aportan al aprendizaje',\n",
              "       'era muy util para practicar todo los temas que iban viendo en la clase ',\n",
              "       'es bastante intuitivo para su uso y hace sencilla la programacion',\n",
              "       'es eficiente a la hora de revisar los programas',\n",
              "       'es mucho mas comodo que usar un ide ya que mi computador no es muy potente y se traba facilmente cosa que pasa menos seguido en uncode',\n",
              "       'es muy conveniente el poder recibir una calificacion casi inmediata pues permite darse cuenta de errores que pudieron pasar desapercibidos',\n",
              "       'es muy lento al momento de hacer las entregas',\n",
              "       'es muy util el hecho de que pruebe casos y que ayude a probar los programas con varios ejemplos que puedan mostrar fallos',\n",
              "       'es poco indicativo respecto a los errores en los codigos del usuario',\n",
              "       'es positivo el hecho de tener una calificacion tan rigurosa de los ejercicios',\n",
              "       'es un buen mecanismo para practicar y comprender mejor de programacion sin embargo no siento que su proposito sea garantizar el aprendizaje porque no es una uncode que explique errores o explique temas',\n",
              "       'es un buen programa lo unico es que es algo complicado de usarlo puesto que las salidas de los codigos deben seguir una estructura y orden especificos ',\n",
              "       'es una buena forma de calificar ya que da una respuesta rapida y permite facilidad al escribir y corregir codigo',\n",
              "       'es una buena forma de calificar aunque hay que ser demasiado especifico en los resultados',\n",
              "       'es una buena uncode para calificar los trabajos propuestos por los docentes me parece organizada y funcional',\n",
              "       'es una buena idea pero no cumple completamente con su funcion ya que solo permite verificar si un programa cumple con algunos casos de prueba y no si este tiene logica o no ',\n",
              "       'es una gran uncode que da un excelente feed back con las salidas y el python tutor ',\n",
              "       'es una gran uncode que permite ver paso a paso el programa en ejecucion ademas de dar sugerencias para mejorar las buenas practicas de programacion ',\n",
              "       'es una gran uncode que te permite aprender de tus errores lo cual te motiva a ser un mejor programador ',\n",
              "       'es una uncode bastante util donde nos muestra los casos de prueba y poder analizar donde tenemos los errores',\n",
              "       'es una uncode bastante util para reforzar los conocimientos y poner a prueba el estudiate ante ejercicios bastante especificos y con muchos casos de pruebas',\n",
              "       'es una uncode de facil entendimiento y el hecho que permita ver paso por paso como funciona un programa hace que sea mas sencillo corregir errores ',\n",
              "       'es una uncode dinamica para el aprendizaje que permite una pronta retroalimentacion y facilita la visualizacion de los ejercicios',\n",
              "       'es una uncode facil de usar sencilla y util a la hora de practicar interactiva tambien',\n",
              "       'es una uncode muy util en cuanto a que muestra el error que el programa cometia y especifica que tipo de error se esta cometiendo la uncode es muy visual facilitando la comprension del problema y al dar las calificaciones inmediatamente da una retroalimentacion mas efectiva ',\n",
              "       'es una uncode muy util para practicar los distintos lenguajes de programacion dado las pautas y retroalimentacion que el sistema provee',\n",
              "       'es una uncode que ayuda a practicar ejercicios y asi mismo reforzar los conocimientos',\n",
              "       'es una uncode que ensena a llegar a respuestas puntuales buen funcionamiento para entender la ejecucion del codigo y permite un comodo tiempo para la resolucion de los ejercicios ',\n",
              "       'es una uncode que facilita la comprobacion de los ejercicios',\n",
              "       'es una uncode que nos permite identificar facilmente nuestros errores a medida que vamos aprendiendo y tambien nos permite identificar de forma clara el algoritmo de nuestros programas ',\n",
              "       'es una uncode que ofrece uncodes muy utiles a la hora de programar permite ver los errores que cometio al estudiante ademas de ofrecer alternativas para solucionar los mismos ademas ofrece flexibilidad a los docentes para la evaluacion de estos ejercicios en lo personal pienso que es una muy buena uncode que deberia seguirse utilizando ',\n",
              "       'es una uncode que permite identificar los errores y permite obtener un modo facil de calificar ademas tiene una uncode esteticamente adaptada para el usuario ',\n",
              "       'es una uncode que permite la practica efectiva de los conceptos aprendidos en la clase tambien funciona muy bien a la hora de comprender como funciona el codigo',\n",
              "       'es una uncode que permite revisar la sintaxis de los programas y de pronto algun error que se cometa en el codigo ',\n",
              "       'es una uncode que se adapta a las necesidades de los estudiantes nos permite dar un seguimiento a nuestro codigo de una manera mas sencilla con python tutor y los consejos de estilo de programacion son bastante utiles ',\n",
              "       'es una uncode sencilla util y facil de entender',\n",
              "       'es una uncode simple y util para programar me ayudo en lo personal al permitir ver los casos que no estaban bien y en base a estos replantear mi codigo ',\n",
              "       'es una uncode util muy amigable con el usuario',\n",
              "       'es una uncode versatil simple y potente',\n",
              "       'es una interesante modalidad para la realizacion de las actividades y tareas de las cuales son comprobadas por varios casos de prueba para identificar si el programa cumple con los requisitos ',\n",
              "       'es una muy buena uncode con grandes capacidades de interaccion entre los estudiantes sin embargo la pagina en algunos casos colapsaba y en casos de necesidad retrasaba la realizacion de trabajos ',\n",
              "       'es una muy buena uncode con la cual uno puede ver si el codigo de uno funciona y es una muy buena forma de evaluar el codigo que se hace',\n",
              "       'es una muy buena uncode sin embargo en ocasiones se cae y se pierden algunos trabajos',\n",
              "       'es una muy buena uncode teniendo en cuenta que al encontrar un error lo muestra al usuario tambien cuenta con la opcion de poder ver paso a paso como se esta ejecutando e codigo',\n",
              "       'es una uncode facil de usar y muy fluida ademas que la implementacion de python tutor es de gran ayuda para entender como funciona el lenguaje y para comprender mejor el flujo de codigo y los problemas',\n",
              "       'es una uncode muy facil de usar con muchas uncodes que hacen facil el aprendizaje ',\n",
              "       'es una uncode muy interactiva y facil de comprender',\n",
              "       'es una uncode muy util que cuenta con varias uncodes que ayudan a entender el paso a paso que esta ejecutando nuestro programa',\n",
              "       'es una uncode que corre bastante bien los programas vistos en clase muy rara vez existen errores por parte de la uncode tambien a veces se congela la pagina sin razon alguna pero si hablamos del resto es una uncode excelente resalto la uncode que nos permite ver que sucede con el codigo linea por linea ',\n",
              "       'es una uncode que es muy util para calificar',\n",
              "       'esta uncode es sencilla de usar permitiendo asi su facil manejo y entendimiento de la misma ademas el contar con la uncode visualize your code es de mucha ayuda ya que permite saber como se esta comportando el codigo que se esta escribiendo y corregir mas facilmente los errores ',\n",
              "       'excelente debido a que se trabaja online y creo que esto es fundamental debido a que la comunidad universitaria la gran mayoria no cuenta con pc de ultima generacion',\n",
              "       'facilita el uso de una interfaz de manera rapida y accesible',\n",
              "       'facilita la calificacion de los ejercicios',\n",
              "       'facilitaba la presentacion de los talleres',\n",
              "       'facilito el envio de talleres ademas corrige los codigos de forma inmediata',\n",
              "       'falla bastante', 'falla a veces',\n",
              "       'fue el programa utilizado para evaluar el avance y conocimiento dentro de la materia',\n",
              "       'fue muy util la proposicion de problemas reales aunque sencillos con los criterios necesarios para un desarrollo automatizado ',\n",
              "       'fue un buen programa con una buena cantidad de talleres los cuales fueron muy utiles para el desarrollo de solucion de problemas',\n",
              "       'fue una manera util de probar y realizar trabajas de programacion',\n",
              "       'fue util en sentido que era imparcial a la hora de calificar y esta abierto en cualquier escenario que el estudiante pueda entrar',\n",
              "       'fue util para realizar los talleres designados por el profesor escribir el codigo en la pagina directamente lo hace mas facil aparte de marcar errores y probar el codigo paso a paso que son necesarias cuando no se entiende del todo alguna parte desarrollada',\n",
              "       'fue util porque al poder obtener una retroalimentacion inmediata del funcionamiento del codigo con base en los resultados obtenidos y los esperados permite corregir errores de manera progresiva y sobre la marcha para avanzar hacia la solucion correcta ',\n",
              "       'fue util porque me enseno estrictamente a manejar condiciones establecidas para la ejecucion de un codigo',\n",
              "       'fue util y practica a la hora de probar mi codigo',\n",
              "       'fue util para verificar nuestros fallos y seguir el codigo paso a paso',\n",
              "       'ha sido util para subir ejercicios comprobarlos y calificarlos dejando en claro el proceso que sigue el codigo y apuntan los errores que haya cometido haciendo que aprenda por medio de la retroalimentacion',\n",
              "       'la evaluacion de cada uno de los programas resultaba un poco estresante ya que muchas veces el error no era del codigo en si sino de la manera de calificar en el interior de la uncode ',\n",
              "       'la explicacion de los enunciados las entradas y las salidas esperadas me ayudo mucho a lo largo del semestre para entender los distintos ejercicios tanto a nivel de lengua materna como a nivel de la logica de programacion',\n",
              "       'la facilidad para programas las ayudas del editor y la verificacion de las respuestas',\n",
              "       'la funcion de ver el codigo paso a paso fue muy util para obtener una comprension mas profunda de los temas ',\n",
              "       'la uncode muchas veces da errores aun cuando la salida requerida es exactamente a como la pide los errores no son muy visibles por lo que hace que uno se confunda si la uncode diera las entradas que evalua seria mas facil para el estudiante encaminar la programacion y entender el codigo',\n",
              "       'la uncode permite generalizar el codigo y asegurarse de que es funcional en la mayoria de casos posibles ',\n",
              "       'la interfaz no es muy amable con el usuario inicial la escritura es mucho mas estricta ',\n",
              "       'la mayoria de veces ya que hay test que no deja ver y a veces son los unicos que arrojan el error ',\n",
              "       'la mejor forma de aprender cualquier cosa es practicando y por medio de la uncode uncode podemos practicar lo aprendido',\n",
              "       'la opcion en la que uno puede ver que esta haciendo su codigo linea por linea es muy buena ayuda demasiado ',\n",
              "       'la uncode de uncode me parecio muy buena ya que te informa claramente de los errores que cometes y donde lo cometiste cosa que es muy util para saber donde corregir el codigo y que es lo que no funciona tambien su metodo de calificacion me parecio muy bueno que se pueda visualizar que es lo que el programa espera que de el codigo y lo compare con la salida que tu le das me parecio algo muy importante ya que en ocasiones las entradas y salidas que se dan de referencia no cubren la totalidad de opciones que puede tener el problema muy claro muy organizado me agrado de una manera sorprendente',\n",
              "       'la uncode de uncode me parecio muy buena ya que te informa claramente de los errores que cometes y donde lo cometiste cosa que es muy util para saber donde corregir el codigo y que es lo que no funciona tambien su metodo de calificacion me parecio muy bueno que se pueda visualizar que es lo que el programa espera que de el codigo y lo compare con la salida que tu le das me parecio algo muy importante ya que en ocasiones las entradas y salidas que se dan de referencia no cubren la totalidad de opciones que puede tener el problema muy claro muy organizado me agrado de una manera sorprendente ',\n",
              "       'la uncode es muy precisa con los espacios algo que no pasa en colab o en python de escritorio',\n",
              "       'la uncode fue un muy buen entorno para resolver ejercicios y con la implementacion que se hizo casi al final hizo que casi no se necesitara de la tutoria del profesor para entender los errores que se estaban cometiendo lo unico molesto era la velocidad para procesar las respuestas ',\n",
              "       'la uncode funciona bastante bien corriendo los codigos y tiene la uncode para guiarse en lo que puede estar mal del codigo ',\n",
              "       'la uncode no es versatil con los resultados es preferible usar colab',\n",
              "       'la uncode permite depurar codigo y observar en que punto nuestro algoritmo esta fallando adicionalmente los ejercicios propuestos por los profesores para ser solucionados en un tiempo estipulado ayuda mejorando la eficiencia con que solucionamos los problemas ',\n",
              "       'la uncode permite una evaluacion eficiente con uncodes utiles como xver el procesox y su interfaz permite una comprension idonea de las tareas ',\n",
              "       'la uncode tiene buenas uncodes como python tutor y poder ver los casos de prueba ',\n",
              "       'la posibilidad de poder poner a prueba cada ejercicio realizado hizo que uncode fuera una uncode bastante util ya que me permitio ir perfeccionando mi forma de programar con cada error aprendido ',\n",
              "       'la programacion se aprende practicando definitivamente me gusto mucho es muy didactica la uncode',\n",
              "       'las uncodes de test y visualize son muy utiles a la hora de encontrar errores',\n",
              "       'las limitaciones de espacio y memoria de uncode planteaban un reto',\n",
              "       'lo fue ya que con las uncodes permitia ver el proceso del codigo',\n",
              "       'lo que mas me gusto de uncode fue la facilidad de uso y su practicidad durante todo el semestre lo use no solo para los talleres y quizes sino tambien para probar y ejecutar codigos para otros usos la uncode de uncode es muy limpia y clara ',\n",
              "       'los casos de prueba ayudaron bastante',\n",
              "       'los ejercicios al ser de elevada dificultad exigen una buena preparacion para la resolucion de los codigos',\n",
              "       'los ejercicios propuestos me ayudaron a desarrollar logica',\n",
              "       'los ejercicios sirven mucho para aplicar los temas que el profesor nos ensenaba sin embargo creo que mi desempeno bajaba ya que estaba bajo presion pero entiendo completamente que si haga evaluando ya que es una manera de motivar es algo mas para mejorar de mi parte',\n",
              "       'los ejercisios eran bastante precisos con respecto a cada tema lo que permitia que desarrolle la logica y aplicacion de las uncodes del lenguaje de programacion',\n",
              "       'los problemas evaluaban problemas y o clarificaban confusiones comunes de los estudiantes',\n",
              "       'los talleres dejados por el profesor refuerzan lo que el ensena ',\n",
              "       'mas alla de que es una uncode para presentar tareas depende mucho del conocimiento',\n",
              "       'me ayudaba a practicar con distintos ejercicios ',\n",
              "       'me ayudo demasiado a ver los problemas de una manera sencilla',\n",
              "       'me parecia que tenia uncodes utiles como en mi caso con el lenguaje python ver como funcionaba paso a paso el programa y saber si funcionaba para los tests propuestos',\n",
              "       'me parecio bueno que resolvi ejercicios dando uso a uncodes de python y aprendi sobre logica y pensamiento de un ingeniero ',\n",
              "       'me permite ver cuales son los casos en que mi codigo no funciona y aporta sugerencias para abordar el problema de esta manera es posible corregir los ejercicios y aprender la forma correcta de solucionarlos me parece interesante la parte del tiempo de ejecucion ya que era algo que no tenia en cuenta antes al programar ',\n",
              "       'me permitia hacer un seguimiento de mis programa como cambiaban las variables donde se hacian los llamados a funciones ademas de visualizar mis propios casos de prueba',\n",
              "       'me permitia ver los errores en mis codigos sin necesidad de tener un profesor presente',\n",
              "       'mediante uncode pude realizar muchos ejercicios que me permitieron profundizar y poner a prueba mis conocimientos de los lenguajes que estaba aprendiendo por las uncodes con las que disponia era capaz de ver mis errores para poder corregirlos adecuadamente en el futuro sin embargo la uncode no siempre me decia el tipo de error que habia cometido se xcaiax con frecuencia y habia situaciones donde no era acorde a otras uncodes que tenian el mismo objetivo que uncode por lo que podia confundirme aun mas de lo que me ayudaria ',\n",
              "       'menu de navegacion simple y facil de entender sin embargo a la hora de registrarse para el curso puede llegar a ser un poco enredado por el hecho de no saber si hay una cuenta creada o si hay que crear una y de como se tiene que hacer el registro',\n",
              "       'mostraba cuando se equivocaba aunque en ocasiones era algo complicado encontrar el error le exigia al estudiante pero no era exagerado',\n",
              "       'muy versatil para programar en este ademas la metodologia de casos de prueba le da un plus extra que ayuda a la compresion de ejercicios',\n",
              "       'no entrega una descripcion clara del problema es mas util corregir los errores por colab',\n",
              "       'no lo usamos muchas veces y al usarlo nos obligaba a mejorar el programa',\n",
              "       'nos da la oportunidad de ver el resultado que se quiere y el que se tiene',\n",
              "       'nos deja ver como se ejecuta un programa en totalidad aparte de que es bastante sencilla de usar ',\n",
              "       'nos mandan ejercicios con lo que podemos practicar y reforzar los que hicimos en clase',\n",
              "       'nos permite saber en que nos equivocamos y ademas de eso nos deja visualizar la prueba de escritorio para poder revisar si nos equivocamos en algun punto ',\n",
              "       'nos permitia ejemplos para corregir nuestro codigo y tenia uncodes para evaluar el codigo linea a linea',\n",
              "       'nos permitio realizar talleres quices conociendo nuestros resultados de forma inmediata permitiendo retroalimentarnos eficazmente ',\n",
              "       'opino que es bastante util ya que te hace en el momento una retroalimentacion de si esta funcionando o no el codigo y puedes corroborar con las pruebas que hace en que casos especificos se esta fallando',\n",
              "       'pdta esta mejor el visualice de uncode porque te deja meter varios inputs de una sola ves',\n",
              "       'para tener la capacidad de construir el conocimiento se debe obtener un feedback puntual y objetivo cosa que no ofrece la uncode ',\n",
              "       'permanece caido',\n",
              "       'permite la aplicacion de conceptos trabajados mediante talleres',\n",
              "       'permite practicar e interiorizar los conocimientos que se aprende en clase y los documentos notebook ',\n",
              "       'permite practicar lo que se va aprendiendo durante el curso',\n",
              "       'permite probar el codigo y hacerle un seguimiento de manera sencilla para la deteccion de errores ',\n",
              "       'permite realizar ejercicios de forma practica y sencilla',\n",
              "       'permite visualizar la forma en la que se ejecuta el codigo propuesto deja ver las entradas y salidas que se proporcionan de una manera sencilla ademas muestra los errores que el codigo presenta y evalua conforme a eso tiene un pequeno contra que es lo reducido de las salidas aunque el codigo haga lo que se pide en el problema propuesto por cualquier caracter adicional hace que todo el test que no coincida este del todo mal ',\n",
              "       'permitia crear varios casos y ayudaba a encontrar muchos errores en los codigos',\n",
              "       'permitia evidenciar el avance en el problema adicionalmente permitia ver el paso a paso del progrma y se mostraban los ejercicios de manera organizada ',\n",
              "       'permitia hacer el codigo probarlo y observar el procedimiento paso a paso',\n",
              "       'permitia ver en casos especificos el programa fallaba para poder retroalimentar',\n",
              "       'permitio contextualizar y llevar a cabo de manera efectiva los temas trabajados en clase ',\n",
              "       'permitio la creacion de varios programas en un sistema facil y accesible sin necesidad de descargar el programa de python',\n",
              "       'plantea ejercicios interesantes y permite visualizar los codigos ademas de que le permite al estudiante el manejo de sus tiempos',\n",
              "       'poder visualizar el flujo del codigo fue bastante util ',\n",
              "       'podiamos llevar nuestros avances testear nuestros codigos mejor organizacion para las actividades',\n",
              "       'pone a prueba los conocimientos recolectados en clase ',\n",
              "       'por la facilidad en plantear problemas y ejercicios por parte de los profesores',\n",
              "       'por las uncodes que brindaba para entender el codigo ',\n",
              "       'por lo que he estado en uncode solamente para las clases he aprendido bastante sin embargo no conozco si en algun taller se enfoquen mas o profundicen en algun lenguaje de programacion ',\n",
              "       'por los talleres y el desarrollo porque la mayoria de las uncodes que usamos son de otras paginas o aplicaciones ',\n",
              "       'por que facilita al estudiante tener un lugar de trabajo academico especial ademas las uncodes de compilado e integracion de pythontutor permiten al estudiante entender su codigo y ver como se desarrollan variables funciones etc ',\n",
              "       'por que facilita la generalizacion de los programas a todos los casos posibles',\n",
              "       'por que gracias a los ejercicios puestos en la uncode pude desarrollar un pensamiento logico y resolver problemas de acuerdo a los temas tratados en clase ',\n",
              "       'por que nos brindaba una uncode para programar completamente gratuita evitando que tuvieramos que descargar programas para programar ademas de los ejercicios la simulacion y visualizar el codigo para poder observar nuestros errores',\n",
              "       'por que permite un sencillo sistema de xentrenamientox donde se nos evalua nuestros programas de manera que a la vez nos permite encontrar errores y aplicar temas aprendidos ',\n",
              "       'por ser capaz de mostrar la coincidencia entre la salida y las respuestas esperadas y permitir visualizar como cambian las variables a medida que se ejecuta el codigo',\n",
              "       'por ser la uncode de presentacion de ejercicios',\n",
              "       'porque a pesar de tener problemas ayuda a plantearse casos extranos y te hace pensar como solucionarlos',\n",
              "       'porque agilizaba la ejecucion de los programas en comparacion con otras uncodes como colab en la que toca ingresar entrada por entrada lo cual demoraba un poco por tanto utilizaba uncode incluso para realizar codigos inicialmente no planteados en uncode a veces por encima de google colab ',\n",
              "       'porque asegura que estamos tomando todos los errores posibles que puede generar el codigo que estamos creando',\n",
              "       'porque ayuda a repasar los temas vistos en clase y si algo queda mal te dice cuales son los errores ',\n",
              "       'porque ayudan a aplicar lo aprendido en un codigo con varios casos de pruebas y el visualizador ayuda a escoger los errores puntales',\n",
              "       'porque brindo una amplia gamma de ejercicios que permitieron practicar el lenguaje ',\n",
              "       'porque con su sistema se podian evaluar los codigos en gran cantidad de casos y comprobar su efectividad de igual forma nos daba retroalimentacion para hacer las correcciones necesarias',\n",
              "       'porque considero que los ejercicios son muy practicos y permiten emplear todas las uncodes aprendidas durante las clases',\n",
              "       'porque creo que el hecho de que califique automaticamente y devuelva los errores en las salidas hace que resolver los problemas sea mas rapido y facil ',\n",
              "       'porque cuenta con uncodes bastante utiles como un tutor de python y permite a los profesores limitar el tiempo de ejecucion de un programa para que el estudiante deba optimizarlo lo que mas pueda estas ultima uncode hace que el estudiante tenga que pensar mejor el codigo lo que conlleva un mayor aprendizaje ',\n",
              "       'porque da la opcion de visualizar las posibles salidas de diferentes entradas para asi comparar con el resultado esperado',\n",
              "       'porque debido a lo estricto que es con las salidas el estudiante no solo se concentra el resolver un problema para un caso de prueba especifico sino que se concentra en resolver el problema para todos los casos de prueba posibles',\n",
              "       'porque dio un acceso rapido a las uncodes necesarias para programar y a la vez ofrecio distintos talleres que sirvieron de practica y aprendizaje',\n",
              "       'porque en la uncode podia ver mis errores y asi podia corregirlos y mejorar en ellos ',\n",
              "       'porque en muchas ocasiones tenia errores en los enunciados para estos momentos no esta corriendo bien y no brinda las uncodes de visualizacion como antes ',\n",
              "       'porque en ocasiones marcaba number funcional algunos programas y cuando los usaba para otra actividad estos no se desempenaban de la manera correcta',\n",
              "       'porque era necesario un juez para analizar errores ',\n",
              "       'porque es efectivamente uno de los fines de uncode pero ha caido bastante recientemente number bad gateway ',\n",
              "       'porque es mas una heramienta de entrega de tareas asignadas que de practica ',\n",
              "       'porque es online y es facil de usar ademas gracias al juez virtual y los casos de prueba es mas facil entender como funciona cada ejercicio ',\n",
              "       'porque es un espacio en el cual se puede diferencia las partes que llevara el codigo y la explicacion del problema ',\n",
              "       'porque es una uncode complicada tienes muchos xperosx',\n",
              "       'porque es una uncode muy completa tanto para calificar como para hacer y revisar codigo lo unico malo que tiene son sus servidores si hay bastantes personas trabajando a la vez se cae ',\n",
              "       'porque es una uncode que me ayudo a conocer cuales eran los errores que cometia al la hora de hacer algun programa ',\n",
              "       'porque es una uncode interesante que ademas permite conocer los errores en casos de prueba y califica de forma justa',\n",
              "       'porque es una uncode muy didactica y facil de usar ',\n",
              "       'porque es una uncode que a pesar de los problemas que aun tiene es muy util por sus uncodes y la facilidad de usarlo para realizar las distintas actividades propuestas para la clase ',\n",
              "       'porque hay muchas posibilidades de verificar los errores con los casos de prueba',\n",
              "       'porque hay otros programas que tienen mas funciones para programar',\n",
              "       'porque la uncode le dice a uno lo que sale mal y asi es mas facil revisar donde pudo cometerse el error ',\n",
              "       'porque la uncode ofrece la oportunidad de utilizar las uncodes aprendidas en el curso y evalua el desempeno del programa que se escribio sin embargo no permite hacer algunas cosas como utilizar algunos modulos lo cual hubiera sido util para afianzar los conocimientos ',\n",
              "       'porque me calificaba los programas que hacia ademas los ejercicios que tenia me ponian a investigar y aprender mas del tema',\n",
              "       'porque me permitia desarrollar y observar el paso a paso de un programa',\n",
              "       'porque me permitia practicar algunas conceptos aprendidos en clase',\n",
              "       'porque me permitio comprobar si el codigo escrito para solucionar un problema determinado y su ejecucion eran las indicadas para el problema ',\n",
              "       'porque me permitio realizar los ejercicios en un ambiente muy comodo ademas es facil de manejar lo que permite mejorar nuestras habilidades ',\n",
              "       'porque nos permitia conocer nuestros errores y verificar el codigo pero muchas veces las uncodes como python tutor o test code no funcionaban correctamente por lo que tocaba usar otro entorno para ejecutar y probar el codigo ',\n",
              "       'porque nos permitia saber cuando un codigo funcionaba en su totalidad con diferentes casos',\n",
              "       'porque nos permitia saber que errores teniamos y muy eficiente al hacer que nuestro codigo fuera totalmente correcto',\n",
              "       'porque nos permitio realizar los ejercicios de talleres y fue de gran utilidad para verificar que lo que presentamos estaba bien ',\n",
              "       'porque para aprender esta la clase realmente uncod ayuda en cambio a reforzar',\n",
              "       'porque permite aplicar los conocimientos ensenados sobre programacion de forma similar a la que se haria en un computador por medio de python ',\n",
              "       'porque permite desarrollar ejercicios de forma clara con un sistema accesible y entenible ',\n",
              "       'porque permite probar el codigo hacer el seguimiento de su ejecucion y aconseja sobre buenas practicas de programacion o errores que detecta antes de la ejecucion del mismo esto ultimo ahorra tiempo y permite entender mejor el programa que los textos de error propios de python ',\n",
              "       'porque permite visualizar el funcionamiento del codigo ',\n",
              "       'porque permitia una retroalimentacion inmediata y daba ciertas sugerencias que ayudaban a encontrar los bugs en el programa ademas que en muchos programas lo obligaba a uno a hacerlos de la manera mas optima posible permitiendonos pensar en una solucion que tomara menos tiempo ',\n",
              "       'porque podemos ver el flujo del codigo que ejecutamos para revisar que se hizo mal',\n",
              "       'porque podemos ver la ejecucion del codigo los casos de prueba y es facil de usar',\n",
              "       'porque por medio de la uncode me fue posible resolver distintos problemas relacionadas con la tematica que me llevaban a un desarrollo de pensamiento propositivo y critico para una solucion adecuada',\n",
              "       'porque por un lado se encuentran ejercicios que ponen a prueba el pensamiento de los estudiantes para realizar lo exigido al pie de la letra y por otro lado en dado caso de no tener otras uncodes esta sirve para intentar realizar codigo ademas que tambien dice los errores obtenidos en el codigo',\n",
              "       'porque presenta uncodes utiles que permiten el testeo de los programas y analizar como estos se comportan python tutor ',\n",
              "       'porque probaba los programas con casos que no se me habrian ocurrido y encontraba sus posibles defectos',\n",
              "       'porque que tiene uncode pasibilidad de visualizar los pasos que realiza cada algoritmo y esto permite entender de forma mas clara cual es el procedimiento que se esta siguiendo',\n",
              "       'porque se puede mirar paso a paso que hace o no hace un programa',\n",
              "       'porque se pueden ver claramente algunos outputs esperados es facil usar multiples inputs y tiene conexion con python tutor lo que permite entender mejor el codigo ademas uncode ofrece una retroalimentacion inmediata ',\n",
              "       'porque a pesar de sus errores me parece una uncode muy buena para ejercitarse en el area de la programacion',\n",
              "       'provee un entorno amplio de retroalimentacion y entendimiento del tema',\n",
              "       'pude observar en que casos fallaban los algoritmos que disenaba y que la logica que aplicaba no era a mas adecuada ',\n",
              "       'pues al momento de revisar las salidas no es para nada flexible',\n",
              "       'puesto que a pesar de tener pequenos errores fue una gran guia para hacer y corregir codigos segun los problemas y casos de prueba presentados ademas tiene ciertas funciones que facilitan el proceso de programacion ',\n",
              "       'pytutor integrado casos de prueba y consejos en la parte de la izquierda vaya belleza de consola ',\n",
              "       'respecto a otros ide que toca iniciar de cero para probar el codigo uncode facilita esto de modo que no toque escribir las entradas cada vez que corre el codigo y la uncode de verificacion de linea por linea ayuda mucho cuando se inicia en un lenguaje ',\n",
              "       'se podia ver el paso a paso de la ejecucion del codigo muy util para el aprendizaje',\n",
              "       'si bien la aplicacion cumple con su proposito presenta varias fallas como las varias caidas de la pagina o la lentitud en ciertas ocasiones no permiten que el usuario tenga una experiencia amistosa con uncode',\n",
              "       'si bien muestra un paso a paso del codigo y presenta unas uncodes para verificar el sintaxis del codigo estos a veces tardaban demasiado o no funcionaban',\n",
              "       'si en el sentido que tiene la uncode de visualizador de codigo y tambien permite ver algunos casos de prueba para con las entradas y las salidas para encontrar errores',\n",
              "       'si es una uncode bastante buena aunque tiene fallos devez en cuando se cae la uncode ',\n",
              "       'si ya que uncode permite ingresar la entrada del codigo de una manera mas rapida que uncodes como colab lo cual facilitaba probar los ejercicios aunque en ocasiones emitia mensajes de error al mismo tiempo que la respuesta ',\n",
              "       'si porque cuando el codigo esta casi completo uncode me muestra el error para poder corregirlo',\n",
              "       'si ya que me permitia ver en poco tiempo si mi codigo estaba mal permitiendo corregirlo y a su vez dando consejos de como escribir adecuadamente un codigo',\n",
              "       'siento que fue una uncode necesaria para resolver problemas de programacion los cuales me ayudaron a entender mejor los conceptos explicados en clase',\n",
              "       'siento que la uncode tiene fallas personalmente solo lo utilice para subir el codigo y comprobar si pasaba o no',\n",
              "       'sin importar algunos de sus fallos en algunas ocasiones pude evidenciar mis errores viendo los ejercicios en los que fallaba mas no estoy totalmente de acuerdo porque al principio no se podia acceder a esa opcion y se me dificulto mas evidenciar la equivocacion ',\n",
              "       'sobretodo porque permitia ver le paso a paso del codigo para encontrar errores',\n",
              "       'solo es una uncode para calificar ',\n",
              "       'tener una uncode que facilite escribir codigo y recibir una retroalimentacion del mismo permite entender lo que uno esta haciendo y como lo esta haciendo basicamente gracias a visualize your code muchas veces logre corregir los errores que existian en el codigo ',\n",
              "       'tenia la opcion de visualizar la ejecucion de mi codigo paso a paso lo cual me ayudaba encontrar las debilidades de este ',\n",
              "       'tenia las uncodes adecuadas permitia probar diferentes aplicaciones y sobre todo tenia uncodes adicionales que permitian previsualizar el codigo paso por paso y revisar asi cuales eran los errores que se tenian',\n",
              "       'tiende a fallar mucho en tiempos de ejecucion y es una uncode poco flexible ',\n",
              "       'tiene bastantes fallas tales como al visualizar la situacion o el programa siendo ejecutado la interfaz no permite ver el desarrollo para programas largos o la clasica demora para testear o dar sumbit en el programa',\n",
              "       'tuvimos algunos problemas que se presentaban unicamente en y no en google collab o en otros entornos de programacion ',\n",
              "       'tuvo demasiados fallos a lo largo del semestre y esto afecto muchas veces en la entrega de talleres ',\n",
              "       'uncodde tiene la salida muy estricta',\n",
              "       'uncode es una uncode muy util debido a que permite ver como se esta ejecutando el codigo y eso es bastante util a la hora de saber cuantos pasos toma el codigo y el orden de su ejecucion ',\n",
              "       'uncode fue durante el semestre una uncode de gran apoyo donde si visualizacion y modo de mostrar cada caso de prueba ayudaba a ver cuales eran los errores y por lo tanto que se debia corregir a su vez uncode permite saber si los programas estaban bien o si se demoraban mucho o excedian la memoria y gracias a esto se puede ir mejorando',\n",
              "       'uncode fue muy util para aprender a programar computadores porque los ejercicios que alli se tienen sirven para practicar y afianzar los conocimientos que se imparten en la clase asi mismo tener varios casos de prueba nos ayuda a pensar el algoritmo de una manera funcional y optimizada ',\n",
              "       'uncode fue realmente util ya que cuenta con una interfaz intuitiva que permite disenar mi codigo hacerle prueba y verificacion de manera muy sencilla asi como poder usar python tutor para hallar errores dentro de mi codigo con mayor facilidad ',\n",
              "       'uncode fue una uncode bastante util a la hora de presentar los talleres y quices pero en si esta no fue util para aprender acerca de la programacion aunque realmente es bastante util conocer los errores en el programa con los casos de prueba pero no siempre fueron dados la uncode de python tutor dentro de uncode si fue increiblemente util porque mostraba paso a paso el proceso de forma mecanica recomiendo que la ventana de este sea un poco mas grande ',\n",
              "       'uncode permite realizar los talleres y evaluaciones de manera rapida y efectiva lo que permitio una forma efectiva de aprender ',\n",
              "       'uncode permite una rapida retroalimentacion de los ejercicios al mismo tiempo que brinda una uncode similiar a python tutor que permite visualizar el codigo paso a paso con esto el proceso de encontrar errores es mucho mas simple ',\n",
              "       'uncode en algunos caso ayudo con el desarrollo pero creeria que la retroalimentacion por parte de la pagina deberia ser mayor',\n",
              "       'una uncode muy buena para saber nuestros errores',\n",
              "       'una uncode rapida y sencilla que me permitia realizar los talleres y visualizar a su vez en que me equivocaba',\n",
              "       'una uncode con buenos ejercicios y uncodes utiles ',\n",
              "       'una uncode sencilla y practica que permite agilizar el trabajo y practicar mas que la forma tradicional',\n",
              "       'uncode es una uncode muy completa que motiva a los estudiantes a seguir programando incluso cuando se tienen bastantes falencias sobre un tema en especifico ',\n",
              "       'uncode fue una buena uncode para programar pero presenta algunos factores que deberian mejorarse como el hecho de que la pagina suele caerse en varias ocasiones para hacerse mas optima ',\n",
              "       'util para el manejo de conceptos basicos aunque completamente dificil de usar cuando ciertas uncodes no funcionan python tutor tambien ser requerido descargar y probar de manera autonoma errores usando metodos para diferenciar nuestro output del requerido y pues alto requerimiento de ayuda humana ',\n",
              "       'visualizador de codigo',\n",
              "       'ya que casi nunca tenia errores en la calificacion y en caso de presentarse algun inconveniente el docente siempre estaba atento a nuestros correos y corregia el problema rapidamente eso si personalmente de vez en cuando no registra el submit y los datos se borran al cerrar la pestana ',\n",
              "       'ya que es una uncode que nos permite comprobar el funcionamiento y ejecucion de nuestro codigo ',\n",
              "       'ya que esta al realizar una evaluacion a fondo de un codigo como tal permite a los estudiantes un correcto desempeno de lo que programar conlleva ',\n",
              "       'ya que la interfaz no me parece muy comoda y el hecho de que el editor no tenga algunas opciones te hace estar mas tiempo corrigiendo la escritura que programando',\n",
              "       'ya que se nos entregan resultados inmediatos recalcando en los errores ademas de una uncode que nos permite ver el proceso del codigo paso por paso',\n",
              "       'al solo recibir una salida especifica y detallada esto dificulta en una manera muy exponencial la capacidad de los estudiantes de resolucion de problemas dejando solo una unica respuesta puesto que la programacion es algo tan intimo y cambiantenumber de persona a persona esta deberia revisarse de un metodo distinto donde lo que importara fuera el resultado y no en su mayoria el orden de este mismo o la manera de darlo',\n",
              "       'dio la oportunidad de poner en practica los conocimientos adquiridos en las clases a pesar de la virtualidad tambien fue muy util para identificar problemas y plantear diferentes soluciones segun fuesen requeridas',\n",
              "       'el semestre pasado tuve problemas con uncode se me borro todo el progreso academico y el profesor no habia guardado notas por tal razon tuve que cancelar la materi no obstante este semestre no he tenido problemas',\n",
              "       'es una exelente uncode de evaluacion y permitir intentar hasta conseguir respuestas correctas ayuda bastante a repasar siempre que no se haga trampa para sacar los valores deseados ',\n",
              "       'es una gran uncode que permite un exelente aprendizaje ya que permite ver en tiempo real los resultados de los codigos utilizados para resolver cierto problema',\n",
              "       'es una uncode muy buena para comprobara que un programa hace lo que se le pide',\n",
              "       'es una uncode bien interesante donde de verdad uno puedo saber si esta haciendo las cosas bien gracias a los variados casos de prueba lo que hace que uno tenga que hacer un buen programa para que todo salga bien ',\n",
              "       'es una uncode muy intuitiva y con buenas uncodes para la solucion de problemas y ejecucion de los codigos',\n",
              "       'existen uncodes con un ambiente un poco mas amigable como lo es colab',\n",
              "       'facilita la solucion de problemas con su modulo de test code y python tutor',\n",
              "       'fue una uncode util para hacer la entrega de las actividades',\n",
              "       'la uncode cumple en cuanto a sus servicios pero no de la forma mas adecuada',\n",
              "       'la uncode esta bien aunque falla a menudo',\n",
              "       'la retroalimentacion que da cuando hay algo incorrecto resulta muy util al momento de corregir el codigo aunque a veces como en el caso del taller number no era tan obvia la comparacion entre lo que esta bien y lo que estaba mal',\n",
              "       'los programas al principios no tenian claridad a la hora de su interpretacion',\n",
              "       'me dejaba identificar donde tenia un error en el programa y el paso a paso de este deberian implementar que siempre se vea el tiempo que dura el programa en cada submission ',\n",
              "       'no los mostraba en todos',\n",
              "       'permite una valoracion inmediata del trabajo hecho',\n",
              "       'permitio el analisis de codigo y la prueba de este',\n",
              "       'permitio la evaluacion de talleres ademas de ser un compilador paso a paso',\n",
              "       'por ahi se desarrollaron diversos talleres que ayudaban al entendimiento de las clases',\n",
              "       'por que es una uncode que permite usar python sin necesidad de descargarlo facil de usar y al permitir guardar todo en el drive es muy conveniente',\n",
              "       'por que nos ayudo a entender mejor las uncodes y a realizar las actividades',\n",
              "       'porque uncode al tener tantas uncodes a disposicion como python tutor me permitieron ver como funcionan mis programas y a su ves detectar los errores que estaba cometiendo para corregirlos ',\n",
              "       'porque al darnos un feedback respecto a si tenemos respuestas incorrectas me ponia a pensar acerca de los errores que podia estar cometiendo haciendo retroalimentaciones seccion por seccion para descubrir el error',\n",
              "       'porque en si un code no ayuda a aprender es una uncode de evaluacion de codigo mas no una guia de programacion',\n",
              "       'porque le mostraba a uno los casos y el error que uno cometio ademas de que el python tutor le hacia a uno la prueba de escritorio ahorrando tiempo en la deteccion del problema',\n",
              "       'porque muchas veces el codigo que pedia lo hacia y este cumplia el objetivo pero el uncode siempre me aparecia como error',\n",
              "       'porque permite realizar diferentes evaluaciones al codigo y de esta manera verificar su eficiencia',\n",
              "       'porque se podia visualizar los errores con las uncodes se ponen casos para el nivel de conocimiento que uno lleva y en algunas ocasiones puede ser divertido lo unico que si me molestaba eran los quices con tiempo',\n",
              "       'porque su interfaz permite ver como funciona nuestro codigo y como podemos mejorarlo',\n",
              "       'pues es una forma muy facil y util de calificar ',\n",
              "       'si porque gracias a el pude constatar que mis ejercicios estuvieran bien hechos',\n",
              "       'si ya que es bastante sencillo e intuitivo a la hora de su uso',\n",
              "       'solo lo use para enviar los talleres ya que los desarrollaba en otro ide',\n",
              "       'uno de los aspectos que considero que mas me colaboro fue el seguimiento de la ejecucion del codigo que uncode permite',\n",
              "       'ya que proporcionaba todas las uncodes necesarias para practicar y mejorar las habilidades basicas y esenciales de programacion tanto en c como en python number'],\n",
              "      dtype=object)"
            ]
          },
          "execution_count": 12,
          "metadata": {},
          "output_type": "execute_result"
        }
      ],
      "source": [
        "comments = df.comment\n",
        "comments.to_numpy()"
      ]
    },
    {
      "cell_type": "markdown",
      "metadata": {
        "id": "QcMOa9A49cSs"
      },
      "source": [
        "#### Aditional optional text cleaning/normalization"
      ]
    },
    {
      "cell_type": "code",
      "execution_count": null,
      "metadata": {
        "id": "XvhQZgHR7zRv"
      },
      "outputs": [],
      "source": [
        "#normalizacion especifica, dependiendo del metodo se puede probar con y sin esta\n",
        "def normalize(text):\n",
        "    doc = nlp(text)\n",
        "    words = [t.orth_ for t in doc if not t.is_punct | t.is_stop]\n",
        "    lexical_tokens = [t.lower() for t in words if t.isalpha()] #len(t) > 3 and\n",
        "    return lexical_tokens\n",
        "\n",
        "#otra libreria para eliminar stop words\n",
        "# import nltk\n",
        "# from stop_words import get_stop_words\n",
        "# dataset = ['This','is','just', 'a', 'snake']\n",
        "# A = [word for word in dataset if word not in get_stop_words('english')]\n",
        "# print(A)"
      ]
    },
    {
      "cell_type": "code",
      "execution_count": null,
      "metadata": {
        "colab": {
          "base_uri": "https://localhost:8080/"
        },
        "id": "-Wmac0AbmHXR",
        "outputId": "d5b29ad5-9c2f-466d-e53b-18fa14b2c41d"
      },
      "outputs": [
        {
          "data": {
            "text/plain": [
              "['traves',\n",
              " 'uncode',\n",
              " 'pude',\n",
              " 'practicando',\n",
              " 'mejorar',\n",
              " 'habilidades',\n",
              " 'programacion']"
            ]
          },
          "execution_count": 14,
          "metadata": {},
          "output_type": "execute_result"
        }
      ],
      "source": [
        "textNormalizedCommentsVector = [ ([str(a) for a in normalize(oneComment)]) for oneComment in comments]\n",
        "textNormalizedCommentsVector[0]"
      ]
    },
    {
      "cell_type": "code",
      "execution_count": null,
      "metadata": {
        "colab": {
          "base_uri": "https://localhost:8080/",
          "height": 36
        },
        "id": "9Oa27gWe97VZ",
        "outputId": "c90bfa3f-092b-4649-a1fb-46a0f244f25a"
      },
      "outputs": [
        {
          "data": {
            "application/vnd.google.colaboratory.intrinsic+json": {
              "type": "string"
            },
            "text/plain": [
              "'traves uncode pude practicando mejorar habilidades programacion'"
            ]
          },
          "execution_count": 15,
          "metadata": {},
          "output_type": "execute_result"
        }
      ],
      "source": [
        "textNormalizedComments = [ \" \".join([str(a) for a in normalize(oneComment)]) for oneComment in comments]\n",
        "textNormalizedComments[0]"
      ]
    },
    {
      "cell_type": "markdown",
      "metadata": {
        "id": "ikQ2wixsAZvX"
      },
      "source": [
        "#### stemming optional process to transfrom all word to the root(even if the root does not exist)"
      ]
    },
    {
      "cell_type": "code",
      "execution_count": null,
      "metadata": {
        "id": "INjkQdiLAivF"
      },
      "outputs": [],
      "source": [
        "import nltk\n",
        "from nltk import SnowballStemmer\n",
        "\n",
        "def stemmize(text):\n",
        "  spanishstemmer=SnowballStemmer('spanish')\n",
        "  tokens = normalize(text) # crear una lista de tokens\n",
        "  stems = [spanishstemmer.stem(token) for token in tokens]\n",
        "  return stems"
      ]
    },
    {
      "cell_type": "code",
      "execution_count": null,
      "metadata": {
        "colab": {
          "base_uri": "https://localhost:8080/"
        },
        "id": "jFSvxkF9S1Li",
        "outputId": "d77f5a32-15a0-43c1-a7aa-5060753a886b"
      },
      "outputs": [
        {
          "data": {
            "text/plain": [
              "['trav', 'uncod', 'pud', 'practic', 'mejor', 'habil', 'programacion']"
            ]
          },
          "execution_count": 17,
          "metadata": {},
          "output_type": "execute_result"
        }
      ],
      "source": [
        "stemmize(textNormalizedComments[0])"
      ]
    },
    {
      "cell_type": "code",
      "execution_count": null,
      "metadata": {
        "colab": {
          "base_uri": "https://localhost:8080/"
        },
        "id": "n7miQcckcO7C",
        "outputId": "bd79aa23-3e53-424b-bb06-c27e008bee03"
      },
      "outputs": [
        {
          "data": {
            "text/plain": [
              "['trav', 'uncod', 'pud', 'practic', 'mejor', 'habil', 'programacion']"
            ]
          },
          "execution_count": 18,
          "metadata": {},
          "output_type": "execute_result"
        }
      ],
      "source": [
        "dataStemmizedCommentsVector = [ ([str(a) for a in stemmize(oneComment)]) for oneComment in textNormalizedComments]\n",
        "dataStemmizedCommentsVector[0]"
      ]
    },
    {
      "cell_type": "markdown",
      "metadata": {
        "id": "XQVJMP7CAq5O"
      },
      "source": [
        "#### lemmatization, optional procces to transform words to a common one"
      ]
    },
    {
      "cell_type": "code",
      "execution_count": null,
      "metadata": {
        "id": "Vit-wYEZBDJc"
      },
      "outputs": [],
      "source": [
        "def lemmanize(text):\n",
        "    doc = nlp(text)\n",
        "    #lemmas_no_pron = [tok.lemma_.lower() for tok in doc if tok.pos_ != 'PRON'] # we can select the type of tokens that will enter this process, like pronouns, adjetivo, verbo, sustantivo\n",
        "    #lemmas = [tok.lemma_ for tok in doc if tok.pos_ != 'NOUN']\n",
        "    lemmas = []\n",
        "    for tok in doc:\n",
        "      if tok.pos_ not in (\"NOUN\", \"NUM\", \"PROPN\"):\n",
        "        lemmas.append((tok.lemma_))\n",
        "      else:\n",
        "        lemmas.append((tok.text))\n",
        "    return lemmas\n"
      ]
    },
    {
      "cell_type": "code",
      "execution_count": null,
      "metadata": {
        "colab": {
          "base_uri": "https://localhost:8080/"
        },
        "id": "DpqjaYdiC9Ci",
        "outputId": "7382383e-7056-4043-eb34-4f13df178b49"
      },
      "outputs": [
        {
          "data": {
            "text/plain": [
              "['traves',\n",
              " 'uncode',\n",
              " 'poder',\n",
              " 'practicar',\n",
              " 'mejorar',\n",
              " 'habilidades',\n",
              " 'programacion']"
            ]
          },
          "execution_count": 20,
          "metadata": {},
          "output_type": "execute_result"
        }
      ],
      "source": [
        "lemmanize(textNormalizedComments[0])"
      ]
    },
    {
      "cell_type": "code",
      "execution_count": null,
      "metadata": {
        "colab": {
          "base_uri": "https://localhost:8080/"
        },
        "id": "_1pEwSA-XZMp",
        "outputId": "583db22b-0426-49a9-991b-1e9ca91c7a58"
      },
      "outputs": [
        {
          "data": {
            "text/plain": [
              "['traves',\n",
              " 'uncode',\n",
              " 'poder',\n",
              " 'practicar',\n",
              " 'mejorar',\n",
              " 'habilidades',\n",
              " 'programacion']"
            ]
          },
          "execution_count": 21,
          "metadata": {},
          "output_type": "execute_result"
        }
      ],
      "source": [
        "dataLemmatizedCommentsVector = [ ([str(a) for a in lemmanize(oneComment)]) for oneComment in textNormalizedComments]\n",
        "dataLemmatizedCommentsVector[0]"
      ]
    },
    {
      "cell_type": "markdown",
      "metadata": {
        "id": "LI0jbgeHGSp6"
      },
      "source": [
        "## LDA"
      ]
    },
    {
      "cell_type": "markdown",
      "metadata": {
        "id": "ulfTCu3t5XCs"
      },
      "source": [
        "https://www.machinelearningplus.com/nlp/topic-modeling-gensim-python/#17howtofindtheoptimalnumberoftopicsforlda"
      ]
    },
    {
      "cell_type": "code",
      "execution_count": null,
      "metadata": {
        "id": "BYO8YqJNwYz-"
      },
      "outputs": [],
      "source": [
        "dataTokenizedReady = dataLemmatizedCommentsVector   #textNormalizedCommentsVector #dataLemmatizedCommentsVector"
      ]
    },
    {
      "cell_type": "code",
      "execution_count": null,
      "metadata": {
        "id": "BBqKZb6LhbQ3"
      },
      "outputs": [],
      "source": [
        "id2word = corpora.Dictionary(dataTokenizedReady)\n",
        "\n",
        "corpus = [id2word.doc2bow(text) for text in dataTokenizedReady]    #unique id for each word in the document. The produced corpus shown above is a mapping of (word_id, word_frequency)."
      ]
    },
    {
      "cell_type": "code",
      "execution_count": null,
      "metadata": {
        "colab": {
          "base_uri": "https://localhost:8080/"
        },
        "id": "3nr5r9v0vbZj",
        "outputId": "34a43b09-97fe-4dd6-dd7d-15d3e059857d"
      },
      "outputs": [
        {
          "data": {
            "text/plain": [
              "[[('habilidades', 1),\n",
              "  ('mejorar', 1),\n",
              "  ('poder', 1),\n",
              "  ('practicar', 1),\n",
              "  ('programacion', 1),\n",
              "  ('traves', 1),\n",
              "  ('uncode', 1)]]"
            ]
          },
          "execution_count": 24,
          "metadata": {},
          "output_type": "execute_result"
        }
      ],
      "source": [
        "[[(id2word[id], freq) for id, freq in cp] for cp in corpus[:1]]   # for document one how many times appears each word"
      ]
    },
    {
      "cell_type": "markdown",
      "metadata": {
        "id": "a0B1wL-FCGwm"
      },
      "source": [
        "![image.png](data:image/png;base64,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)"
      ]
    },
    {
      "cell_type": "code",
      "execution_count": null,
      "metadata": {
        "id": "luaYdWjooXmR"
      },
      "outputs": [],
      "source": [
        "# Build LDA model\n",
        "lda_model = gensim.models.ldamodel.LdaModel(corpus=corpus,\n",
        "                                           id2word=id2word,\n",
        "                                           num_topics=20,\n",
        "                                           random_state=100,\n",
        "                                           update_every=1,\n",
        "                                           chunksize=100,\n",
        "                                           passes=10,\n",
        "                                           alpha='auto',\n",
        "                                           per_word_topics=True)\n"
      ]
    },
    {
      "cell_type": "code",
      "execution_count": null,
      "metadata": {
        "colab": {
          "base_uri": "https://localhost:8080/"
        },
        "id": "WUCsX7MIv9pY",
        "outputId": "ef47a35f-847e-4a27-b084-bce2d2f6f46a"
      },
      "outputs": [
        {
          "name": "stdout",
          "output_type": "stream",
          "text": [
            "[(0,\n",
            "  '0.087*\"problemas\" + 0.065*\"prueba\" + 0.037*\"intuitivo\" + 0.032*\"uncodes\" + '\n",
            "  '0.030*\"casos\" + 0.030*\"persona\" + 0.029*\"pensar\" + 0.028*\"cumplir\" + '\n",
            "  '0.027*\"ayudar\" + 0.024*\"completamente\"'),\n",
            " (1,\n",
            "  '0.085*\"programar\" + 0.075*\"uncodir\" + 0.027*\"casos\" + 0.027*\"bastante\" + '\n",
            "  '0.026*\"ayudo\" + 0.026*\"probar\" + 0.025*\"ocasiones\" + 0.025*\"optimo\" + '\n",
            "  '0.024*\"posible\" + 0.022*\"detallado\"'),\n",
            " (2,\n",
            "  '0.060*\"inmediato\" + 0.059*\"errores\" + 0.052*\"podia\" + 0.050*\"comprobar\" + '\n",
            "  '0.031*\"visualizador\" + 0.029*\"utilizar\" + 0.025*\"recibir\" + 0.024*\"ofrecer\" '\n",
            "  '+ 0.023*\"calificacion\" + 0.023*\"personalmente\"'),\n",
            " (3,\n",
            "  '0.070*\"uncode\" + 0.064*\"code\" + 0.050*\"test\" + 0.047*\"encontrar\" + '\n",
            "  '0.045*\"mejorar él\" + 0.043*\"tema\" + 0.034*\"efectivo\" + 0.032*\"ejecucion\" + '\n",
            "  '0.028*\"comparacion\" + 0.021*\"modulo\"'),\n",
            " (4,\n",
            "  '0.068*\"util\" + 0.043*\"hora\" + 0.042*\"probar\" + 0.034*\"programas\" + '\n",
            "  '0.032*\"permitiar\" + 0.029*\"errores\" + 0.028*\"escribir\" + 0.028*\"evaluar\" + '\n",
            "  '0.026*\"facilidad\" + 0.025*\"diferenciar\"'),\n",
            " (5,\n",
            "  '0.065*\"programacion\" + 0.064*\"clase\" + 0.050*\"necesario\" + '\n",
            "  '0.045*\"desarrollar\" + 0.041*\"poder\" + 0.036*\"ejercicios\" + '\n",
            "  '0.035*\"practicar\" + 0.031*\"necesidad\" + 0.029*\"descargar\" + '\n",
            "  '0.027*\"uncodir\"'),\n",
            " (6,\n",
            "  '0.195*\"paso\" + 0.069*\"codigo\" + 0.065*\"corregir\" + 0.055*\"programa\" + '\n",
            "  '0.047*\"teniar\" + 0.045*\"errores\" + 0.031*\"proceso\" + 0.021*\"hacer él\" + '\n",
            "  '0.020*\"entendimiento\" + 0.015*\"entrada\"'),\n",
            " (7,\n",
            "  '0.070*\"problemas\" + 0.062*\"permitio\" + 0.050*\"colab\" + 0.045*\"usar\" + '\n",
            "  '0.043*\"profesor\" + 0.039*\"resolver\" + 0.033*\"desarrollar\" + 0.029*\"aplicar\" '\n",
            "  '+ 0.029*\"quiz\" + 0.028*\"plantear\"'),\n",
            " (8,\n",
            "  '0.078*\"permitir\" + 0.053*\"facilitar\" + 0.039*\"mejorar\" + 0.033*\"visualizar\" '\n",
            "  '+ 0.033*\"ejercicios\" + 0.031*\"funcionamiento\" + 0.028*\"trabajo\" + '\n",
            "  '0.026*\"habilidades\" + 0.023*\"codigo\" + 0.020*\"desempeno\"'),\n",
            " (9,\n",
            "  '0.159*\"talleres\" + 0.081*\"dejar\" + 0.043*\"mostrar\" + 0.043*\"entradas\" + '\n",
            "  '0.030*\"correr\" + 0.026*\"ejecutar\" + 0.024*\"equivocar\" + 0.023*\"opcion\" + '\n",
            "  '0.017*\"espacio\" + 0.017*\"encontrar\"'),\n",
            " (10,\n",
            "  '0.056*\"deberiar\" + 0.035*\"estudiantes\" + 0.035*\"codigo\" + 0.032*\"uncode\" + '\n",
            "  '0.027*\"cosas\" + 0.027*\"opciones\" + 0.026*\"ejercicio\" + 0.025*\"tenia\" + '\n",
            "  '0.024*\"objetivo\" + 0.024*\"sistema\"'),\n",
            " (11,\n",
            "  '0.119*\"codigo\" + 0.050*\"casos\" + 0.048*\"probar\" + 0.047*\"evaluacion\" + '\n",
            "  '0.043*\"permitiar\" + 0.041*\"funcionar\" + 0.036*\"errores\" + '\n",
            "  '0.033*\"respuestas\" + 0.033*\"correcto\" + 0.033*\"uncodir\"'),\n",
            " (12,\n",
            "  '0.077*\"ayuda\" + 0.044*\"tener\" + 0.037*\"uncodir\" + 0.031*\"linea\" + '\n",
            "  '0.029*\"seccion\" + 0.025*\"comodo\" + 0.023*\"editor\" + 0.022*\"ide\" + '\n",
            "  '0.020*\"repasar\" + 0.018*\"feedback\"'),\n",
            " (13,\n",
            "  '0.119*\"uncodir\" + 0.072*\"permitir\" + 0.058*\"facil\" + 0.057*\"forma\" + '\n",
            "  '0.047*\"util\" + 0.039*\"practicar\" + 0.038*\"sencillo\" + 0.032*\"calificar\" + '\n",
            "  '0.030*\"aprender\" + 0.027*\"programa\"'),\n",
            " (14,\n",
            "  '0.082*\"error\" + 0.079*\"problema\" + 0.044*\"presentar\" + 0.037*\"pagina\" + '\n",
            "  '0.035*\"ver\" + 0.033*\"cometer\" + 0.028*\"tiempo\" + 0.028*\"adecuado\" + '\n",
            "  '0.026*\"completo\" + 0.025*\"algun\"'),\n",
            " (15,\n",
            "  '0.080*\"caso\" + 0.032*\"rapido\" + 0.030*\"metodo\" + 0.028*\"docente\" + '\n",
            "  '0.027*\"programas\" + 0.027*\"propuesto\" + 0.022*\"proporcionar\" + '\n",
            "  '0.021*\"respuesta\" + 0.020*\"funcional\" + 0.018*\"codigo\"'),\n",
            " (16,\n",
            "  '0.089*\"codigo\" + 0.078*\"permitir\" + 0.058*\"python\" + 0.054*\"uncodes\" + '\n",
            "  '0.044*\"uncode\" + 0.040*\"tutor\" + 0.038*\"uncodir\" + 0.034*\"errores\" + '\n",
            "  '0.030*\"tiempo\" + 0.028*\"ejecucion\"'),\n",
            " (17,\n",
            "  '0.055*\"retroalimentacion\" + 0.047*\"util\" + 0.040*\"solucion\" + '\n",
            "  '0.039*\"uncodir\" + 0.036*\"uncode\" + 0.033*\"clases\" + 0.032*\"ayudar\" + '\n",
            "  '0.030*\"semestre\" + 0.029*\"temas\" + 0.025*\"poner\"'),\n",
            " (18,\n",
            "  '0.040*\"interfaz\" + 0.034*\"unico\" + 0.030*\"salidas\" + 0.026*\"puesto\" + '\n",
            "  '0.025*\"seguir\" + 0.024*\"especifico\" + 0.022*\"oportunidad\" + '\n",
            "  '0.022*\"resultado\" + 0.021*\"orden\" + 0.021*\"falla\"'),\n",
            " (19,\n",
            "  '0.064*\"resultados\" + 0.063*\"number\" + 0.055*\"distinto\" + '\n",
            "  '0.047*\"programacion\" + 0.045*\"requerir\" + 0.044*\"aprendizaje\" + '\n",
            "  '0.032*\"practicar\" + 0.029*\"uncodes\" + 0.021*\"c\" + 0.021*\"esencial\"')]\n"
          ]
        }
      ],
      "source": [
        "# Print the Keyword in the 10 topics\n",
        "pprint(lda_model.print_topics())\n",
        "doc_lda = lda_model[corpus]"
      ]
    },
    {
      "cell_type": "code",
      "execution_count": null,
      "metadata": {
        "colab": {
          "base_uri": "https://localhost:8080/"
        },
        "id": "4yyYX_I1wOe1",
        "outputId": "9f9ffbb2-0f59-44e9-fe26-3db6fdfde695"
      },
      "outputs": [
        {
          "name": "stdout",
          "output_type": "stream",
          "text": [
            "\n",
            "Coherence Score:  0.4064158978582267\n"
          ]
        }
      ],
      "source": [
        "# Compute Coherence Score\n",
        "coherence_model_lda = CoherenceModel(model=lda_model, texts=dataTokenizedReady, dictionary=id2word, coherence='c_v')\n",
        "coherence_lda = coherence_model_lda.get_coherence()\n",
        "print('\\nCoherence Score: ', coherence_lda)"
      ]
    },
    {
      "cell_type": "code",
      "execution_count": null,
      "metadata": {
        "id": "T8pzTUxJy7Iu"
      },
      "outputs": [],
      "source": [
        "def compute_coherence_values(dictionary, corpus, texts, limit, start=2, step=3, coherence ='c_v'):\n",
        "    \"\"\"\n",
        "    Compute c_v coherence for various number of topics\n",
        "\n",
        "    Parameters:\n",
        "    ----------\n",
        "    dictionary : Gensim dictionary\n",
        "    corpus : Gensim corpus\n",
        "    texts : List of input texts\n",
        "    limit : Max num of topics\n",
        "\n",
        "    Returns:\n",
        "    -------\n",
        "    model_list : List of LDA topic models\n",
        "    coherence_values : Coherence values corresponding to the LDA model with respective number of topics\n",
        "    \"\"\"\n",
        "    coherence_values = []\n",
        "    model_list = []\n",
        "    for num_topics in range(start, limit, step):\n",
        "        model =  gensim.models.ldamodel.LdaModel(corpus=corpus,\n",
        "                                           id2word=id2word,\n",
        "                                           num_topics=num_topics,\n",
        "                                           random_state=100,\n",
        "                                           update_every=1,\n",
        "                                           chunksize=100,\n",
        "                                           passes=10,\n",
        "                                           alpha='auto',\n",
        "                                           per_word_topics=True)\n",
        "        model_list.append(model)\n",
        "        coherencemodel = CoherenceModel(model=model, texts=texts, dictionary=dictionary, coherence=coherence)\n",
        "        coherence_values.append(coherencemodel.get_coherence())\n",
        "\n",
        "    return model_list, coherence_values"
      ]
    },
    {
      "cell_type": "code",
      "execution_count": null,
      "metadata": {
        "id": "sxqWYuzUzS0X"
      },
      "outputs": [],
      "source": [
        "# Can take a long time to run.\n",
        "model_list, coherence_values = compute_coherence_values(dictionary=id2word, corpus=corpus, texts=dataTokenizedReady, start=2, limit=40, step=1, coherence='c_v')"
      ]
    },
    {
      "cell_type": "code",
      "execution_count": null,
      "metadata": {
        "colab": {
          "base_uri": "https://localhost:8080/",
          "height": 279
        },
        "id": "rmlQaWyRz-1P",
        "outputId": "551ec313-37a0-4e1c-b6a9-ba0e35aaaeb1"
      },
      "outputs": [
        {
          "data": {
            "image/png": "[encoded data removed]",
            "text/plain": [
              "<Figure size 432x288 with 1 Axes>"
            ]
          },
          "metadata": {},
          "output_type": "display_data"
        }
      ],
      "source": [
        "# Show graph\n",
        "limit=40; start=2; step=1;\n",
        "x = range(start, limit, step)\n",
        "plt.plot(x, coherence_values)\n",
        "plt.xlabel(\"Num Topics\")\n",
        "plt.ylabel(\"Coherence score\")\n",
        "plt.legend((\"coherence_values\"), loc='best')\n",
        "plt.show()"
      ]
    },
    {
      "cell_type": "code",
      "execution_count": null,
      "metadata": {
        "id": "jch4_zgG3OE1"
      },
      "outputs": [],
      "source": [
        "optimal_model = model_list[10]"
      ]
    },
    {
      "cell_type": "code",
      "execution_count": null,
      "metadata": {
        "colab": {
          "background_save": true
        },
        "id": "zYYEBwWaCZMV"
      },
      "outputs": [],
      "source": [
        "# Can take a long time to run.\n",
        "model_list, coherence_values = compute_coherence_values(dictionary=id2word, corpus=corpus, texts=dataTokenizedReady, start=2, limit=40, step=1, coherence='u_mass')"
      ]
    },
    {
      "cell_type": "code",
      "execution_count": null,
      "metadata": {
        "colab": {
          "background_save": true
        },
        "id": "mNL_lBuYCmqY",
        "outputId": "cff43869-fee3-415c-dced-f537624b4319"
      },
      "outputs": [
        {
          "data": {
            "image/png": "[encoded data removed]",
            "text/plain": [
              "<Figure size 432x288 with 1 Axes>"
            ]
          },
          "metadata": {},
          "output_type": "display_data"
        }
      ],
      "source": [
        "# Show graph\n",
        "limit=40; start=2; step=1;\n",
        "x = range(start, limit, step)\n",
        "plt.plot(x, coherence_values)\n",
        "plt.xlabel(\"Num Topics\")\n",
        "plt.ylabel(\"Coherence score\")\n",
        "plt.legend((\"coherence_values\"), loc='best')\n",
        "plt.show()"
      ]
    },
    {
      "cell_type": "code",
      "execution_count": null,
      "metadata": {
        "colab": {
          "background_save": true
        },
        "id": "Quw-5rE_yRnK",
        "outputId": "48d04354-f94f-4d5b-a66d-bb98fdd38467"
      },
      "outputs": [
        {
          "name": "stderr",
          "output_type": "stream",
          "text": [
            "/usr/local/lib/python3.8/dist-packages/pyLDAvis/_prepare.py:246: FutureWarning: In a future version of pandas all arguments of DataFrame.drop except for the argument 'labels' will be keyword-only\n",
            "  default_term_info = default_term_info.sort_values(\n"
          ]
        },
        {
          "data": {
            "text/html": [
              "\n",
              "<link rel=\"stylesheet\" type=\"text/css\" href=\"https://cdn.jsdelivr.net/gh/bmabey/pyLDAvis@3.3.1/pyLDAvis/js/ldavis.v1.0.0.css\">\n",
              "\n",
              "\n",
              "<div id=\"ldavis_el1061404718075460806643961044\"></div>\n",
              "<script type=\"text/javascript\">\n",
              "\n",
              "var ldavis_el1061404718075460806643961044_data = {\"mdsDat\": {\"x\": [0.22005289720699214, 0.09614249856873287, -0.13765144764286427, 0.059990694880401686, -0.037697214901967244, -0.11118433398274763, 0.1295630265172062, 0.07131272729876603, -0.13345423176865337, -0.03956077692322919, -0.05719945871283059, -0.060314380539806006], \"y\": [-0.10454908934326959, -0.003294546838616023, 0.16414901728917128, 0.15128380099218866, 0.021021035906184333, -0.0073403051754122334, 0.05163910937412432, -0.0036101421272453993, -0.21228243456260185, -0.06348599406564048, -0.02096194504635553, 0.02743149359747259], \"topics\": [1, 2, 3, 4, 5, 6, 7, 8, 9, 10, 11, 12], \"cluster\": [1, 1, 1, 1, 1, 1, 1, 1, 1, 1, 1, 1], \"Freq\": [16.19556338257108, 12.729740988372725, 11.823071432660722, 9.67066188746048, 8.72753615880913, 8.567980924675403, 7.274201605397897, 5.882854463075468, 5.772101423215573, 5.375713842202349, 4.143892740125733, 3.8366811514334387]}, \"tinfo\": {\"Term\": [\"codigo\", \"paso\", \"permitir\", \"uncodes\", \"problemas\", \"uncodir\", \"casos\", \"probar\", \"programa\", \"python\", \"error\", \"ejercicios\", \"problema\", \"practicar\", \"errores\", \"facil\", \"funcionar\", \"programas\", \"uncode\", \"tiempo\", \"talleres\", \"tutor\", \"ocasiones\", \"permitiar\", \"programar\", \"ejecucion\", \"ayuda\", \"programacion\", \"facilitar\", \"caso\", \"clase\", \"conocimientos\", \"resolver\", \"necesario\", \"aprendido\", \"identificar\", \"clases\", \"usar\", \"ver\", \"profesor\", \"problemas\", \"desarrollar\", \"poner\", \"puesto\", \"descargar\", \"completamente\", \"seguir\", \"principio\", \"sistema\", \"orden\", \"conllevar\", \"nivel\", \"pensamiento\", \"claro\", \"guia\", \"visto\", \"pensar\", \"algoritmo\", \"aplicacion\", \"semestre\", \"practicar\", \"salidas\", \"ayudar\", \"ejercicios\", \"programacion\", \"cumplir\", \"unico\", \"forma\", \"aprender\", \"uncodir\", \"util\", \"tiempo\", \"permitir\", \"casos\", \"temas\", \"presentar\", \"solucion\", \"code\", \"test\", \"conceptos\", \"adecuado\", \"completo\", \"practica\", \"entendimiento\", \"paso\", \"ejecutar\", \"sencillo\", \"pedir\", \"taller\", \"requerido\", \"especificar\", \"evalua\", \"optimo\", \"talleres\", \"bastante\", \"caer\", \"fallas\", \"duro\", \"implementar\", \"submission\", \"modulo\", \"efectivo\", \"sentir\", \"llevar\", \"visualize\", \"ejecucion\", \"programa\", \"uncode\", \"util\", \"uncodir\", \"forma\", \"programacion\", \"hora\", \"permitir\", \"uncodes\", \"probar\", \"entender\", \"ocasiones\", \"caso\", \"dejar\", \"correcto\", \"number\", \"linea\", \"entradas\", \"opciones\", \"ejercicio\", \"observar\", \"metodo\", \"editor\", \"detectar\", \"correr\", \"ingresar\", \"crear\", \"permitiar\", \"tocar\", \"serio\", \"procedimiento\", \"verificar\", \"corregir \\u00e9l\", \"espacio\", \"iniciar\", \"totalmente\", \"google\", \"probar \\u00e9l\", \"posibilidad\", \"entornos\", \"evitar\", \"deberiar\", \"fallar\", \"mostrar\", \"codigo\", \"errores\", \"programas\", \"brindar\", \"requerir\", \"uncodes\", \"uncode\", \"dar\", \"paso\", \"uncodir\", \"opcion\", \"lenguaje\", \"docente\", \"entrega\", \"salir\", \"encontrar\", \"detallado\", \"funcionar\", \"funciones\", \"funcional\", \"algun\", \"claridad\", \"interpretacion\", \"disposicion\", \"tanto\", \"analisis\", \"simple\", \"organizado\", \"tener\", \"tutor\", \"flujo\", \"versatil\", \"necesidad\", \"acceder\", \"python\", \"programas\", \"plus\", \"implementacion\", \"situaciones\", \"probar\", \"hora\", \"posible\", \"cometer\", \"casos\", \"uncodir\", \"codigo\", \"util\", \"errores\", \"facil\", \"permitir\", \"revisar\", \"ayudar\", \"ayuda\", \"resultados\", \"hacer\", \"gracias\", \"estudiantes\", \"exelente\", \"rapido\", \"escribir\", \"objetivo\", \"facilidad\", \"diferenciar\", \"agilizar\", \"resultar\", \"resolucion\", \"repasar\", \"comparacion\", \"reforzar\", \"basico\", \"respuesta\", \"aparecia\", \"cumplia\", \"pedia\", \"deseado\", \"sacar\", \"trampa\", \"valores\", \"constatar\", \"estar\", \"alto\", \"autonoma\", \"respuestas\", \"corregir\", \"comodo\", \"tiempo\", \"evaluacion\", \"aprendizaje\", \"codigo\", \"permitir\", \"uncodir\", \"forma\", \"ejercicios\", \"uncode\", \"errores\", \"talleres\", \"permitio\", \"habilidades\", \"cosas\", \"aplicar\", \"utilizar\", \"desempeno\", \"manejo\", \"ofrecer\", \"considerar\", \"ambiente\", \"basica\", \"c\", \"esencial\", \"fondo\", \"caer \\u00e9l\", \"factores\", \"soler\", \"testear\", \"esperar\", \"interfaz\", \"tiempos\", \"aplicaciones\", \"programar\", \"collab\", \"dado\", \"integracion\", \"estudiante\", \"uncodes\", \"curso\", \"escribio\", \"visualizar\", \"mejorar\", \"evaluacion\", \"permitir\", \"pagina\", \"entender\", \"python\", \"uncode\", \"codigo\", \"deberiar\", \"tutor\", \"problema\", \"podia\", \"poder\", \"actividades\", \"especifico\", \"error\", \"calificacion\", \"mejorar \\u00e9l\", \"tema\", \"interesante\", \"seccion\", \"visualizador\", \"ayudo\", \"cometio\", \"compilador\", \"dar yo\", \"descubrir\", \"ponia\", \"retroalimentaciones\", \"gracia\", \"variado\", \"falencias\", \"motivo\", \"ahorrar\", \"analizar\", \"concentrar\", \"comprension\", \"pruebas\", \"podio\", \"momentos\", \"casos\", \"prueba\", \"mostrar\", \"errores\", \"programa\", \"uncodir\", \"probar\", \"cometer\", \"programar\", \"util\", \"ayudar\", \"inmediato\", \"colab\", \"quiz\", \"entregar\", \"recibir\", \"amigable\", \"evaluaciones\", \"usuario\", \"conveniente\", \"enviar\", \"dar \\u00e9l\", \"descargar \\u00e9l\", \"drive\", \"guardar\", \"valoracion\", \"recalcar\", \"tradicional\", \"divertido\", \"molestar\", \"obtener\", \"calificar\", \"conocimiento\", \"tareas\", \"sentido\", \"similar\", \"facil\", \"interactivo\", \"motivar\", \"asignado\", \"heramientar\", \"permitir\", \"uncodir\", \"errores\", \"practicar\", \"util\", \"trabajo\", \"parecio\", \"resultado\", \"oportunidad\", \"ide\", \"falla\", \"salida\", \"academico\", \"razon\", \"mayorio\", \"capacidad\", \"utilizado\", \"real\", \"eficiencia\", \"escritura\", \"proporcionar\", \"feedback\", \"cosa\", \"totalidad\", \"borro\", \"cancelar\", \"guardado\", \"materi\", \"notas\", \"obstante\", \"progreso\", \"semestrar\", \"cambiantenumber\", \"dificultar\", \"exponencial\", \"salido\", \"uncode\", \"facilitar\", \"distinto\", \"esperado\", \"servir\", \"personalmente\", \"retroalimentacion\", \"verificacion\", \"atento\", \"borran\", \"cerrar\", \"corregia\", \"correos\", \"datos\", \"inconveniente\", \"pestana\", \"presentar \\u00e9l\", \"rapidamente\", \"registrar\", \"submit\", \"visualizacion\", \"variables\", \"presentacion\", \"subir\", \"cambiar\", \"didactico\", \"enunciado\", \"explicacion\", \"solucionar \\u00e9l\", \"obtenido\", \"teniar\", \"funcionamiento\", \"comprobar\", \"ejercicios\", \"ejecucion\", \"codigo\", \"aprender\", \"uncodir\", \"permitiar\", \"permitir\", \"programar\", \"visualizar\", \"proceso\", \"intuitivo\", \"persona\", \"acerca\", \"escritorio\", \"importar\", \"tomar\", \"servicios\", \"dificil\", \"evidenciar\", \"entorno\", \"equivocar\", \"excelente\", \"flexible\", \"asegurar\", \"apoyo\", \"situacion\", \"caido\", \"x\", \"bad\", \"efectivamente\", \"fines\", \"gateway\", \"recientemente\", \"generar\", \"dificulto\", \"equivocacion\", \"debia\", \"excediar\", \"previsualizar\", \"realmente\", \"revisar\", \"visualizar\", \"prueba\", \"codigo\", \"problemas\", \"uncodir\", \"momento\", \"uncodes\", \"permitir\", \"uncode\", \"aprender\", \"errores\", \"seguimiento\", \"hacer \\u00e9l\", \"entrada\", \"intentar\", \"deteccion\", \"aspectos\", \"colaboro\", \"eficiente\", \"consejos\", \"estudiant\", \"aparte\", \"manejar\", \"marcar\", \"izquierdo\", \"estrictamente\", \"colocar\", \"belleza\", \"consola\", \"integrado\", \"pytutor\", \"area\", \"ejercitar \\u00e9l\", \"exigido\", \"letra\", \"pie\", \"hallar\", \"emitiar\", \"mensajes\", \"respuestar\", \"trabajas\", \"probar\", \"codigo\", \"permitir\", \"programacion\", \"errores\", \"sencillo\", \"python\", \"util\", \"uncodes\", \"tutor\", \"uncode\", \"corregir\"], \"Freq\": [97.0, 45.0, 76.0, 40.0, 31.0, 98.0, 32.0, 28.0, 30.0, 27.0, 16.0, 32.0, 13.0, 23.0, 54.0, 17.0, 18.0, 20.0, 45.0, 18.0, 19.0, 18.0, 14.0, 16.0, 16.0, 18.0, 11.0, 24.0, 8.0, 12.0, 12.734780677051335, 9.46805766912025, 9.453116514753082, 8.278610992683634, 8.120091915728104, 7.899885688675259, 7.559914429551552, 7.559880369965598, 7.559859410220397, 7.26036980297962, 28.15627371695991, 13.915276494299484, 5.816039525047261, 5.107920297331313, 4.853350568019969, 4.853347948051819, 4.853332228242917, 4.669286277606005, 4.468084775521345, 4.18794965899681, 4.187919005369452, 4.117473825739528, 3.9867423929822197, 3.7321857635116267, 3.7066512919226082, 3.5908479136917166, 7.86763597672037, 3.5481335249511536, 3.2935635336429945, 6.195618938672612, 18.886694355028965, 6.717553273753794, 14.38005884415141, 21.64398446790453, 15.768977319699902, 4.731951723810618, 6.181723151597389, 10.151725782077303, 7.695993479300307, 17.587670130676862, 11.09562380353747, 7.354248501738889, 9.95835641278096, 5.853869769162153, 4.991238443779648, 10.117620269234887, 8.350019699849993, 7.742484330821029, 6.085895244548463, 5.710772419698169, 5.503723444025887, 5.102889029049798, 4.7027712503077534, 4.431347335963207, 38.653358472622806, 6.242526801856243, 12.038835522126199, 3.7594522670784505, 3.5913656502433944, 3.591358236765111, 3.423166595654376, 3.407649773747711, 3.384330471877918, 15.904522109283256, 4.629204834144021, 2.6320732984031516, 2.592633388006516, 2.5443833823900928, 2.5443833823900928, 2.5443833823900928, 2.544366907993908, 3.679396174397576, 2.1925883025376365, 2.1925819187091147, 2.1282185121141803, 13.661525655228973, 21.609577501645354, 21.117256646055395, 12.746713143438235, 18.707154625458866, 4.862582366079223, 5.081827337247195, 3.856922208386683, 5.9813240147647235, 4.683062106431931, 4.2542043316854, 3.899256464263056, 14.072922241985061, 12.210332697516634, 10.008450787055532, 9.183345061699, 8.330366241638618, 5.937057152758934, 5.3396959483988455, 5.101327167359244, 4.92714997117751, 4.671541536086456, 4.617958145205577, 4.433160131709149, 4.205428999101182, 3.7477591798883765, 3.3780996536816104, 3.3072995602723787, 13.811989436060108, 2.8518585252153112, 2.6820426922107234, 2.639145913010759, 7.599735105769343, 4.6001248117565945, 2.155796208389034, 1.9280830544741618, 1.9280501572910513, 1.928042506783351, 1.7153624092365245, 1.715358775245367, 1.4876407441318358, 1.487636727615293, 7.154922347271977, 4.082106640229078, 9.64156763009314, 41.76674106879814, 17.443988401412565, 7.608827734170938, 3.190187692288541, 3.197360617045482, 8.356172169161898, 8.636885362745513, 3.4907407562281896, 5.739375684295502, 6.1195772275876505, 3.919915109604403, 3.8580522261101393, 3.71161938262425, 3.6741847615754573, 3.2518940889195007, 8.253531857968834, 2.8668409191252238, 14.517062377002368, 2.690546547607809, 2.6905449831777526, 5.0423483066363355, 2.44482136219805, 2.44482136219805, 2.444821831527067, 2.444821831527067, 2.444819171995971, 2.3057449381666095, 2.2438502967422007, 6.048041542653818, 13.88607391884175, 1.8834705355832402, 1.6601328136103113, 3.621894312710606, 1.2996843739718726, 17.556857609474484, 12.634304595752846, 1.076379505030129, 1.0763766890560276, 1.0763199002449784, 16.473569894201077, 6.565463016840479, 3.6650450482996595, 3.4508949111622558, 11.999729212358798, 17.393085561900925, 15.771453684865882, 9.035879549863106, 7.157733708420003, 4.57054436135174, 6.344887765461231, 2.5888667289747898, 2.827494564547448, 10.925711849012547, 6.313502653727445, 5.594413031532238, 5.189873374381491, 4.959868969605022, 4.103326313372255, 3.665182131231284, 3.4750325552956944, 3.43520116332943, 3.2848730963406894, 3.128330586743175, 3.128324374559542, 2.938185528759319, 2.9381332899424057, 2.7687914230852373, 2.7687871875054872, 2.4602206847874486, 2.441150975266325, 2.4410659812993476, 2.0816096938185127, 2.0816096938185127, 2.0816096938185127, 2.0816096938185127, 2.0816096938185127, 2.0816096938185127, 2.0816096938185127, 2.0816096938185127, 2.0816096938185127, 2.0815996696131047, 2.0815996696131047, 5.603108394386407, 8.884010493525752, 2.9997491156773735, 10.571129443149703, 5.328134557035294, 4.052668779565735, 15.767368046779056, 11.107257832988545, 9.116757295004165, 4.0519300944573855, 4.3774948258269575, 4.802119037406857, 4.730382999789918, 2.8481913187013, 8.875605131332867, 4.771300261577098, 4.363754307958822, 4.157097241327919, 4.0011543050740705, 3.704133248840165, 3.488426394019974, 3.4138855346578763, 3.1403701985649533, 3.1362929981517924, 2.36098123870484, 2.36098123870484, 2.36098123870484, 2.3609801298660003, 2.360967932638765, 2.360967932638765, 2.360967932638765, 1.818880463999797, 1.603170005453377, 5.703100783196685, 1.4110797546581266, 1.4110631220755327, 10.868927012737629, 1.2551228193139283, 1.2550629420165906, 1.0394683571289074, 5.276357502748642, 23.04092594691488, 1.8481611554222028, 0.8473380495305768, 8.453963618385762, 4.5408416920447525, 5.615726500314919, 15.995713244414398, 3.8082623637977986, 5.221579755234211, 6.881015847134455, 5.444911540334822, 6.591427614852011, 2.9811021318408937, 2.4526348078782814, 13.177567283215913, 6.4692104823539305, 6.3482713483087165, 5.767390803706417, 4.944637168726544, 13.96864743656275, 4.7504178646549375, 4.557917561250948, 4.404418144571113, 4.2102228462591045, 4.190746173306039, 3.8968083559718343, 3.000772197459726, 2.860361097473133, 2.4931381677502658, 2.1259564243796487, 2.1259564243796487, 2.1259564243796487, 2.1259564243796487, 2.1259557183278956, 2.1259557183278956, 2.1259528941208843, 2.1259528941208843, 2.1259521880691317, 1.8320034269327574, 1.4648121518634767, 1.443592472483199, 1.2706107344362765, 1.1301969279179638, 1.130173039833659, 11.820491568320445, 4.929083790013505, 5.123391115203633, 7.367001414822465, 5.375419112591923, 7.066798564934602, 3.912354909517929, 2.4931355788938387, 2.9409006562717868, 3.1594662722358926, 2.1545258671565533, 7.082904415987917, 6.140565898232802, 3.5039490324723457, 3.156449767683076, 3.0235296958068747, 2.7069029153748416, 2.6760622169183557, 2.5924519745126564, 2.359402318242427, 2.359388043137299, 2.359336843093575, 2.011897724080576, 2.011897724080576, 2.011897724080576, 2.011896391737431, 2.0118876363396194, 2.0118733612344917, 2.011802747047794, 2.011802747047794, 1.8465400453209544, 6.616235621920237, 2.854757792570214, 2.0135783797909257, 1.2024355012126047, 1.0695445505508634, 9.913532903193676, 0.8857782672229662, 0.8857572352347449, 0.7220554210862344, 0.7220554210862344, 17.5598700085237, 15.364103030023571, 8.043120314065828, 4.1566863988228935, 4.508375882803935, 4.536937381000247, 3.490344727784738, 3.2208161216481326, 3.220787361930229, 3.085205834670066, 3.0332934233454503, 2.730638104217775, 2.543110176875474, 2.543110176875474, 2.54310588159293, 2.543104947835855, 2.5430935559995427, 2.5430931824967127, 2.543092622242468, 2.5430888872141684, 2.5430621817618295, 2.5430306207727016, 2.3743892375280238, 2.2073240362255997, 2.052924502637103, 2.052924502637103, 2.052924502637103, 2.052924502637103, 2.052924502637103, 2.052924502637103, 2.052924502637103, 2.052924502637103, 2.0529103095295658, 2.0529103095295658, 2.0529103095295658, 2.4551345733109744, 2.900950165620675, 8.135681935978374, 5.209493996237519, 2.9526985328643267, 2.8223899165204767, 2.6241079891354335, 7.644751055741066, 2.1711106815036363, 1.972831710871356, 1.972831710871356, 1.972831710871356, 1.972831710871356, 1.972831710871356, 1.972831710871356, 1.972831710871356, 1.972831710871356, 1.972831710871356, 1.972831710871356, 1.972831710871356, 1.972831710871356, 1.7000370049672338, 1.650144932776373, 1.179096649528403, 1.1790956059686044, 1.1790945624088056, 1.1790931709957408, 1.1790934318856905, 1.179087953196748, 1.1790878662334314, 1.1790845616274026, 5.600844226253832, 3.1253920261345884, 3.6983943624388225, 4.685669763295275, 3.163575183458596, 5.5292344571678065, 2.554023730548319, 4.626206682411613, 2.461077859600149, 3.3571697880816225, 2.396769878424883, 2.1518103908819137, 5.9628926083504625, 5.285402626074158, 4.281241114554547, 3.001000721815741, 2.950496025097574, 2.6561063791554798, 2.38000953227318, 2.341813996224024, 2.3417354299659685, 2.197608042861889, 2.19760120518414, 2.1470894026439993, 1.7008849427985686, 1.3758815387817491, 1.0615894910305752, 1.0615866084801517, 1.061562341427749, 1.5376150075842616, 0.7472847734647491, 0.7166757079139694, 0.7166757079139694, 0.7166757079139694, 0.7166757079139694, 0.7166757079139694, 0.7166704791015732, 0.7166624347748098, 0.7166624347748098, 0.7166545245201593, 0.7166545245201593, 0.716652245294243, 1.3744902724680326, 2.1975503918534187, 2.7267661365791507, 2.31428952777064, 4.40390315419549, 2.6011330589202872, 2.2318658809603993, 1.0612725445561004, 1.7037207020547525, 1.8165052469351248, 1.3819796747567985, 1.0792406209588827, 1.1298295819998954, 3.9070402921153256, 3.7464748464767434, 2.642200672770722, 2.6241078579554102, 2.443899678557378, 1.972861858397961, 1.972861858397961, 1.8606289083486558, 1.700086923760886, 3.1398549930104056, 1.3396562897222635, 1.1791042503984315, 1.1791042503984315, 1.0488096428023537, 0.8685705544008702, 0.7382875531976544, 0.7080475000260575, 0.7080475000260575, 0.7080475000260575, 0.7080475000260575, 0.708044707043818, 0.708044707043818, 0.7080407348024106, 0.7080407348024106, 0.7080407348024106, 0.7080398658746028, 0.7080373211574511, 0.7080373211574511, 0.7080373211574511, 0.5278311899463944, 3.7506000191782984, 7.469062122720085, 3.6195716641147526, 2.1368089227996556, 2.6729718890980108, 1.566205878704128, 1.8730897055110352, 2.1556718559178214, 1.8871545434067285, 1.0567582219910474, 1.2046744372654876, 0.859626866673358], \"Total\": [97.0, 45.0, 76.0, 40.0, 31.0, 98.0, 32.0, 28.0, 30.0, 27.0, 16.0, 32.0, 13.0, 23.0, 54.0, 17.0, 18.0, 20.0, 45.0, 18.0, 19.0, 18.0, 14.0, 16.0, 16.0, 18.0, 11.0, 24.0, 8.0, 12.0, 13.435791836089717, 10.169071687306813, 10.154141656202388, 8.979631554718795, 8.821109673343273, 8.600908527788832, 8.26092342366282, 8.260917571093573, 8.260918133964351, 7.961390734934641, 31.40098493305018, 15.588715021675402, 6.517055003513427, 5.808946149556163, 5.554386256235393, 5.554384702680168, 5.554382215366828, 5.3703278623731086, 5.169095160165885, 4.8889909000494365, 4.888989348994763, 4.81849423497184, 4.687760217388742, 4.433200257354821, 4.407666045992952, 4.291857973932605, 9.42056399420342, 4.249143209214981, 3.994580771839199, 7.624083547626147, 23.68652810253119, 8.488556440545873, 19.932364741726346, 32.53454556907311, 24.078843035112822, 6.07791204921422, 9.188086904920464, 20.595102998478076, 14.095348025219169, 98.41515377810303, 45.70627761141219, 18.566535254623158, 76.32173192097417, 32.75312954050712, 7.308605662030329, 10.825609427268787, 9.058009422852825, 8.450478231145983, 6.793879411646656, 6.418771383245925, 6.211718584871581, 5.811274321683719, 5.410762081752406, 5.139337365137251, 45.020227237610584, 7.373208939434887, 14.256263497057994, 4.467434906710822, 4.299377549351866, 4.299376478232699, 4.131300648240137, 4.115640878668284, 4.092326173822444, 19.400810248090092, 5.792689315631042, 3.340055285184194, 3.3010209720168207, 3.2523719863231673, 3.2523719863231673, 3.2523719863231673, 3.2523694777473033, 4.732047596679672, 2.9005764581252422, 2.9005769476082452, 2.8362044708549026, 18.45060017443252, 30.86477843341231, 45.838582017269594, 45.70627761141219, 98.41515377810303, 20.595102998478076, 24.078843035112822, 11.935291778185276, 76.32173192097417, 40.1163702591757, 28.910457617251787, 15.980438556722444, 14.773620791131192, 12.911049082183183, 10.709155327010789, 9.884061473832562, 9.03107534482192, 6.637752138522544, 6.040385515570241, 5.802015181217861, 5.627839902389216, 5.372221572006787, 5.318667275509959, 5.133847668891975, 4.906128779710645, 4.448433940003751, 4.078779343436908, 4.007983248423621, 16.916985658806542, 3.552546151351416, 3.382713274559016, 3.339820749276061, 9.789475181974245, 6.037405935832147, 2.856476973779143, 2.62876045822076, 2.628752552387127, 2.628750858276494, 2.4160328033179628, 2.4160321649132173, 2.1883142622611502, 2.188313536206479, 10.76881101097107, 6.2516374885386625, 15.404475321623076, 97.63962246527052, 54.28469182733645, 20.8734864728295, 5.8003392335978035, 5.982496425149195, 40.1163702591757, 45.838582017269594, 7.660483933317362, 45.020227237610584, 98.41515377810303, 4.630768770430899, 4.568914673155581, 4.422504265336552, 4.3850360626639535, 3.9627547691429483, 10.087546864703421, 3.57792100704281, 18.29403673263051, 3.4014004328507452, 3.401400763374107, 6.411035033751536, 3.1556688656128773, 3.1556688656128773, 3.155670632520456, 3.155670632520456, 3.155669013369905, 3.016592925685749, 2.95473462348829, 8.166732727342366, 18.931492861461557, 2.5943127596070696, 2.370981505294177, 5.2845099042113155, 2.0105522757081298, 27.72644331551522, 20.8734864728295, 1.7872242601622785, 1.7872256164991736, 1.7872171685371505, 28.910457617251787, 11.935291778185276, 6.506310679805578, 6.593709080079003, 32.75312954050712, 98.41515377810303, 97.63962246527052, 45.70627761141219, 54.28469182733645, 17.462990775433, 76.32173192097417, 6.435697865744801, 19.932364741726346, 11.647014130079773, 7.034807544305636, 6.315719572483944, 5.911183457289587, 5.681204081665355, 4.824622745322688, 4.386494820812539, 4.196344801947308, 4.156514108241299, 4.006195071958224, 3.8496336396482724, 3.8496326035254156, 3.6594813831353283, 3.659483756025158, 3.4900878098572297, 3.490088552834439, 3.181524054280858, 3.162450005919563, 3.162453498172575, 2.8029041247054987, 2.8029041247054987, 2.8029041247054987, 2.802904179015622, 2.802904179015622, 2.802904179015622, 2.802904179015622, 2.80290428734172, 2.80290428734172, 2.802906410674662, 2.802906410674662, 8.018358535374631, 13.142181327231603, 4.202451582258287, 18.566535254623158, 11.59723001698008, 7.751860224467356, 97.63962246527052, 76.32173192097417, 98.41515377810303, 20.595102998478076, 32.53454556907311, 45.838582017269594, 54.28469182733645, 19.400810248090092, 9.588875372755984, 5.484904629912981, 5.077048907229458, 4.8703671956063115, 4.714426407084283, 4.4173923271344515, 4.201719187183894, 4.127145199399622, 3.8536488315537323, 3.8530455546366484, 3.0742425333615517, 3.0742425333615517, 3.0742425333615517, 3.0742418942784338, 3.0742419685285145, 3.0742419685285145, 3.0742419685285145, 2.5321356000054043, 2.3164612214025597, 8.283787974232293, 2.1243360005783676, 2.1243366307275053, 16.801929776381236, 1.968399680844466, 1.9683968268580334, 1.7527246361729567, 9.115758858235631, 40.1163702591757, 3.3921776738333698, 1.5605969544731204, 16.318858421307333, 8.895680718667803, 11.59723001698008, 76.32173192097417, 9.917010041138662, 15.980438556722444, 27.72644331551522, 45.838582017269594, 97.63962246527052, 10.76881101097107, 18.931492861461557, 13.897608628554499, 7.189240723254842, 7.0683046955901405, 6.4874176527442, 5.6646572593357645, 16.029438053334715, 5.4704551671929, 5.277977727788398, 5.124449012268678, 4.930248160432408, 4.910767189787894, 4.616828803529115, 3.7208041368908824, 3.580386724197878, 3.213185740205977, 2.8459767219718612, 2.8459767219718612, 2.8459767219718612, 2.8459767219718612, 2.8459775775404985, 2.8459775775404985, 2.8459777841827023, 2.8459777841827023, 2.845976857801782, 2.55203994666133, 2.184833433085217, 2.1636345685710676, 1.990631030147716, 1.8502140138122058, 1.8502170003390932, 32.75312954050712, 12.743357304612978, 15.404475321623076, 54.28469182733645, 30.86477843341231, 98.41515377810303, 28.910457617251787, 6.593709080079003, 16.801929776381236, 45.70627761141219, 19.932364741726346, 7.806214497184003, 6.863874720238347, 4.227260785278682, 3.8797556799689112, 3.746875479708736, 3.4302061544553597, 3.3993691345423915, 3.3157581532725158, 3.082701934434308, 3.082705476976466, 3.082707834249877, 2.735198838045606, 2.735198838045606, 2.735198838045606, 2.7351979791307968, 2.7351993070596485, 2.735202892622039, 2.7352334311588975, 2.7352334311588975, 2.5698513999444907, 9.659938055270873, 4.188560857214072, 3.1217876737672836, 1.9257432021651801, 1.7928627846135725, 17.462990775433, 1.6090765228045865, 1.6090791656251011, 1.4453559385684849, 1.4453559385684849, 76.32173192097417, 98.41515377810303, 54.28469182733645, 23.68652810253119, 45.70627761141219, 5.259092623823512, 4.212471661242108, 3.9429460161131664, 3.9429556585587116, 3.807358253939814, 3.7554141159209684, 3.4527618198903745, 3.2652310976983623, 3.265231377369188, 3.2652311581934126, 3.2652309975541627, 3.265231307471397, 3.265231517697983, 3.2652332288738877, 3.265233497778678, 3.2652408020689907, 3.2652340246196982, 3.096511150330705, 2.9294517298050216, 2.77504814289448, 2.77504814289448, 2.77504814289448, 2.77504814289448, 2.77504814289448, 2.77504814289448, 2.77504814289448, 2.77504814289448, 2.7750487419047554, 2.7750487419047554, 2.7750487419047554, 4.175805730887191, 45.838582017269594, 8.860139431032042, 5.93396223929406, 3.6771284613442057, 3.5468256908688813, 3.3485327527235857, 9.79426973677265, 2.8955522947317203, 2.697259427853943, 2.697259427853943, 2.697259427853943, 2.697259427853943, 2.697259427853943, 2.697259427853943, 2.697259427853943, 2.697259427853943, 2.697259427853943, 2.697259427853943, 2.697259427853943, 2.697259427853943, 2.4244949595466525, 2.3745802151484265, 1.9035195443245871, 1.9035197976678357, 1.9035200784187096, 1.903519651114204, 1.9035207441080437, 1.9035219158852026, 1.9035228209852326, 1.9035205814233558, 9.715947058720682, 5.852644050576281, 7.188395922493555, 32.53454556907311, 18.45060017443252, 97.63962246527052, 14.095348025219169, 98.41515377810303, 16.916985658806542, 76.32173192097417, 16.801929776381236, 16.318858421307333, 6.686655986895115, 6.00913755014949, 5.005005899934262, 3.7247750179815813, 3.674252857969919, 3.3798599770563857, 3.103765520596953, 3.0655540537528414, 3.0655636961743467, 2.921348214439796, 2.9213519693297756, 2.870828410533296, 2.4246298157903947, 2.0996296290948004, 1.7853207882221143, 1.785321245836847, 1.7853262254856712, 2.6217053174804086, 1.4710143974756333, 1.440406523550164, 1.440406523550164, 1.440406523550164, 1.440406523550164, 1.440406523550164, 1.4404082550163917, 1.4404097528804578, 1.4404097528804578, 1.440410148809665, 1.440410148809665, 1.4404138824186992, 3.019651520400353, 6.435697865744801, 16.318858421307333, 12.743357304612978, 97.63962246527052, 31.40098493305018, 98.41515377810303, 6.184452067670637, 40.1163702591757, 76.32173192097417, 45.838582017269594, 14.095348025219169, 54.28469182733645, 4.631466164935236, 4.470927078267393, 3.3666510486296763, 3.3485742265378144, 3.168357054618122, 2.6972883361251707, 2.6972883361251707, 2.58506109578507, 2.424516197038532, 4.492036099506915, 2.064081552301866, 1.9035374969538839, 1.9035400906692932, 1.7732313602361434, 1.5930216800092043, 1.4627094695311191, 1.4324698921747425, 1.4324698921747425, 1.4324698921747425, 1.4324698921747425, 1.4324696649007156, 1.4324696649007156, 1.4324713157492748, 1.4324713157492748, 1.4324713157492748, 1.4324697150813641, 1.4324708745048866, 1.4324708745048866, 1.4324708745048866, 1.252252558943689, 28.910457617251787, 97.63962246527052, 76.32173192097417, 24.078843035112822, 54.28469182733645, 14.256263497057994, 27.72644331551522, 45.70627761141219, 40.1163702591757, 18.931492861461557, 45.838582017269594, 13.142181327231603], \"Category\": [\"Default\", \"Default\", \"Default\", \"Default\", \"Default\", \"Default\", \"Default\", \"Default\", \"Default\", \"Default\", \"Default\", \"Default\", \"Default\", \"Default\", \"Default\", \"Default\", \"Default\", \"Default\", \"Default\", \"Default\", \"Default\", \"Default\", \"Default\", \"Default\", \"Default\", \"Default\", \"Default\", \"Default\", \"Default\", \"Default\", \"Topic1\", \"Topic1\", \"Topic1\", \"Topic1\", \"Topic1\", \"Topic1\", \"Topic1\", \"Topic1\", \"Topic1\", \"Topic1\", \"Topic1\", \"Topic1\", \"Topic1\", \"Topic1\", \"Topic1\", \"Topic1\", \"Topic1\", \"Topic1\", \"Topic1\", \"Topic1\", \"Topic1\", \"Topic1\", \"Topic1\", \"Topic1\", \"Topic1\", \"Topic1\", \"Topic1\", \"Topic1\", \"Topic1\", \"Topic1\", \"Topic1\", \"Topic1\", \"Topic1\", \"Topic1\", \"Topic1\", \"Topic1\", \"Topic1\", \"Topic1\", \"Topic1\", \"Topic1\", \"Topic1\", \"Topic1\", \"Topic1\", \"Topic1\", \"Topic1\", \"Topic2\", \"Topic2\", \"Topic2\", \"Topic2\", \"Topic2\", \"Topic2\", \"Topic2\", \"Topic2\", \"Topic2\", \"Topic2\", \"Topic2\", \"Topic2\", \"Topic2\", \"Topic2\", \"Topic2\", \"Topic2\", \"Topic2\", \"Topic2\", \"Topic2\", \"Topic2\", \"Topic2\", \"Topic2\", \"Topic2\", \"Topic2\", \"Topic2\", \"Topic2\", \"Topic2\", \"Topic2\", \"Topic2\", \"Topic2\", \"Topic2\", \"Topic2\", \"Topic2\", \"Topic2\", \"Topic2\", \"Topic2\", \"Topic2\", \"Topic2\", \"Topic2\", \"Topic2\", \"Topic2\", \"Topic2\", \"Topic3\", \"Topic3\", \"Topic3\", \"Topic3\", \"Topic3\", \"Topic3\", \"Topic3\", \"Topic3\", \"Topic3\", \"Topic3\", \"Topic3\", \"Topic3\", \"Topic3\", \"Topic3\", \"Topic3\", \"Topic3\", \"Topic3\", \"Topic3\", \"Topic3\", \"Topic3\", \"Topic3\", \"Topic3\", \"Topic3\", \"Topic3\", \"Topic3\", \"Topic3\", \"Topic3\", \"Topic3\", \"Topic3\", \"Topic3\", \"Topic3\", \"Topic3\", \"Topic3\", \"Topic3\", \"Topic3\", \"Topic3\", \"Topic3\", \"Topic3\", \"Topic3\", \"Topic3\", \"Topic3\", \"Topic3\", \"Topic3\", \"Topic4\", \"Topic4\", \"Topic4\", \"Topic4\", \"Topic4\", \"Topic4\", \"Topic4\", \"Topic4\", \"Topic4\", \"Topic4\", \"Topic4\", \"Topic4\", \"Topic4\", \"Topic4\", \"Topic4\", \"Topic4\", \"Topic4\", \"Topic4\", \"Topic4\", \"Topic4\", \"Topic4\", \"Topic4\", \"Topic4\", \"Topic4\", \"Topic4\", \"Topic4\", \"Topic4\", \"Topic4\", \"Topic4\", \"Topic4\", \"Topic4\", \"Topic4\", \"Topic4\", \"Topic4\", \"Topic4\", \"Topic4\", \"Topic4\", \"Topic4\", \"Topic4\", \"Topic4\", \"Topic4\", \"Topic4\", \"Topic5\", \"Topic5\", \"Topic5\", \"Topic5\", \"Topic5\", \"Topic5\", \"Topic5\", \"Topic5\", \"Topic5\", \"Topic5\", \"Topic5\", \"Topic5\", \"Topic5\", \"Topic5\", \"Topic5\", \"Topic5\", \"Topic5\", \"Topic5\", \"Topic5\", \"Topic5\", \"Topic5\", \"Topic5\", \"Topic5\", \"Topic5\", \"Topic5\", \"Topic5\", \"Topic5\", \"Topic5\", \"Topic5\", \"Topic5\", \"Topic5\", \"Topic5\", \"Topic5\", \"Topic5\", \"Topic5\", \"Topic5\", \"Topic5\", \"Topic5\", \"Topic5\", \"Topic5\", \"Topic5\", \"Topic5\", \"Topic5\", \"Topic5\", \"Topic6\", \"Topic6\", \"Topic6\", \"Topic6\", \"Topic6\", \"Topic6\", \"Topic6\", \"Topic6\", \"Topic6\", \"Topic6\", \"Topic6\", \"Topic6\", \"Topic6\", \"Topic6\", \"Topic6\", \"Topic6\", \"Topic6\", \"Topic6\", \"Topic6\", \"Topic6\", \"Topic6\", \"Topic6\", \"Topic6\", \"Topic6\", \"Topic6\", \"Topic6\", \"Topic6\", \"Topic6\", \"Topic6\", \"Topic6\", \"Topic6\", \"Topic6\", \"Topic6\", \"Topic6\", \"Topic6\", \"Topic6\", \"Topic6\", \"Topic6\", \"Topic6\", \"Topic6\", \"Topic6\", \"Topic7\", \"Topic7\", \"Topic7\", \"Topic7\", \"Topic7\", \"Topic7\", \"Topic7\", \"Topic7\", \"Topic7\", \"Topic7\", \"Topic7\", \"Topic7\", \"Topic7\", \"Topic7\", \"Topic7\", \"Topic7\", \"Topic7\", \"Topic7\", \"Topic7\", \"Topic7\", \"Topic7\", \"Topic7\", \"Topic7\", \"Topic7\", \"Topic7\", \"Topic7\", \"Topic7\", \"Topic7\", \"Topic7\", \"Topic7\", \"Topic7\", \"Topic7\", \"Topic7\", \"Topic7\", \"Topic7\", \"Topic7\", \"Topic7\", \"Topic7\", \"Topic7\", \"Topic7\", \"Topic7\", \"Topic8\", \"Topic8\", \"Topic8\", \"Topic8\", \"Topic8\", \"Topic8\", \"Topic8\", \"Topic8\", \"Topic8\", \"Topic8\", \"Topic8\", \"Topic8\", \"Topic8\", \"Topic8\", \"Topic8\", \"Topic8\", \"Topic8\", \"Topic8\", \"Topic8\", \"Topic8\", \"Topic8\", \"Topic8\", \"Topic8\", \"Topic8\", \"Topic8\", \"Topic8\", \"Topic8\", \"Topic8\", \"Topic8\", \"Topic8\", \"Topic8\", \"Topic8\", \"Topic8\", \"Topic8\", \"Topic8\", \"Topic9\", \"Topic9\", \"Topic9\", \"Topic9\", \"Topic9\", \"Topic9\", \"Topic9\", \"Topic9\", \"Topic9\", \"Topic9\", \"Topic9\", \"Topic9\", \"Topic9\", \"Topic9\", \"Topic9\", \"Topic9\", \"Topic9\", \"Topic9\", \"Topic9\", \"Topic9\", \"Topic9\", \"Topic9\", \"Topic9\", \"Topic9\", \"Topic9\", \"Topic9\", \"Topic9\", \"Topic9\", \"Topic9\", \"Topic9\", \"Topic9\", \"Topic9\", \"Topic10\", \"Topic10\", \"Topic10\", \"Topic10\", \"Topic10\", \"Topic10\", \"Topic10\", \"Topic10\", \"Topic10\", \"Topic10\", \"Topic10\", \"Topic10\", \"Topic10\", \"Topic10\", \"Topic10\", \"Topic10\", \"Topic10\", \"Topic10\", \"Topic10\", \"Topic10\", \"Topic10\", \"Topic10\", \"Topic10\", \"Topic10\", \"Topic10\", \"Topic10\", \"Topic10\", \"Topic10\", \"Topic10\", \"Topic10\", \"Topic10\", \"Topic10\", \"Topic10\", \"Topic10\", \"Topic10\", \"Topic10\", \"Topic10\", \"Topic10\", \"Topic10\", \"Topic10\", \"Topic10\", \"Topic11\", \"Topic11\", \"Topic11\", \"Topic11\", \"Topic11\", \"Topic11\", \"Topic11\", \"Topic11\", \"Topic11\", \"Topic11\", \"Topic11\", \"Topic11\", \"Topic11\", \"Topic11\", \"Topic11\", \"Topic11\", \"Topic11\", \"Topic11\", \"Topic11\", \"Topic11\", \"Topic11\", \"Topic11\", \"Topic11\", \"Topic11\", \"Topic11\", \"Topic11\", \"Topic11\", \"Topic11\", \"Topic11\", \"Topic11\", \"Topic11\", \"Topic11\", \"Topic11\", \"Topic11\", \"Topic11\", \"Topic11\", \"Topic11\", \"Topic11\", \"Topic11\", \"Topic11\", \"Topic11\", \"Topic11\", \"Topic11\", \"Topic12\", \"Topic12\", \"Topic12\", \"Topic12\", \"Topic12\", \"Topic12\", \"Topic12\", \"Topic12\", \"Topic12\", \"Topic12\", \"Topic12\", \"Topic12\", \"Topic12\", \"Topic12\", \"Topic12\", \"Topic12\", \"Topic12\", \"Topic12\", \"Topic12\", \"Topic12\", \"Topic12\", \"Topic12\", \"Topic12\", \"Topic12\", \"Topic12\", \"Topic12\", \"Topic12\", \"Topic12\", \"Topic12\", \"Topic12\", \"Topic12\", \"Topic12\", \"Topic12\", \"Topic12\", \"Topic12\", \"Topic12\", \"Topic12\", \"Topic12\", \"Topic12\", \"Topic12\", \"Topic12\", \"Topic12\"], \"logprob\": [30.0, 29.0, 28.0, 27.0, 26.0, 25.0, 24.0, 23.0, 22.0, 21.0, 20.0, 19.0, 18.0, 17.0, 16.0, 15.0, 14.0, 13.0, 12.0, 11.0, 10.0, 9.0, 8.0, 7.0, 6.0, 5.0, 4.0, 3.0, 2.0, 1.0, -3.7883, -4.0847, -4.0863, -4.219, -4.2383, -4.2658, -4.3098, -4.3098, -4.3098, -4.3502, -2.9949, -3.6996, -4.572, -4.7018, -4.753, -4.753, -4.753, -4.7916, -4.8357, -4.9004, -4.9004, -4.9174, -4.9497, -5.0156, -5.0225, -5.0542, -4.2699, -5.0662, -5.1407, -4.5088, -3.3942, -4.4279, -3.6668, -3.2579, -3.5746, -4.7783, -4.511, -4.015, -4.2919, -3.4654, -3.9261, -4.3374, -4.0342, -4.5655, -4.7249, -3.7776, -3.9696, -4.0451, -4.2859, -4.3495, -4.3864, -4.462, -4.5437, -4.6031, -2.4372, -4.2604, -3.6037, -4.7676, -4.8133, -4.8133, -4.8613, -4.8658, -4.8727, -3.3252, -4.5594, -5.1241, -5.1392, -5.1579, -5.1579, -5.1579, -5.158, -4.7891, -5.3068, -5.3068, -5.3365, -3.4772, -3.0187, -3.0417, -3.5466, -3.1629, -4.5103, -4.4662, -4.742, -4.3032, -4.5479, -4.6439, -4.731, -3.3737, -3.5157, -3.7145, -3.8006, -3.898, -4.2367, -4.3428, -4.3884, -4.4232, -4.4765, -4.488, -4.5288, -4.5816, -4.6968, -4.8006, -4.8218, -3.3924, -4.97, -5.0314, -5.0475, -3.9898, -4.4919, -5.2498, -5.3614, -5.3614, -5.3614, -5.4783, -5.4783, -5.6208, -5.6208, -4.0501, -4.6113, -3.7519, -2.2858, -3.1589, -3.9886, -4.8579, -4.8556, -3.8949, -3.8619, -4.7678, -4.2706, -4.2065, -4.4509, -4.4668, -4.5055, -4.5157, -4.6378, -3.7063, -4.7638, -3.1417, -4.8272, -4.8272, -4.1991, -4.923, -4.923, -4.923, -4.923, -4.923, -4.9816, -5.0088, -4.0173, -3.1861, -5.1839, -5.3101, -4.53, -5.5549, -2.9515, -3.2806, -5.7434, -5.7434, -5.7434, -3.0152, -3.9352, -4.5181, -4.5784, -3.3321, -2.9609, -3.0588, -3.6158, -3.8488, -4.2974, -3.9693, -4.8658, -4.7776, -3.3233, -3.8717, -3.9926, -4.0677, -4.113, -4.3026, -4.4155, -4.4688, -4.4803, -4.525, -4.5739, -4.5739, -4.6366, -4.6366, -4.696, -4.696, -4.8141, -4.8219, -4.8219, -4.9812, -4.9812, -4.9812, -4.9812, -4.9812, -4.9812, -4.9812, -4.9812, -4.9812, -4.9812, -4.9812, -3.9911, -3.5301, -4.6158, -3.3562, -4.0414, -4.315, -2.9564, -3.3068, -3.5043, -4.3152, -4.2379, -4.1453, -4.1604, -4.6677, -3.5126, -4.1333, -4.2226, -4.2711, -4.3093, -4.3865, -4.4465, -4.4681, -4.5516, -4.5529, -4.8368, -4.8368, -4.8368, -4.8368, -4.8369, -4.8369, -4.8369, -5.0977, -5.2239, -3.9549, -5.3516, -5.3516, -3.31, -5.4687, -5.4687, -5.6572, -4.0327, -2.5587, -5.0817, -5.8616, -3.5613, -4.1828, -3.9704, -2.9236, -4.3588, -4.0431, -3.7672, -4.0012, -3.8102, -4.6036, -4.7988, -2.9537, -3.6652, -3.684, -3.78, -3.9339, -2.8954, -3.974, -4.0154, -4.0496, -4.0947, -4.0993, -4.1721, -4.4334, -4.4813, -4.6187, -4.778, -4.778, -4.778, -4.778, -4.778, -4.778, -4.778, -4.778, -4.778, -4.9268, -5.1505, -5.1651, -5.2927, -5.4098, -5.4099, -3.0624, -3.9371, -3.8984, -3.5352, -3.8504, -3.5768, -4.1681, -4.6187, -4.4535, -4.3818, -4.7647, -3.3622, -3.505, -4.066, -4.1705, -4.2135, -4.3241, -4.3356, -4.3673, -4.4615, -4.4615, -4.4616, -4.6209, -4.6209, -4.6209, -4.6209, -4.6209, -4.6209, -4.6209, -4.6209, -4.7066, -3.4304, -4.2709, -4.62, -5.1356, -5.2527, -3.026, -5.4412, -5.4412, -5.6456, -5.6456, -2.4543, -2.5879, -3.2351, -3.8952, -3.814, -3.7887, -4.0509, -4.1313, -4.1313, -4.1743, -4.1913, -4.2964, -4.3675, -4.3675, -4.3675, -4.3675, -4.3675, -4.3675, -4.3675, -4.3675, -4.3676, -4.3676, -4.4362, -4.5091, -4.5817, -4.5817, -4.5817, -4.5817, -4.5817, -4.5817, -4.5817, -4.5817, -4.5817, -4.5817, -4.5817, -4.4027, -4.2359, -3.1335, -3.5793, -4.1471, -4.1922, -4.265, -3.1958, -4.4545, -4.5503, -4.5503, -4.5503, -4.5503, -4.5503, -4.5503, -4.5503, -4.5503, -4.5503, -4.5503, -4.5503, -4.5503, -4.6991, -4.7289, -5.065, -5.065, -5.065, -5.065, -5.065, -5.065, -5.065, -5.065, -3.5069, -4.0902, -3.9219, -3.6853, -4.0781, -3.5197, -4.2921, -3.698, -4.3292, -4.0187, -4.3557, -4.4635, -3.184, -3.3046, -3.5153, -3.8706, -3.8876, -3.9927, -4.1024, -4.1186, -4.1186, -4.1822, -4.1822, -4.2054, -4.4384, -4.6504, -4.9098, -4.9098, -4.9098, -4.5393, -5.2608, -5.3027, -5.3027, -5.3027, -5.3027, -5.3027, -5.3027, -5.3027, -5.3027, -5.3027, -5.3027, -5.3027, -4.6514, -4.1822, -3.9664, -4.1304, -3.487, -4.0136, -4.1667, -4.9101, -4.4367, -4.3726, -4.646, -4.8933, -4.8475, -3.5297, -3.5717, -3.9209, -3.9278, -3.9989, -4.213, -4.213, -4.2716, -4.3618, -3.7483, -4.6001, -4.7277, -4.7277, -4.8448, -5.0334, -5.1959, -5.2377, -5.2377, -5.2377, -5.2377, -5.2377, -5.2377, -5.2378, -5.2378, -5.2378, -5.2378, -5.2378, -5.2378, -5.2378, -5.5315, -3.5706, -2.8817, -3.6061, -4.1332, -3.9093, -4.4438, -4.2649, -4.1244, -4.2574, -4.8373, -4.7063, -5.0438], \"loglift\": [30.0, 29.0, 28.0, 27.0, 26.0, 25.0, 24.0, 23.0, 22.0, 21.0, 20.0, 19.0, 18.0, 17.0, 16.0, 15.0, 14.0, 13.0, 12.0, 11.0, 10.0, 9.0, 8.0, 7.0, 6.0, 5.0, 4.0, 3.0, 2.0, 1.0, 1.7668, 1.749, 1.7489, 1.7391, 1.7376, 1.7354, 1.7318, 1.7318, 1.7317, 1.7283, 1.7114, 1.7069, 1.7066, 1.6918, 1.6855, 1.6855, 1.6855, 1.6806, 1.6747, 1.6657, 1.6657, 1.6632, 1.6585, 1.6483, 1.6472, 1.6421, 1.6403, 1.6401, 1.6275, 1.613, 1.594, 1.5864, 1.4939, 1.4129, 1.3971, 1.5701, 1.4241, 1.113, 1.2153, 0.0984, 0.4047, 0.8944, -0.2161, 0.0985, 1.4391, 1.9936, 1.9798, 1.9737, 1.9512, 1.9444, 1.9402, 1.9312, 1.921, 1.913, 1.9088, 1.8948, 1.8922, 1.8887, 1.8813, 1.8813, 1.8732, 1.8725, 1.8713, 1.8625, 1.837, 1.823, 1.8197, 1.8157, 1.8157, 1.8157, 1.8157, 1.8096, 1.7814, 1.7814, 1.774, 1.7607, 1.7048, 1.2862, 0.7843, 0.4009, 0.6177, 0.5056, 0.9316, -0.4851, -0.0866, 0.1449, 0.6506, 2.0865, 2.0793, 2.0674, 2.0616, 2.0544, 2.0236, 2.0118, 2.0064, 2.0022, 1.9954, 1.9938, 1.9884, 1.981, 1.9637, 1.9466, 1.943, 1.9323, 1.9154, 1.903, 1.8997, 1.8819, 1.8632, 1.8537, 1.8251, 1.8251, 1.8251, 1.7926, 1.7926, 1.7492, 1.7492, 1.7263, 1.7089, 1.6665, 1.2859, 0.9999, 1.1259, 1.5373, 1.5086, 0.5663, 0.466, 1.3492, 0.0754, -0.6426, 2.1694, 2.167, 2.1608, 2.1592, 2.1384, 2.1354, 2.1145, 2.1048, 2.1016, 2.1016, 2.0959, 2.0808, 2.0808, 2.0808, 2.0808, 2.0808, 2.0673, 2.0609, 2.0357, 2.0261, 2.0159, 1.9797, 1.9583, 1.8998, 1.8791, 1.834, 1.829, 1.829, 1.829, 1.7736, 1.7384, 1.7621, 1.6886, 1.332, 0.603, 0.513, 0.715, 0.31, 0.9956, -0.1512, 1.4254, 0.3831, 2.3748, 2.3305, 2.3174, 2.3086, 2.3029, 2.2768, 2.259, 2.2501, 2.2481, 2.2402, 2.2312, 2.2312, 2.2192, 2.2191, 2.2072, 2.2072, 2.1816, 2.1798, 2.1798, 2.1412, 2.1412, 2.1412, 2.1412, 2.1412, 2.1412, 2.1412, 2.1412, 2.1412, 2.1412, 2.1412, 2.0803, 2.0471, 2.1015, 1.8755, 1.6609, 1.7901, 0.6153, 0.5113, 0.0596, 0.8128, 0.4329, 0.1826, -0.0015, 0.5201, 2.3798, 2.3178, 2.3057, 2.2988, 2.2931, 2.281, 2.2711, 2.2674, 2.2525, 2.2513, 2.1932, 2.1932, 2.1932, 2.1932, 2.1932, 2.1932, 2.1932, 2.1263, 2.0891, 2.0838, 2.048, 2.048, 2.0216, 2.0072, 2.0071, 1.9347, 1.9104, 1.9026, 1.8499, 1.8464, 1.7995, 1.7847, 1.7319, 0.8945, 1.5001, 1.3386, 1.0635, 0.3267, -0.2384, 1.1728, 0.4135, 2.5676, 2.5153, 2.5134, 2.5032, 2.4849, 2.4832, 2.4797, 2.4742, 2.4694, 2.463, 2.4623, 2.4513, 2.4058, 2.3963, 2.3671, 2.3292, 2.3292, 2.3292, 2.3292, 2.3292, 2.3292, 2.3291, 2.3291, 2.3291, 2.2894, 2.221, 2.2162, 2.1719, 2.1279, 2.1279, 1.6017, 1.671, 1.52, 0.6236, 0.8731, -0.013, 0.6208, 1.6483, 0.8781, -0.051, 0.3961, 2.7359, 2.7218, 2.6455, 2.6268, 2.6186, 2.5963, 2.5939, 2.587, 2.5657, 2.5657, 2.5657, 2.526, 2.526, 2.526, 2.526, 2.526, 2.526, 2.5259, 2.5259, 2.5026, 2.4547, 2.4498, 2.3946, 2.3622, 2.3165, 2.2669, 2.2362, 2.2362, 2.1391, 2.1391, 1.3638, 0.976, 0.9237, 1.0929, 0.5168, 2.7044, 2.6641, 2.6498, 2.6498, 2.6418, 2.6386, 2.6175, 2.6022, 2.6022, 2.6022, 2.6022, 2.6022, 2.6022, 2.6022, 2.6022, 2.6022, 2.6022, 2.5866, 2.5691, 2.5507, 2.5507, 2.5507, 2.5507, 2.5507, 2.5507, 2.5507, 2.5507, 2.5507, 2.5507, 2.5507, 2.321, 0.092, 2.838, 2.7931, 2.7039, 2.6948, 2.6795, 2.6755, 2.6353, 2.6105, 2.6105, 2.6105, 2.6105, 2.6105, 2.6105, 2.6105, 2.6105, 2.6105, 2.6105, 2.6105, 2.6105, 2.5683, 2.5593, 2.4443, 2.4443, 2.4443, 2.4443, 2.4443, 2.4443, 2.4443, 2.4443, 2.3724, 2.2959, 2.2587, 0.9855, 1.1599, 0.052, 1.2151, -0.1342, 0.9956, -0.2006, 0.9759, 0.8973, 3.069, 3.0552, 3.0273, 2.9675, 2.9642, 2.9426, 2.918, 2.9142, 2.9142, 2.8989, 2.8989, 2.893, 2.829, 2.7609, 2.6637, 2.6637, 2.6637, 2.6499, 2.5063, 2.4855, 2.4855, 2.4855, 2.4855, 2.4855, 2.4855, 2.4855, 2.4855, 2.4854, 2.4854, 2.4854, 2.3965, 2.109, 1.3943, 1.4776, 0.0847, 0.6926, -0.6028, 1.421, 0.0246, -0.5545, -0.3181, 0.6139, -0.6886, 3.0905, 3.0838, 3.0183, 3.0168, 3.0009, 2.9478, 2.9478, 2.9317, 2.9056, 2.9024, 2.8283, 2.7816, 2.7816, 2.7354, 2.654, 2.5769, 2.5559, 2.5559, 2.5559, 2.5559, 2.5559, 2.5559, 2.5559, 2.5559, 2.5559, 2.5559, 2.5559, 2.5559, 2.5559, 2.3966, 1.2183, 0.69, 0.212, 0.8385, 0.2495, 1.052, 0.5658, 0.2064, 0.2038, 0.3749, -0.3784, 0.5335]}, \"token.table\": {\"Topic\": [9, 4, 11, 7, 2, 5, 7, 1, 4, 11, 5, 6, 8, 4, 7, 5, 12, 1, 6, 6, 11, 1, 6, 8, 10, 11, 1, 2, 5, 10, 12, 11, 8, 12, 10, 5, 5, 1, 4, 7, 7, 11, 6, 5, 2, 4, 12, 10, 9, 3, 6, 6, 2, 6, 11, 7, 5, 8, 9, 10, 9, 9, 3, 1, 2, 4, 7, 10, 4, 1, 1, 1, 2, 3, 4, 5, 6, 10, 11, 12, 8, 12, 6, 12, 4, 7, 7, 5, 9, 5, 7, 1, 2, 7, 2, 10, 7, 2, 1, 8, 9, 1, 12, 6, 12, 5, 8, 3, 10, 1, 5, 6, 12, 3, 7, 10, 3, 9, 6, 3, 5, 1, 11, 5, 6, 6, 1, 3, 7, 8, 10, 3, 6, 11, 3, 1, 6, 1, 8, 7, 5, 6, 4, 12, 3, 10, 5, 11, 9, 11, 4, 10, 8, 4, 8, 2, 3, 11, 2, 9, 12, 2, 5, 10, 2, 3, 1, 5, 6, 10, 12, 12, 4, 7, 1, 2, 4, 5, 6, 2, 11, 3, 12, 3, 4, 8, 10, 8, 11, 11, 4, 7, 1, 2, 3, 4, 5, 7, 8, 11, 12, 6, 5, 11, 9, 6, 3, 2, 7, 10, 6, 5, 12, 4, 12, 3, 6, 7, 5, 2, 5, 6, 8, 11, 3, 11, 11, 5, 12, 10, 9, 3, 4, 8, 5, 10, 6, 7, 9, 3, 6, 2, 9, 11, 11, 4, 6, 1, 2, 5, 7, 4, 6, 10, 2, 4, 4, 11, 11, 3, 7, 5, 9, 8, 1, 6, 5, 12, 12, 8, 2, 4, 8, 9, 1, 4, 2, 11, 10, 3, 3, 8, 6, 12, 12, 8, 7, 6, 9, 10, 4, 11, 12, 4, 12, 3, 2, 12, 6, 12, 9, 9, 2, 5, 6, 7, 7, 12, 3, 2, 8, 3, 5, 11, 7, 3, 7, 8, 7, 1, 1, 4, 1, 9, 3, 5, 3, 9, 8, 10, 3, 6, 4, 3, 9, 2, 1, 4, 1, 2, 6, 11, 9, 2, 3, 5, 2, 1, 1, 6, 3, 10, 6, 1, 2, 4, 5, 6, 8, 10, 11, 12, 11, 10, 10, 12, 4, 7, 7, 7, 1, 7, 3, 1, 4, 2, 1, 8, 10, 2, 10, 11, 1, 2, 4, 7, 12, 3, 7, 1, 11, 3, 11, 1, 1, 2, 7, 1, 2, 5, 12, 6, 7, 10, 3, 4, 9, 9, 1, 4, 7, 11, 7, 1, 4, 6, 11, 12, 12, 8, 10, 5, 9, 9, 1, 11, 8, 8, 11, 5, 10, 5, 2, 3, 5, 5, 1, 5, 12, 3, 5, 9, 5, 5, 7, 10, 7, 4, 5, 11, 5, 9, 1, 7, 3, 9, 4, 7, 12, 1, 9, 1, 3, 2, 12, 8, 2, 3, 11, 10, 8, 4, 1, 11, 4, 6, 2, 10, 10, 2, 10, 2, 2, 5, 4, 8, 7, 1, 2, 3, 4, 2, 10, 2, 6, 1, 5, 6, 3, 11, 9, 3, 12, 9, 8, 5, 4, 6, 11, 12, 2, 3, 5, 6, 9, 11, 12, 2, 3, 6, 11, 12, 1, 2, 3, 4, 5, 7, 8, 10, 11, 1, 2, 1, 8, 1, 2, 4, 6, 7, 8, 10, 12, 9, 6, 8, 5, 10, 7, 1, 10, 1, 3, 4, 1, 10, 7, 2, 6, 10, 11, 2, 11], \"Freq\": [0.9187711099881042, 0.4973757768361399, 0.8054177730244954, 0.9248672308714361, 0.9659162626286365, 0.7792951455296437, 0.7027464030557121, 0.9413662479827294, 0.7799052685996878, 0.15598105371993756, 0.7135450518016399, 0.7786048613907206, 0.874583003153737, 0.6337800293777394, 0.7836867924487121, 0.7135456337487606, 0.48447698148592966, 0.751017483774331, 0.47073518647444196, 0.8212933110276587, 0.5601232844407577, 0.5675631410935388, 0.07094539263669235, 0.07094539263669235, 0.21283617791007703, 0.07094539263669235, 0.906915376437887, 0.2580025880352382, 0.5160051760704764, 0.1290012940176191, 0.6980950623267195, 0.5601234280119683, 0.691871097849035, 0.7414854293527734, 0.7414933763309847, 0.7135450518016399, 0.944448068590491, 0.7023752666281712, 0.15050898570603669, 0.10033932380402445, 0.806277323295714, 0.6942484525377629, 0.6505667585742125, 0.6324210647619232, 0.8631569427533352, 0.17263138855066704, 0.6980949515677591, 0.7414933763309847, 0.7207082173046282, 0.5172111283807062, 0.34480741892047073, 0.6505667585742125, 0.8981887255900792, 0.6505668781033849, 0.7628622433897724, 0.9140007270301224, 0.2070406651219378, 0.7246423279267824, 0.7207080617356031, 0.5253425016828397, 0.7207082173046282, 0.9187711381666916, 0.9294364790665693, 0.18318860164429654, 0.09159430082214827, 0.3663772032885931, 0.3663772032885931, 0.7414933763309847, 0.6337800590530498, 0.9022827230427662, 0.9675648565111629, 0.9684147388516611, 0.9466919837168917, 0.43015324045255293, 0.16386790112478208, 0.16386790112478208, 0.07169220674209216, 0.06145046292179328, 0.04096697528119552, 0.07169220674209216, 0.8741418287121142, 0.7414854293527734, 0.5080269061875627, 0.6836627647734833, 0.45497912685648173, 0.30331941790432115, 0.8378983140912234, 0.7138690217551249, 0.23795634058504164, 0.8595770435577004, 0.6224352283698957, 0.9001897181495802, 0.8603964850434619, 0.46218525740251576, 0.41733928297028766, 0.5564523772937169, 0.4577007953360975, 0.9347583270625608, 0.8181650059889064, 0.7162364597933485, 0.23874548659778283, 0.8850365379205591, 0.8249068422157523, 0.7784829731852982, 0.6980949515677591, 0.7135455923458607, 0.6487815048414697, 0.9105568620578636, 0.7414933763309847, 0.15218173834322674, 0.6848178225445203, 0.07609086917161337, 0.07609086917161337, 0.8281702527777505, 0.16563405055555008, 0.7414933763309847, 0.8991928516750385, 0.6458881957477859, 0.7878592609782041, 0.748506122419531, 0.7135456337487606, 0.822650930042073, 0.1645301860084146, 0.2947958792706569, 0.5895917585413138, 0.5080276427778061, 0.5221602231424308, 0.3916201673568231, 0.7027464365956871, 0.6487802631762102, 0.7414933763309847, 0.6500253363967968, 0.2785822870271986, 0.6942467052362733, 0.9337804611702524, 0.8980855689858743, 0.06414896921327674, 0.9001894663675875, 0.7312082661709045, 0.7027464365956871, 0.7135456199228325, 0.9055116013647779, 0.8384757500500359, 0.6312419861533117, 0.8153067682491435, 0.5253426196123907, 0.7792949357835774, 0.6524085611060337, 0.7207080617356031, 0.6942468960656862, 0.6337797041900365, 0.8426073167251616, 0.7311990184152638, 0.9044649275642023, 0.7312082661709045, 0.9224037141555644, 0.7791427128306886, 0.6942484525377629, 0.8453000351912507, 0.9187705103180758, 0.7736761050874157, 0.7587829050352609, 0.05419877893109007, 0.1625963367932702, 0.8137569475224805, 0.8884403406495847, 0.6762043119149295, 0.12294623852998718, 0.030736559632496795, 0.15368279816248398, 0.6980950623267195, 0.6980944728426928, 0.7930570343115034, 0.09913212928893793, 0.2503060216903329, 0.2503060216903329, 0.12515301084516645, 0.06257650542258322, 0.3128825271129161, 0.7783104544048892, 0.684614528135357, 0.45697275626523404, 0.8910932427110574, 0.8277617359209193, 0.9121931821855895, 0.7732445667877826, 0.5253423179628034, 0.6487807592834365, 0.6942468960656862, 0.6966630233495816, 0.062385218787627, 0.873393063026778, 0.09210699797105823, 0.018421399594211647, 0.313163793101598, 0.12894979715948152, 0.09210699797105823, 0.12894979715948152, 0.14737119675369317, 0.018421399594211647, 0.055264198782634937, 0.6407804379815761, 0.7149078880762739, 0.8164925267711558, 0.9187704346537192, 0.6505667585742125, 0.7001631794545794, 0.7261635633509144, 0.8826659356591502, 0.8158540098714213, 0.8633859187977468, 0.7135455923458607, 0.6277378472301909, 0.22261619850066847, 0.6678485955020054, 0.21940027496373493, 0.5485006874093373, 0.10970013748186747, 0.8800951221126225, 0.7289265726631433, 0.43113743477358407, 0.5173649217283008, 0.8825166909694399, 0.6846154080894201, 0.45697290788299755, 0.6942467052362733, 0.8248681868774382, 0.8290803677609545, 0.6980942578085311, 0.5253419945706094, 0.7207080617356031, 0.11452791939932806, 0.2863197984983202, 0.5726395969966404, 0.7488402202376039, 0.9029203278653312, 0.6505668781033849, 0.7027461743080166, 0.7988466537635857, 0.639832365093679, 0.3199161825468395, 0.9088097365728318, 0.9187702864113729, 0.6942484525377629, 0.47627447533740674, 0.7709170733535292, 0.6505668938160857, 0.4855523179825308, 0.2427761589912654, 0.19422092719301232, 0.04855523179825308, 0.8819895709743044, 0.3417258905063721, 0.512588835759558, 0.1639878635779162, 0.8199393178895811, 0.8819896566796377, 0.6942484525377629, 0.6942476180050913, 0.7608176308162097, 0.7027462253333723, 0.8458543092304251, 0.7207082173046282, 0.7312082661709045, 0.907509770082612, 0.9115928785218141, 0.9500105144219104, 0.8946690317190568, 0.6980950378718479, 0.691871097849035, 0.3351405289739961, 0.5864959257044932, 0.08378513224349902, 0.7879479155647179, 0.9301342961796017, 0.5595264474548015, 0.9224037141555644, 0.8876107354638945, 0.7414933763309847, 0.7355141691661372, 0.7608148523938435, 0.8967214521872496, 0.5705402773270092, 0.6980949515677591, 0.8959036882696744, 0.6214744829270277, 0.8113181872064589, 0.7243063220188292, 0.12071772033647153, 0.12071772033647153, 0.6337800590530498, 0.832066158957472, 0.5639422031577587, 0.8754814405928372, 0.6980942578085311, 0.9039204650590497, 0.6895179945662734, 0.5253376944768567, 0.7139934551434602, 0.525336978665049, 0.7207082173046282, 0.9187710929660001, 0.1124141065339132, 0.2248282130678264, 0.5620705326695661, 0.1124141065339132, 0.9473325311084861, 0.6980944728426928, 0.9400851267802975, 0.9224044256121532, 0.7311990184152638, 0.48508743655441483, 0.16169581218480494, 0.16169581218480494, 0.5404771439332402, 0.6491619994329259, 0.3245809997164629, 0.6214734621907283, 0.7027461743080166, 0.8909051503116519, 0.18923230689814452, 0.7569292275925781, 0.8301348522882226, 0.7207082173046282, 0.8858302798444595, 0.7217586472404295, 0.930713659699679, 0.7207082173046282, 0.7782551162464881, 0.5253423628612678, 0.9476349906317071, 0.7268947068875627, 0.8637874612831931, 0.861769547964279, 0.7608505547071268, 0.7330793960633506, 0.8181647464223246, 0.6768797387424415, 0.20167368911631775, 0.3025105336744766, 0.4033473782326355, 0.10083684455815888, 0.7121709630956679, 0.8662772800804258, 0.1332734277046809, 0.7135456337487606, 0.8953683900332475, 0.8532859648329347, 0.8492060565505941, 0.10615075706882426, 0.8275706016640124, 0.11822437166628749, 0.9385876497645278, 0.13102428034985242, 0.07861456820991145, 0.07861456820991145, 0.14412670838483765, 0.20963884855976386, 0.23584370462973434, 0.03930728410495572, 0.026204856069970483, 0.052409712139940966, 0.7991998570975786, 0.895914784635121, 0.7414933763309847, 0.6980942578085311, 0.5595268720833058, 0.8488598409945955, 0.8345804836652587, 0.5404780163455721, 0.9206612491018296, 0.7027464365956871, 0.827803548746148, 0.3073938670355293, 0.6147877340710586, 0.9240842462584549, 0.8021437298769684, 0.16887236418462492, 0.5253426490847107, 0.9237355242847439, 0.7414933763309847, 0.6942449057217016, 0.9310418522176664, 0.13835823884064266, 0.5534329553625706, 0.13835823884064266, 0.13835823884064266, 0.827803330009998, 0.9354127280062958, 0.8916917752643302, 0.09553840449260681, 0.8982518000854625, 0.8973095089322881, 0.8792433675292369, 0.09719817060965467, 0.7127865844708009, 0.16199695101609113, 0.6644837535037751, 0.20765117296992971, 0.04153023459398594, 0.08306046918797189, 0.6546867024443163, 0.1785509188484499, 0.1190339458989666, 0.38326132102624066, 0.6227996466676411, 0.7207082173046282, 0.9187683793792717, 0.3138890250336179, 0.07847225625840447, 0.3923612812920223, 0.15694451251680894, 0.5023532663035974, 0.8607413240320758, 0.6491997475178334, 0.25246656847915744, 0.03606665263987963, 0.07213330527975927, 0.6980949515677591, 0.9462392322541084, 0.7414933763309847, 0.9118898262506222, 0.918771031294301, 0.9187709918085767, 0.33116404103060787, 0.33116404103060787, 0.7312081407881055, 0.8006671201769442, 0.6942484525377629, 0.6286295391383027, 0.7414933763309847, 0.8595772265462633, 0.9303674661317957, 0.5014628988976261, 0.334308599265084, 0.8197877624297825, 0.8863378417123607, 0.6324203663882175, 0.6980944728426928, 0.2494276093014038, 0.7482828279042114, 0.7608524153615744, 0.8529017975561725, 0.8197882939985596, 0.10210051661590383, 0.8168041329272306, 0.7027464365956871, 0.46614991296717917, 0.15538330432239306, 0.3107666086447861, 0.7135456199228325, 0.8688696633280225, 0.8246396250090612, 0.11780566071558017, 0.23947474198890475, 0.4789494839778095, 0.7570491172858598, 0.8145366793844626, 0.8636573943439213, 0.9001901212644196, 0.7207082173046282, 0.7869798333818331, 0.13116330556363884, 0.8417352837562515, 0.14028921395937524, 0.5192800363390431, 0.6895181109249847, 0.8868620413567544, 0.652410613197835, 0.8458267367701052, 0.5577671691230607, 0.6629996321248246, 0.7738298243810301, 0.5601217221395854, 0.5595290922694677, 0.6505668781033849, 0.8831962549979768, 0.5253417447774102, 0.5253425791658092, 0.9224037141555644, 0.7414933763309847, 0.9303672343460515, 0.8247078238175705, 0.15463271696579448, 0.6337797041900365, 0.6406585613769361, 0.7805717239889434, 0.6841250207239942, 0.2736500082895977, 0.12244798910242065, 0.7346879346145239, 0.3087707232108998, 0.6175414464217996, 0.883147850654264, 0.789847115610922, 0.37702241716084134, 0.5924637983956078, 0.47073532611024904, 0.8444647506855828, 0.644378573937936, 0.6827216095255872, 0.7608171405040892, 0.7985609555020824, 0.950734348611806, 0.7312071822513855, 0.7135456199228325, 0.7395085058769721, 0.10564407226813888, 0.05282203613406944, 0.05282203613406944, 0.45812935470142363, 0.19634115201489583, 0.10907841778605325, 0.10907841778605325, 0.06544705067163195, 0.021815683557210648, 0.021815683557210648, 0.12463739784275135, 0.19941983654840215, 0.5733320300766562, 0.04985495913710054, 0.04985495913710054, 0.18289866254321624, 0.1930596993511727, 0.06096622084773875, 0.17273762573525978, 0.09144933127160812, 0.0711272576556952, 0.15241555211934688, 0.05080518403978229, 0.020322073615912917, 0.6530195090761322, 0.21767316969204406, 0.9684154249394074, 0.9047704510774178, 0.2406671594112372, 0.2844248247587349, 0.19690949406373953, 0.04375766534749768, 0.0656364980212465, 0.10939416336874419, 0.02187883267374884, 0.04375766534749768, 0.9187710509621468, 0.8484595271206848, 0.7312084957870467, 0.7135456199228325, 0.8422541328531145, 0.7027462253333723, 0.9684153589548843, 0.6907145153754872, 0.20430104401129495, 0.8172041760451798, 0.8435325182985145, 0.9319972898205722, 0.8249140680308829, 0.8663955650559081, 0.12255759247158028, 0.4902303698863211, 0.12255759247158028, 0.18383638870737043, 0.7051677763546964, 0.6798029996960411], \"Term\": [\"academico\", \"acceder\", \"acerca\", \"actividades\", \"adecuado\", \"agilizar\", \"ahorrar\", \"algoritmo\", \"algun\", \"algun\", \"alto\", \"ambiente\", \"amigable\", \"analisis\", \"analizar\", \"aparecia\", \"aparte\", \"aplicacion\", \"aplicaciones\", \"aplicar\", \"apoyo\", \"aprender\", \"aprender\", \"aprender\", \"aprender\", \"aprender\", \"aprendido\", \"aprendizaje\", \"aprendizaje\", \"aprendizaje\", \"area\", \"asegurar\", \"asignado\", \"aspectos\", \"atento\", \"autonoma\", \"ayuda\", \"ayudar\", \"ayudar\", \"ayudar\", \"ayudo\", \"bad\", \"basica\", \"basico\", \"bastante\", \"bastante\", \"belleza\", \"borran\", \"borro\", \"brindar\", \"brindar\", \"c\", \"caer\", \"caer \\u00e9l\", \"caido\", \"calificacion\", \"calificar\", \"calificar\", \"cambiantenumber\", \"cambiar\", \"cancelar\", \"capacidad\", \"caso\", \"casos\", \"casos\", \"casos\", \"casos\", \"cerrar\", \"claridad\", \"claro\", \"clase\", \"clases\", \"code\", \"codigo\", \"codigo\", \"codigo\", \"codigo\", \"codigo\", \"codigo\", \"codigo\", \"colab\", \"colaboro\", \"collab\", \"colocar\", \"cometer\", \"cometer\", \"cometio\", \"comodo\", \"comodo\", \"comparacion\", \"compilador\", \"completamente\", \"completo\", \"comprension\", \"comprobar\", \"comprobar\", \"concentrar\", \"conceptos\", \"conllevar\", \"conocimiento\", \"conocimiento\", \"conocimientos\", \"consejos\", \"considerar\", \"consola\", \"constatar\", \"conveniente\", \"correcto\", \"corregia\", \"corregir\", \"corregir\", \"corregir\", \"corregir\", \"corregir \\u00e9l\", \"corregir \\u00e9l\", \"correos\", \"correr\", \"cosa\", \"cosas\", \"crear\", \"cumplia\", \"cumplir\", \"cumplir\", \"curso\", \"curso\", \"dado\", \"dar\", \"dar\", \"dar yo\", \"dar \\u00e9l\", \"datos\", \"deberiar\", \"deberiar\", \"debia\", \"dejar\", \"desarrollar\", \"desarrollar\", \"descargar\", \"descargar \\u00e9l\", \"descubrir\", \"deseado\", \"desempeno\", \"detallado\", \"deteccion\", \"detectar\", \"didactico\", \"diferenciar\", \"dificil\", \"dificultar\", \"dificulto\", \"disposicion\", \"distinto\", \"divertido\", \"docente\", \"drive\", \"duro\", \"editor\", \"efectivamente\", \"efectivo\", \"eficiencia\", \"eficiente\", \"ejecucion\", \"ejecucion\", \"ejecucion\", \"ejecutar\", \"ejercicio\", \"ejercicios\", \"ejercicios\", \"ejercicios\", \"ejercicios\", \"ejercitar \\u00e9l\", \"emitiar\", \"encontrar\", \"encontrar\", \"entender\", \"entender\", \"entender\", \"entender\", \"entender\", \"entendimiento\", \"entorno\", \"entornos\", \"entrada\", \"entradas\", \"entrega\", \"entregar\", \"enunciado\", \"enviar\", \"equivocacion\", \"equivocar\", \"error\", \"error\", \"errores\", \"errores\", \"errores\", \"errores\", \"errores\", \"errores\", \"errores\", \"errores\", \"errores\", \"escribio\", \"escribir\", \"escritorio\", \"escritura\", \"esencial\", \"espacio\", \"especificar\", \"especifico\", \"esperado\", \"esperar\", \"estar\", \"estrictamente\", \"estudiant\", \"estudiant\", \"estudiante\", \"estudiante\", \"estudiante\", \"estudiantes\", \"evalua\", \"evaluacion\", \"evaluacion\", \"evaluaciones\", \"evidenciar\", \"evitar\", \"excediar\", \"excelente\", \"exelente\", \"exigido\", \"explicacion\", \"exponencial\", \"facil\", \"facil\", \"facil\", \"facilidad\", \"facilitar\", \"factores\", \"falencias\", \"falla\", \"fallar\", \"fallar\", \"fallas\", \"feedback\", \"fines\", \"flexible\", \"flujo\", \"fondo\", \"forma\", \"forma\", \"forma\", \"forma\", \"funcional\", \"funcionamiento\", \"funcionamiento\", \"funcionar\", \"funcionar\", \"funciones\", \"gateway\", \"generar\", \"google\", \"gracia\", \"gracias\", \"guardado\", \"guardar\", \"guia\", \"habilidades\", \"hacer\", \"hacer \\u00e9l\", \"hallar\", \"heramientar\", \"hora\", \"hora\", \"hora\", \"ide\", \"identificar\", \"implementacion\", \"implementar\", \"importar\", \"inconveniente\", \"ingresar\", \"iniciar\", \"inmediato\", \"integracion\", \"integrado\", \"intentar\", \"interactivo\", \"interesante\", \"interfaz\", \"interfaz\", \"interfaz\", \"interpretacion\", \"intuitivo\", \"izquierdo\", \"lenguaje\", \"letra\", \"linea\", \"llevar\", \"manejar\", \"manejo\", \"marcar\", \"materi\", \"mayorio\", \"mejorar\", \"mejorar\", \"mejorar\", \"mejorar\", \"mejorar \\u00e9l\", \"mensajes\", \"metodo\", \"modulo\", \"molestar\", \"momento\", \"momento\", \"momento\", \"momentos\", \"mostrar\", \"mostrar\", \"motivar\", \"motivo\", \"necesario\", \"necesidad\", \"necesidad\", \"nivel\", \"notas\", \"number\", \"objetivo\", \"observar\", \"obstante\", \"obtener\", \"obtenido\", \"ocasiones\", \"ofrecer\", \"opcion\", \"opciones\", \"oportunidad\", \"optimo\", \"orden\", \"organizado\", \"pagina\", \"pagina\", \"pagina\", \"pagina\", \"parecio\", \"paso\", \"paso\", \"pedia\", \"pedir\", \"pensamiento\", \"pensar\", \"pensar\", \"permitiar\", \"permitiar\", \"permitio\", \"permitir\", \"permitir\", \"permitir\", \"permitir\", \"permitir\", \"permitir\", \"permitir\", \"permitir\", \"permitir\", \"persona\", \"personalmente\", \"pestana\", \"pie\", \"plus\", \"poder\", \"podia\", \"podio\", \"poner\", \"ponia\", \"posibilidad\", \"posible\", \"posible\", \"practica\", \"practicar\", \"practicar\", \"presentacion\", \"presentar\", \"presentar \\u00e9l\", \"previsualizar\", \"principio\", \"probar\", \"probar\", \"probar\", \"probar\", \"probar \\u00e9l\", \"problema\", \"problemas\", \"problemas\", \"procedimiento\", \"proceso\", \"profesor\", \"programa\", \"programa\", \"programa\", \"programacion\", \"programacion\", \"programacion\", \"programacion\", \"programar\", \"programar\", \"programar\", \"programas\", \"programas\", \"progreso\", \"proporcionar\", \"prueba\", \"prueba\", \"prueba\", \"prueba\", \"pruebas\", \"puesto\", \"python\", \"python\", \"python\", \"python\", \"pytutor\", \"quiz\", \"rapidamente\", \"rapido\", \"razon\", \"real\", \"realmente\", \"realmente\", \"recalcar\", \"recibir\", \"recientemente\", \"reforzar\", \"registrar\", \"repasar\", \"requerido\", \"requerir\", \"requerir\", \"resolucion\", \"resolver\", \"respuesta\", \"respuestar\", \"respuestas\", \"respuestas\", \"resultado\", \"resultados\", \"resultar\", \"retroalimentacion\", \"retroalimentacion\", \"retroalimentaciones\", \"revisar\", \"revisar\", \"revisar\", \"sacar\", \"salida\", \"salidas\", \"salidas\", \"salido\", \"salido\", \"salir\", \"seccion\", \"seguimiento\", \"seguir\", \"semestrar\", \"semestre\", \"semestre\", \"sencillo\", \"sencillo\", \"sentido\", \"sentir\", \"serio\", \"servicios\", \"servir\", \"similar\", \"simple\", \"sistema\", \"situacion\", \"situaciones\", \"soler\", \"solucion\", \"solucionar \\u00e9l\", \"subir\", \"submission\", \"submit\", \"taller\", \"talleres\", \"talleres\", \"tanto\", \"tareas\", \"tema\", \"temas\", \"temas\", \"tener\", \"tener\", \"teniar\", \"teniar\", \"test\", \"testear\", \"tiempo\", \"tiempo\", \"tiempos\", \"tocar\", \"tomar\", \"totalidad\", \"totalmente\", \"trabajas\", \"trabajo\", \"tradicional\", \"trampa\", \"tutor\", \"tutor\", \"tutor\", \"tutor\", \"uncode\", \"uncode\", \"uncode\", \"uncode\", \"uncode\", \"uncode\", \"uncode\", \"uncodes\", \"uncodes\", \"uncodes\", \"uncodes\", \"uncodes\", \"uncodir\", \"uncodir\", \"uncodir\", \"uncodir\", \"uncodir\", \"uncodir\", \"uncodir\", \"uncodir\", \"uncodir\", \"unico\", \"unico\", \"usar\", \"usuario\", \"util\", \"util\", \"util\", \"util\", \"util\", \"util\", \"util\", \"util\", \"utilizado\", \"utilizar\", \"valoracion\", \"valores\", \"variables\", \"variado\", \"ver\", \"verificacion\", \"verificar\", \"verificar\", \"versatil\", \"visto\", \"visualizacion\", \"visualizador\", \"visualizar\", \"visualizar\", \"visualizar\", \"visualizar\", \"visualize\", \"x\"]}, \"R\": 30, \"lambda.step\": 0.01, \"plot.opts\": {\"xlab\": \"PC1\", \"ylab\": \"PC2\"}, \"topic.order\": [6, 4, 10, 2, 11, 8, 12, 3, 9, 5, 1, 7]};\n",
              "\n",
              "function LDAvis_load_lib(url, callback){\n",
              "  var s = document.createElement('script');\n",
              "  s.src = url;\n",
              "  s.async = true;\n",
              "  s.onreadystatechange = s.onload = callback;\n",
              "  s.onerror = function(){console.warn(\"failed to load library \" + url);};\n",
              "  document.getElementsByTagName(\"head\")[0].appendChild(s);\n",
              "}\n",
              "\n",
              "if(typeof(LDAvis) !== \"undefined\"){\n",
              "   // already loaded: just create the visualization\n",
              "   !function(LDAvis){\n",
              "       new LDAvis(\"#\" + \"ldavis_el1061404718075460806643961044\", ldavis_el1061404718075460806643961044_data);\n",
              "   }(LDAvis);\n",
              "}else if(typeof define === \"function\" && define.amd){\n",
              "   // require.js is available: use it to load d3/LDAvis\n",
              "   require.config({paths: {d3: \"https://d3js.org/d3.v5\"}});\n",
              "   require([\"d3\"], function(d3){\n",
              "      window.d3 = d3;\n",
              "      LDAvis_load_lib(\"https://cdn.jsdelivr.net/gh/bmabey/pyLDAvis@3.3.1/pyLDAvis/js/ldavis.v3.0.0.js\", function(){\n",
              "        new LDAvis(\"#\" + \"ldavis_el1061404718075460806643961044\", ldavis_el1061404718075460806643961044_data);\n",
              "      });\n",
              "    });\n",
              "}else{\n",
              "    // require.js not available: dynamically load d3 & LDAvis\n",
              "    LDAvis_load_lib(\"https://d3js.org/d3.v5.js\", function(){\n",
              "         LDAvis_load_lib(\"https://cdn.jsdelivr.net/gh/bmabey/pyLDAvis@3.3.1/pyLDAvis/js/ldavis.v3.0.0.js\", function(){\n",
              "                 new LDAvis(\"#\" + \"ldavis_el1061404718075460806643961044\", ldavis_el1061404718075460806643961044_data);\n",
              "            })\n",
              "         });\n",
              "}\n",
              "</script>"
            ],
            "text/plain": [
              "PreparedData(topic_coordinates=              x         y  topics  cluster       Freq\n",
              "topic                                                \n",
              "5      0.220053 -0.104549       1        1  16.195563\n",
              "3      0.096142 -0.003295       2        1  12.729741\n",
              "9     -0.137651  0.164149       3        1  11.823071\n",
              "1      0.059991  0.151284       4        1   9.670662\n",
              "10    -0.037697  0.021021       5        1   8.727536\n",
              "7     -0.111184 -0.007340       6        1   8.567981\n",
              "11     0.129563  0.051639       7        1   7.274202\n",
              "2      0.071313 -0.003610       8        1   5.882854\n",
              "8     -0.133454 -0.212282       9        1   5.772101\n",
              "4     -0.039561 -0.063486      10        1   5.375714\n",
              "0     -0.057199 -0.020962      11        1   4.143893\n",
              "6     -0.060314  0.027431      12        1   3.836681, topic_info=          Term       Freq      Total Category  logprob  loglift\n",
              "45      codigo  97.000000  97.000000  Default  30.0000  30.0000\n",
              "220       paso  45.000000  45.000000  Default  29.0000  29.0000\n",
              "172   permitir  76.000000  76.000000  Default  28.0000  28.0000\n",
              "131    uncodes  40.000000  40.000000  Default  27.0000  27.0000\n",
              "135  problemas  31.000000  31.000000  Default  26.0000  26.0000\n",
              "..         ...        ...        ...      ...      ...      ...\n",
              "44        util   2.155672  45.706278  Topic12  -4.1244   0.2064\n",
              "131    uncodes   1.887155  40.116370  Topic12  -4.2574   0.2038\n",
              "161      tutor   1.056758  18.931493  Topic12  -4.8373   0.3749\n",
              "6       uncode   1.204674  45.838582  Topic12  -4.7063  -0.3784\n",
              "177   corregir   0.859627  13.142181  Topic12  -5.0438   0.5335\n",
              "\n",
              "[521 rows x 6 columns], token_table=      Topic      Freq         Term\n",
              "term                              \n",
              "695       9  0.918771    academico\n",
              "246       4  0.497376      acceder\n",
              "278      11  0.805418       acerca\n",
              "458       7  0.924867  actividades\n",
              "227       2  0.965916     adecuado\n",
              "...     ...       ...          ...\n",
              "56        6  0.490230   visualizar\n",
              "56       10  0.122558   visualizar\n",
              "56       11  0.183836   visualizar\n",
              "484       2  0.705168    visualize\n",
              "312      11  0.679803            x\n",
              "\n",
              "[563 rows x 3 columns], R=30, lambda_step=0.01, plot_opts={'xlab': 'PC1', 'ylab': 'PC2'}, topic_order=[6, 4, 10, 2, 11, 8, 12, 3, 9, 5, 1, 7])"
            ]
          },
          "execution_count": 34,
          "metadata": {},
          "output_type": "execute_result"
        }
      ],
      "source": [
        "# Visualize the topics\n",
        "pyLDAvis.enable_notebook()\n",
        "vis = gensimvis.prepare(optimal_model, corpus, id2word)\n",
        "vis"
      ]
    },
    {
      "cell_type": "code",
      "execution_count": null,
      "metadata": {
        "colab": {
          "background_save": true
        },
        "id": "vagfAW4N5JGV",
        "outputId": "9d5d3982-9307-446f-d23b-a5f240e3ada1"
      },
      "outputs": [
        {
          "name": "stdout",
          "output_type": "stream",
          "text": [
            "Num Topics = 2  has Coherence Value of -5.3333\n",
            "Num Topics = 3  has Coherence Value of -6.8096\n",
            "Num Topics = 4  has Coherence Value of -8.1684\n",
            "Num Topics = 5  has Coherence Value of -8.3598\n",
            "Num Topics = 6  has Coherence Value of -8.1594\n",
            "Num Topics = 7  has Coherence Value of -10.2917\n",
            "Num Topics = 8  has Coherence Value of -11.0203\n",
            "Num Topics = 9  has Coherence Value of -10.4155\n",
            "Num Topics = 10  has Coherence Value of -11.0317\n",
            "Num Topics = 11  has Coherence Value of -12.5892\n",
            "Num Topics = 12  has Coherence Value of -11.8584\n",
            "Num Topics = 13  has Coherence Value of -12.0775\n",
            "Num Topics = 14  has Coherence Value of -12.8484\n",
            "Num Topics = 15  has Coherence Value of -11.8162\n",
            "Num Topics = 16  has Coherence Value of -12.7782\n",
            "Num Topics = 17  has Coherence Value of -13.2114\n",
            "Num Topics = 18  has Coherence Value of -13.4234\n",
            "Num Topics = 19  has Coherence Value of -13.9606\n",
            "Num Topics = 20  has Coherence Value of -13.5044\n",
            "Num Topics = 21  has Coherence Value of -13.3448\n",
            "Num Topics = 22  has Coherence Value of -13.471\n",
            "Num Topics = 23  has Coherence Value of -13.1792\n",
            "Num Topics = 24  has Coherence Value of -13.4894\n",
            "Num Topics = 25  has Coherence Value of -13.7626\n",
            "Num Topics = 26  has Coherence Value of -13.9708\n",
            "Num Topics = 27  has Coherence Value of -14.2105\n",
            "Num Topics = 28  has Coherence Value of -13.6387\n",
            "Num Topics = 29  has Coherence Value of -13.5635\n",
            "Num Topics = 30  has Coherence Value of -13.8378\n",
            "Num Topics = 31  has Coherence Value of -14.1929\n",
            "Num Topics = 32  has Coherence Value of -14.364\n",
            "Num Topics = 33  has Coherence Value of -14.4467\n",
            "Num Topics = 34  has Coherence Value of -13.6521\n",
            "Num Topics = 35  has Coherence Value of -13.5647\n",
            "Num Topics = 36  has Coherence Value of -14.5766\n",
            "Num Topics = 37  has Coherence Value of -14.2514\n",
            "Num Topics = 38  has Coherence Value of -13.5698\n",
            "Num Topics = 39  has Coherence Value of -13.9674\n"
          ]
        }
      ],
      "source": [
        "# Print the coherence scores\n",
        "for m, cv in zip(x, coherence_values):\n",
        "    print(\"Num Topics =\", m, \" has Coherence Value of\", round(cv, 4))"
      ]
    },
    {
      "cell_type": "markdown",
      "metadata": {
        "id": "EqoO_HrOUWDB"
      },
      "source": [
        "#### try PCA to reduce the dimensionality before k-meanss\n",
        "\n",
        "---\n",
        "\n"
      ]
    },
    {
      "cell_type": "code",
      "execution_count": null,
      "metadata": {
        "colab": {
          "background_save": true
        },
        "id": "j_2YGTKKUeeZ"
      },
      "outputs": [],
      "source": [
        "#https://365datascience.com/tutorials/python-tutorials/pca-k-means/"
      ]
    },
    {
      "cell_type": "markdown",
      "metadata": {
        "id": "aqY5UNAnQBuB"
      },
      "source": [
        "#### Embeddings stage"
      ]
    },
    {
      "cell_type": "code",
      "execution_count": null,
      "metadata": {
        "colab": {
          "background_save": true
        },
        "id": "pkbSxyELQRdF"
      },
      "outputs": [],
      "source": []
    },
    {
      "cell_type": "markdown",
      "metadata": {
        "id": "GBdAbq4_PQbd"
      },
      "source": [
        "#### Kmeans clustering"
      ]
    },
    {
      "cell_type": "code",
      "execution_count": null,
      "metadata": {
        "colab": {
          "background_save": true
        },
        "id": "FQ0VvIKSbxGK"
      },
      "outputs": [],
      "source": [
        "#https://github.com/ashishsalunkhe/Topic-Modeling-using-LDA-and-K-Means-Clustering/blob/master/kmeans-cluster-and-topic-modeling.ipynb\n",
        "#https://github.com/ashishsalunkhe/Topic-Modeling-using-LDA-and-K-Means-Clustering/blob/master/news_exploration_using_gensim_and_sklearn.ipynb"
      ]
    },
    {
      "cell_type": "code",
      "execution_count": null,
      "metadata": {
        "colab": {
          "background_save": true
        },
        "id": "Fg_usRXPGegr"
      },
      "outputs": [],
      "source": [
        "## nltk example code clusters\n",
        "from nltk.cluster import KMeansClusterer\n",
        "import nltk\n",
        "\n",
        "def clustering_question(data,NUM_CLUSTERS = 15):\n",
        "\n",
        "    sentences = data['text']\n",
        "\n",
        "    X = np.array(data['emb'].tolist())\n",
        "\n",
        "    kclusterer = KMeansClusterer(\n",
        "        NUM_CLUSTERS, distance=nltk.cluster.util.cosine_distance,\n",
        "        repeats=25,avoid_empty_clusters=True)\n",
        "\n",
        "    assigned_clusters = kclusterer.cluster(X, assign_clusters=True)\n",
        "\n",
        "    data['cluster'] = pd.Series(assigned_clusters, index=data.index)\n",
        "    data['centroid'] = data['cluster'].apply(lambda x: kclusterer.means()[x])\n",
        "\n",
        "    return data, assigned_clusters"
      ]
    },
    {
      "cell_type": "code",
      "execution_count": null,
      "metadata": {
        "colab": {
          "background_save": true
        },
        "id": "LUeIr7rzGm4P",
        "outputId": "88a78505-046c-4b92-bc66-8b6549edce6d"
      },
      "outputs": [
        {
          "ename": "NameError",
          "evalue": "ignored",
          "output_type": "error",
          "traceback": [
            "\u001b[0;31m---------------------------------------------------------------------------\u001b[0m",
            "\u001b[0;31mNameError\u001b[0m                                 Traceback (most recent call last)",
            "\u001b[0;32m<ipython-input-39-74a02846ee7d>\u001b[0m in \u001b[0;36m<module>\u001b[0;34m\u001b[0m\n\u001b[1;32m      8\u001b[0m \u001b[0mX\u001b[0m \u001b[0;34m=\u001b[0m \u001b[0miris\u001b[0m\u001b[0;34m.\u001b[0m\u001b[0mdata\u001b[0m\u001b[0;34m\u001b[0m\u001b[0;34m\u001b[0m\u001b[0m\n\u001b[1;32m      9\u001b[0m \u001b[0;34m\u001b[0m\u001b[0m\n\u001b[0;32m---> 10\u001b[0;31m \u001b[0mX\u001b[0m \u001b[0;34m=\u001b[0m \u001b[0mget_document_topicsRaw\u001b[0m\u001b[0;34m\u001b[0m\u001b[0;34m\u001b[0m\u001b[0m\n\u001b[0m\u001b[1;32m     11\u001b[0m \u001b[0;34m\u001b[0m\u001b[0m\n\u001b[1;32m     12\u001b[0m \u001b[0msil_score_max\u001b[0m \u001b[0;34m=\u001b[0m \u001b[0;34m-\u001b[0m\u001b[0;36m1\u001b[0m \u001b[0;31m#this is the minimum possible score\u001b[0m\u001b[0;34m\u001b[0m\u001b[0;34m\u001b[0m\u001b[0m\n",
            "\u001b[0;31mNameError\u001b[0m: name 'get_document_topicsRaw' is not defined"
          ]
        }
      ],
      "source": [
        "#### sklearn example\n",
        "#https://scikit-learn.org/stable/modules/clustering.html\n",
        "from sklearn.datasets import load_iris\n",
        "from sklearn.cluster import KMeans\n",
        "from sklearn.metrics import silhouette_score\n",
        "\n",
        "iris = load_iris()\n",
        "X = iris.data\n",
        "\n",
        "X = get_document_topicsRaw\n",
        "\n",
        "sil_score_max = -1 #this is the minimum possible score\n",
        "\n",
        "for n_clusters in range(2,20):\n",
        "  model = KMeans(n_clusters = n_clusters, init='k-means++', max_iter=100, n_init=1)\n",
        "  labels = model.fit_predict(X)\n",
        "  sil_score = silhouette_score(X, labels)\n",
        "  print(\"The average silhouette score for %i clusters is %0.2f\" %(n_clusters,sil_score))\n",
        "  if sil_score > sil_score_max:\n",
        "    sil_score_max = sil_score\n",
        "    best_n_clusters = n_clusters"
      ]
    },
    {
      "cell_type": "code",
      "execution_count": null,
      "metadata": {
        "colab": {
          "background_save": true
        },
        "id": "w9xAH8gSeg6W"
      },
      "outputs": [],
      "source": [
        "#https://towardsdatascience.com/latent-semantic-analysis-deduce-the-hidden-topic-from-the-document-f360e8c0614b\n",
        "\n",
        "from sklearn.feature_extraction.text import TfidfVectorizer\n",
        "from sklearn.cluster import KMeans\n",
        "\n",
        "documents = [\"some text\", \"some other text\", \"more text\"]\n",
        "\n",
        "tfidf_vectorizer = TfidfVectorizer(max_df=0.5, max_features=10000, min_df=2, stop_words='english', use_idf=True)\n",
        "X = tfidf_vectorizer.fit_transform(documents)\n",
        "\n",
        "svd = TruncatedSVD(1000)\n",
        "normalizer = Normalizer(copy=False)\n",
        "lsa = make_pipeline(svd, normalizer)\n",
        "Xnew = lsa.fit_transform(X)\n",
        "\n",
        "model = KMeans(n_clusters=10, init='k-means++', max_iter=100, n_init=1, verbose=False)\n",
        "model.fit(Xnew)"
      ]
    },
    {
      "cell_type": "code",
      "execution_count": null,
      "metadata": {
        "colab": {
          "background_save": true
        },
        "id": "SdLIWiT0K_M4"
      },
      "outputs": [],
      "source": []
    }
  ],
  "metadata": {
    "colab": {
      "collapsed_sections": [
        "aqY5UNAnQBuB"
      ],
      "provenance": []
    },
    "kernelspec": {
      "display_name": "Python 3",
      "name": "python3"
    },
    "language_info": {
      "name": "python"
    }
  },
  "nbformat": 4,
  "nbformat_minor": 0
}